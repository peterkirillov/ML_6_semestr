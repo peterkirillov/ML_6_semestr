{
  "nbformat": 4,
  "nbformat_minor": 0,
  "metadata": {
    "colab": {
      "name": "lab_work_5.ipynb",
      "version": "0.3.2",
      "provenance": [],
      "collapsed_sections": []
    },
    "kernelspec": {
      "name": "python3",
      "display_name": "Python 3"
    }
  },
  "cells": [
    {
      "cell_type": "code",
      "metadata": {
        "id": "ayRaMcM-7HEE",
        "colab_type": "code",
        "colab": {}
      },
      "source": [
        "import numpy as np\n",
        "import pandas as pd\n",
        "from sklearn.preprocessing import LabelEncoder, normalize\n",
        "import matplotlib.pyplot as plt\n",
        "import seaborn as sns\n",
        "sns.set(style=\"ticks\")\n",
        "%matplotlib inline"
      ],
      "execution_count": 0,
      "outputs": []
    },
    {
      "cell_type": "code",
      "metadata": {
        "id": "EvS_bj9D7J96",
        "colab_type": "code",
        "colab": {}
      },
      "source": [
        "def col_del(data, cols):\n",
        "    try:\n",
        "        for col in cols:\n",
        "            del data[col]\n",
        "    except:\n",
        "        print(\"Столбец не найден\")"
      ],
      "execution_count": 0,
      "outputs": []
    },
    {
      "cell_type": "code",
      "metadata": {
        "id": "H7vl1UJC7Q5N",
        "colab_type": "code",
        "colab": {}
      },
      "source": [
        "def nul_deletion(data, coef):\n",
        "    for col in data.columns:\n",
        "        temp_null_count = data[data[col].isnull()].shape[0]\n",
        "        if temp_null_count>data[col].shape[0]*coef:\n",
        "            del data[col]\n",
        "        else:\n",
        "            if data[col].dtype != 'O':\n",
        "                data[col]=data[col].fillna(data[col].median())\n",
        "    data.fillna(method='bfill', inplace =True)\n",
        "    data.fillna(method='ffill', inplace =True)"
      ],
      "execution_count": 0,
      "outputs": []
    },
    {
      "cell_type": "code",
      "metadata": {
        "id": "cc8tkdbB7TLi",
        "colab_type": "code",
        "colab": {}
      },
      "source": [
        "def stats_aggregation(stats):\n",
        "    first_keys=['Player_id','Year', 'Age', 'Player', 'Pos', 'Tm']\n",
        "    col_agg_d= {}\n",
        "    col_agg_d.update(dict.fromkeys(first_keys, lambda d: d.iloc[0]))\n",
        "    col_agg_d.update(dict.fromkeys(stats.columns[6:], np.mean))\n",
        "    stats=stats.groupby(['Player']).agg(col_agg_d).sort_values(('Player_id'), ascending=True)\n",
        "    stats = stats.reset_index(drop=True)\n",
        "    for i in range(stats.shape[0]):\n",
        "        stats.at[i, 'Player_id'] = i\n",
        "    stats.head()"
      ],
      "execution_count": 0,
      "outputs": []
    },
    {
      "cell_type": "code",
      "metadata": {
        "id": "ocwpeItT7VpS",
        "colab_type": "code",
        "colab": {}
      },
      "source": [
        "def data_preprocessing(players, stats):\n",
        "    players.dropna(subset=['Player'], how='all', inplace = True)\n",
        "    stats.dropna(subset=['Player'], how='all', inplace = True)\n",
        "    try:\n",
        "        del stats['blanl']\n",
        "        del stats['blank2']\n",
        "    except:\n",
        "        print('уже удалено')\n",
        "    nul_deletion(players, 0.3)\n",
        "    nul_deletion(stats, 0.3)\n",
        "    players.rename(columns={'Unnamed: 0': 'Player_id'}, inplace=True)\n",
        "    stats.rename(columns={'Unnamed: 0': 'Player_id'}, inplace=True)\n",
        "    stats_aggregation(stats)\n",
        "    players_with_stats = merge_data(players, stats)\n",
        "    col_del(players_with_stats, ['Tm','collage', 'born', 'birth_city', 'birth_state', 'Year', 'BPM', '2P%', \n",
        "                             'FT', 'FTA', 'FG%', 'TS%', 'MP', '2PA', 'FGA', 'WS', '3PA', 'FG', 'TRB%'])\n",
        "    players_with_stats['Pos'].replace(to_replace = ['PF-C', 'PF-SF', 'PG-SG', 'SF-PF', 'SF-SG', 'SG-PG', 'SG-SF'], \n",
        "                                  value = ['PF', 'PF', 'PG', 'SF', 'SF','SG', 'SG'],inplace = True)\n",
        "    players_with_stats['Pos'].replace(to_replace = ['G-F', 'F', 'G', 'F-C', 'F-G', 'C-F', 'C-PF'], \n",
        "                                  value = ['SG', 'PF', 'PG', 'PF', 'SF', 'C', 'C'],inplace = True)\n",
        "    Pos = players_with_stats['Pos']\n",
        "    le = LabelEncoder()\n",
        "    pos_le = le.fit_transform(players_with_stats['Pos'])\n",
        "    pws = players_with_stats\n",
        "    col_del(pws, ['Pos','Player_id', 'Player'])\n",
        "    pws_norm = normalize(pws)\n",
        "    return pws_norm, pos_le"
      ],
      "execution_count": 0,
      "outputs": []
    },
    {
      "cell_type": "code",
      "metadata": {
        "id": "mW6tJFXi7cMu",
        "colab_type": "code",
        "colab": {}
      },
      "source": [
        "def read_data(player_pth, stats_pth):\n",
        "    players = pd.read_csv(player_pth)\n",
        "    stats = pd.read_csv(stats_pth)\n",
        "    return players, stats"
      ],
      "execution_count": 0,
      "outputs": []
    },
    {
      "cell_type": "code",
      "metadata": {
        "id": "zF9RdedC7eSk",
        "colab_type": "code",
        "colab": {}
      },
      "source": [
        "def merge_data(players, stats):\n",
        "    players_with_stats = pd.merge(players, stats, left_on='Player_id', right_on='Player_id', how='inner')\n",
        "    players_with_stats.rename(columns={'Player_x': 'Player'}, inplace=True)\n",
        "    try:\n",
        "        del players_with_stats['Player_y']\n",
        "    except:\n",
        "        pass\n",
        "    return players_with_stats"
      ],
      "execution_count": 0,
      "outputs": []
    },
    {
      "cell_type": "code",
      "metadata": {
        "id": "J90Hdoyo7guV",
        "colab_type": "code",
        "colab": {}
      },
      "source": [
        "X, Y = data_preprocessing(*read_data('sample_data/Players.csv', 'sample_data/Seasons_Stats.csv'))"
      ],
      "execution_count": 0,
      "outputs": []
    },
    {
      "cell_type": "code",
      "metadata": {
        "id": "8jbGnKEh7zYV",
        "colab_type": "code",
        "colab": {}
      },
      "source": [
        "from sklearn.model_selection import train_test_split\n",
        "from sklearn.linear_model import SGDClassifier\n",
        "from sklearn.svm import SVC\n",
        "from sklearn.tree import DecisionTreeClassifier\n",
        "from sklearn.metrics import accuracy_score\n",
        "from sklearn.model_selection import KFold, ShuffleSplit\n",
        "from sklearn.model_selection import GridSearchCV"
      ],
      "execution_count": 0,
      "outputs": []
    },
    {
      "cell_type": "code",
      "metadata": {
        "id": "Eho3NQRw718T",
        "colab_type": "code",
        "colab": {}
      },
      "source": [
        "X_train, X_test, y_train, y_test = train_test_split(X, Y, test_size=0.2, random_state=42)"
      ],
      "execution_count": 0,
      "outputs": []
    },
    {
      "cell_type": "code",
      "metadata": {
        "id": "p9DPkSxh74SK",
        "colab_type": "code",
        "colab": {}
      },
      "source": [
        "def accuracy_score_for_classes(\n",
        "    y_true: np.ndarray, \n",
        "    y_pred: np.ndarray):\n",
        "    \"\"\"\n",
        "    Вычисление метрики accuracy для каждого класса\n",
        "    y_true - истинные значения классов\n",
        "    y_pred - предсказанные значения классов\n",
        "    Возвращает словарь: ключ - метка класса, \n",
        "    значение - Accuracy для данного класса\n",
        "    \"\"\"\n",
        "    # Для удобства фильтрации сформируем Pandas DataFrame \n",
        "    d = {'t': y_true, 'p': y_pred}\n",
        "    df = pd.DataFrame(data=d)\n",
        "    # Метки классов\n",
        "    classes = np.unique(y_true)\n",
        "    # Результирующий словарь\n",
        "    res = dict()\n",
        "    # Перебор меток классов\n",
        "    for c in classes:\n",
        "        # отфильтруем данные, которые соответствуют \n",
        "        # текущей метке класса в истинных значениях\n",
        "        temp_data_flt = df[df['t']==c]\n",
        "        # расчет accuracy для заданной метки класса\n",
        "        temp_acc = accuracy_score(\n",
        "            temp_data_flt['t'].values, \n",
        "            temp_data_flt['p'].values)\n",
        "        # сохранение результата в словарь\n",
        "        res[c] = temp_acc\n",
        "    return res\n",
        "\n",
        "def print_accuracy_score_for_classes(\n",
        "    y_true: np.ndarray, \n",
        "    y_pred: np.ndarray):\n",
        "    \"\"\"\n",
        "    Вывод метрики accuracy для каждого класса\n",
        "    \"\"\"\n",
        "    accs = accuracy_score_for_classes(y_true, y_pred)\n",
        "    if len(accs)>0:\n",
        "        print('Метка \\t Accuracy')\n",
        "    for i in accs:\n",
        "        print('{} \\t {}'.format(i, accs[i]))"
      ],
      "execution_count": 0,
      "outputs": []
    },
    {
      "cell_type": "code",
      "metadata": {
        "id": "-vueLmPL787-",
        "colab_type": "code",
        "colab": {}
      },
      "source": [
        "from sklearn.utils.multiclass import unique_labels\n",
        "from sklearn.metrics import confusion_matrix\n",
        "def plot_confusion_matrix(y_true, y_pred, classes,\n",
        "                          normalize=False,\n",
        "                          title=None,\n",
        "                          cmap=plt.cm.Blues):\n",
        "    \"\"\"\n",
        "    This function prints and plots the confusion matrix.\n",
        "    Normalization can be applied by setting `normalize=True`.\n",
        "    \"\"\"\n",
        "    if not title:\n",
        "        if normalize:\n",
        "            title = 'Normalized confusion matrix'\n",
        "        else:\n",
        "            title = 'Confusion matrix, without normalization'\n",
        "\n",
        "    # Compute confusion matrix\n",
        "    cm = confusion_matrix(y_true, y_pred)\n",
        "    # Only use the labels that appear in the data   \n",
        "    classes = classes[unique_labels(y_true, y_pred)-1]\n",
        "    if normalize:\n",
        "        cm = cm.astype('float') / cm.sum(axis=1)[:, np.newaxis]\n",
        "        print(\"Normalized confusion matrix\")\n",
        "    else:\n",
        "        print('Confusion matrix, without normalization')\n",
        "\n",
        "    fig, ax = plt.subplots()\n",
        "    im = ax.imshow(cm, interpolation='nearest', cmap=cmap)\n",
        "    ax.figure.colorbar(im, ax=ax)\n",
        "    # We want to show all ticks...\n",
        "    ax.set(xticks=np.arange(cm.shape[1]),\n",
        "           yticks=np.arange(cm.shape[0]),\n",
        "           # ... and label them with the respective list entries\n",
        "           xticklabels=classes, yticklabels=classes,\n",
        "           title=title,\n",
        "           ylabel='True label',\n",
        "           xlabel='Predicted label')\n",
        "    # Rotate the tick labels and set their alignment.\n",
        "    plt.setp(ax.get_xticklabels(), rotation=45, ha=\"right\",\n",
        "             rotation_mode=\"anchor\")\n",
        "\n",
        "    # Loop over data dimensions and create text annotations.\n",
        "    fmt = '.2f' if normalize else 'd'\n",
        "    thresh = cm.max() / 2.\n",
        "    for i in range(cm.shape[0]):\n",
        "        for j in range(cm.shape[1]):\n",
        "            ax.text(j, i, format(cm[i, j], fmt),\n",
        "                    ha=\"center\", va=\"center\",\n",
        "                    color=\"white\" if cm[i, j] > thresh else \"black\")\n",
        "    fig.tight_layout()\n",
        "    return ax"
      ],
      "execution_count": 0,
      "outputs": []
    },
    {
      "cell_type": "code",
      "metadata": {
        "id": "jRVA7Ba58H4-",
        "colab_type": "code",
        "colab": {
          "base_uri": "https://localhost:8080/",
          "height": 431
        },
        "outputId": "9bc5a88d-3006-477e-eb76-1412f6452235"
      },
      "source": [
        "sgd = SGDClassifier(max_iter=1000, tol=1e-3, random_state = 42)\n",
        "sgd.fit(X_train, y_train)\n",
        "sgd.score(X_test, y_test)\n",
        "y_pred = sgd.predict(X_test)\n",
        "print_accuracy_score_for_classes(y_test, y_pred)\n",
        "plot_confusion_matrix(y_test, y_pred, \n",
        "                      classes=np.array(['C', 'PF', 'PG', 'SF', 'SG']),\n",
        "                      title='Confusion matrix, without normalization')"
      ],
      "execution_count": 22,
      "outputs": [
        {
          "output_type": "stream",
          "text": [
            "Метка \t Accuracy\n",
            "0 \t 0.3188405797101449\n",
            "1 \t 0.2878787878787879\n",
            "2 \t 0.8695652173913043\n",
            "3 \t 0.06756756756756757\n",
            "5 \t 0.379746835443038\n",
            "Confusion matrix, without normalization\n"
          ],
          "name": "stdout"
        },
        {
          "output_type": "execute_result",
          "data": {
            "text/plain": [
              "<matplotlib.axes._subplots.AxesSubplot at 0x7fabff2915c0>"
            ]
          },
          "metadata": {
            "tags": []
          },
          "execution_count": 22
        },
        {
          "output_type": "display_data",
          "data": {
            "image/png": "[encoded data removed]",
            "text/plain": [
              "<Figure size 432x288 with 2 Axes>"
            ]
          },
          "metadata": {
            "tags": []
          }
        }
      ]
    },
    {
      "cell_type": "code",
      "metadata": {
        "id": "BR8kWFUd8KRG",
        "colab_type": "code",
        "colab": {}
      },
      "source": [
        "def GridSearch_with_other_val(model, parameters):\n",
        "    results=[]\n",
        "    val_methods = [KFold(n_splits = 5), ShuffleSplit(n_splits = 5, test_size = 0.25)]\n",
        "    i=0\n",
        "    for score in val_methods:\n",
        "        i+=1\n",
        "        grid = GridSearchCV(model, parameters, cv = score)\n",
        "        grid.fit(X_train, y_train)\n",
        "        results.append([i, ')', grid.best_estimator_, ': ', grid.best_score_])\n",
        "    return results"
      ],
      "execution_count": 0,
      "outputs": []
    },
    {
      "cell_type": "code",
      "metadata": {
        "id": "udwLS0lv8NIh",
        "colab_type": "code",
        "colab": {
          "base_uri": "https://localhost:8080/",
          "height": 373
        },
        "outputId": "afbcadfa-bce3-4913-86c7-48633c9a7444"
      },
      "source": [
        "sgd_parameters = {'loss': ['hinge', 'log', 'modified_huber', 'squared_hinge', 'perceptron'], \n",
        "                  'max_iter': list(range(1000, 10000, 1000)), 'random_state': [42]}\n",
        "sgd_results = GridSearch_with_other_val(sgd, sgd_parameters)"
      ],
      "execution_count": 27,
      "outputs": [
        {
          "output_type": "stream",
          "text": [
            "/usr/local/lib/python3.6/dist-packages/sklearn/linear_model/stochastic_gradient.py:561: ConvergenceWarning: Maximum number of iteration reached before convergence. Consider increasing max_iter to improve the fit.\n",
            "  ConvergenceWarning)\n",
            "/usr/local/lib/python3.6/dist-packages/sklearn/linear_model/stochastic_gradient.py:561: ConvergenceWarning: Maximum number of iteration reached before convergence. Consider increasing max_iter to improve the fit.\n",
            "  ConvergenceWarning)\n",
            "/usr/local/lib/python3.6/dist-packages/sklearn/linear_model/stochastic_gradient.py:561: ConvergenceWarning: Maximum number of iteration reached before convergence. Consider increasing max_iter to improve the fit.\n",
            "  ConvergenceWarning)\n",
            "/usr/local/lib/python3.6/dist-packages/sklearn/linear_model/stochastic_gradient.py:561: ConvergenceWarning: Maximum number of iteration reached before convergence. Consider increasing max_iter to improve the fit.\n",
            "  ConvergenceWarning)\n",
            "/usr/local/lib/python3.6/dist-packages/sklearn/linear_model/stochastic_gradient.py:561: ConvergenceWarning: Maximum number of iteration reached before convergence. Consider increasing max_iter to improve the fit.\n",
            "  ConvergenceWarning)\n",
            "/usr/local/lib/python3.6/dist-packages/sklearn/linear_model/stochastic_gradient.py:561: ConvergenceWarning: Maximum number of iteration reached before convergence. Consider increasing max_iter to improve the fit.\n",
            "  ConvergenceWarning)\n",
            "/usr/local/lib/python3.6/dist-packages/sklearn/linear_model/stochastic_gradient.py:561: ConvergenceWarning: Maximum number of iteration reached before convergence. Consider increasing max_iter to improve the fit.\n",
            "  ConvergenceWarning)\n",
            "/usr/local/lib/python3.6/dist-packages/sklearn/linear_model/stochastic_gradient.py:561: ConvergenceWarning: Maximum number of iteration reached before convergence. Consider increasing max_iter to improve the fit.\n",
            "  ConvergenceWarning)\n",
            "/usr/local/lib/python3.6/dist-packages/sklearn/linear_model/stochastic_gradient.py:561: ConvergenceWarning: Maximum number of iteration reached before convergence. Consider increasing max_iter to improve the fit.\n",
            "  ConvergenceWarning)\n",
            "/usr/local/lib/python3.6/dist-packages/sklearn/linear_model/stochastic_gradient.py:561: ConvergenceWarning: Maximum number of iteration reached before convergence. Consider increasing max_iter to improve the fit.\n",
            "  ConvergenceWarning)\n"
          ],
          "name": "stderr"
        }
      ]
    },
    {
      "cell_type": "code",
      "metadata": {
        "id": "YSmuLWt78PbF",
        "colab_type": "code",
        "colab": {
          "base_uri": "https://localhost:8080/",
          "height": 218
        },
        "outputId": "722cad36-7c6c-4fec-c4b2-29804e01ac5b"
      },
      "source": [
        "sgd_results"
      ],
      "execution_count": 28,
      "outputs": [
        {
          "output_type": "execute_result",
          "data": {
            "text/plain": [
              "[[1, ')', SGDClassifier(alpha=0.0001, average=False, class_weight=None,\n",
              "                early_stopping=False, epsilon=0.1, eta0=0.0, fit_intercept=True,\n",
              "                l1_ratio=0.15, learning_rate='optimal', loss='log', max_iter=1000,\n",
              "                n_iter_no_change=5, n_jobs=None, penalty='l2', power_t=0.5,\n",
              "                random_state=42, shuffle=True, tol=0.001, validation_fraction=0.1,\n",
              "                verbose=0, warm_start=False), ': ', 0.43695861405197306],\n",
              " [2, ')', SGDClassifier(alpha=0.0001, average=False, class_weight=None,\n",
              "                early_stopping=False, epsilon=0.1, eta0=0.0, fit_intercept=True,\n",
              "                l1_ratio=0.15, learning_rate='optimal', loss='log', max_iter=1000,\n",
              "                n_iter_no_change=5, n_jobs=None, penalty='l2', power_t=0.5,\n",
              "                random_state=42, shuffle=True, tol=0.001, validation_fraction=0.1,\n",
              "                verbose=0, warm_start=False), ': ', 0.438974358974359]]"
            ]
          },
          "metadata": {
            "tags": []
          },
          "execution_count": 28
        }
      ]
    },
    {
      "cell_type": "code",
      "metadata": {
        "id": "btsza2vV9T4V",
        "colab_type": "code",
        "colab": {
          "base_uri": "https://localhost:8080/",
          "height": 431
        },
        "outputId": "491437cd-7ca0-4860-8b75-3a43921c5c3a"
      },
      "source": [
        "sgd = SGDClassifier(loss = 'log' ,max_iter=9000, tol=1e-3)\n",
        "sgd.fit(X_train, y_train)\n",
        "sgd.score(X_test, y_test)\n",
        "y_pred = sgd.predict(X_test)\n",
        "print_accuracy_score_for_classes(y_test, y_pred)\n",
        "plot_confusion_matrix(y_test, y_pred, \n",
        "                      classes=np.array(['C', 'PF', 'PG', 'SF', 'SG']),\n",
        "                      title='Confusion matrix, without normalization')"
      ],
      "execution_count": 29,
      "outputs": [
        {
          "output_type": "stream",
          "text": [
            "Метка \t Accuracy\n",
            "0 \t 0.028985507246376812\n",
            "1 \t 0.8888888888888888\n",
            "2 \t 0.6159420289855072\n",
            "3 \t 0.10135135135135136\n",
            "5 \t 0.5886075949367089\n",
            "Confusion matrix, without normalization\n"
          ],
          "name": "stdout"
        },
        {
          "output_type": "execute_result",
          "data": {
            "text/plain": [
              "<matplotlib.axes._subplots.AxesSubplot at 0x7fac01c3c9e8>"
            ]
          },
          "metadata": {
            "tags": []
          },
          "execution_count": 29
        },
        {
          "output_type": "display_data",
          "data": {
            "image/png": "[encoded data removed]",
            "text/plain": [
              "<Figure size 432x288 with 2 Axes>"
            ]
          },
          "metadata": {
            "tags": []
          }
        }
      ]
    },
    {
      "cell_type": "code",
      "metadata": {
        "id": "wmX_sMkzDyXc",
        "colab_type": "code",
        "colab": {
          "base_uri": "https://localhost:8080/",
          "height": 431
        },
        "outputId": "a789bd7a-53f0-4743-f434-177b8e69269f"
      },
      "source": [
        "svc = SVC(gamma='auto')\n",
        "svc.fit(X_train, y_train)\n",
        "svc.score(X_test, y_test)\n",
        "y_pred = svc.predict(X_test)\n",
        "print_accuracy_score_for_classes(y_test, y_pred)\n",
        "plot_confusion_matrix(y_test, y_pred, \n",
        "                      classes=np.array(['C', 'PF', 'PG', 'SF', 'SG']),\n",
        "                      title='Confusion matrix, without normalization')"
      ],
      "execution_count": 30,
      "outputs": [
        {
          "output_type": "stream",
          "text": [
            "Метка \t Accuracy\n",
            "0 \t 0.0\n",
            "1 \t 0.8535353535353535\n",
            "2 \t 0.0\n",
            "3 \t 0.20270270270270271\n",
            "5 \t 0.7278481012658228\n",
            "Confusion matrix, without normalization\n"
          ],
          "name": "stdout"
        },
        {
          "output_type": "execute_result",
          "data": {
            "text/plain": [
              "<matplotlib.axes._subplots.AxesSubplot at 0x7fabff115320>"
            ]
          },
          "metadata": {
            "tags": []
          },
          "execution_count": 30
        },
        {
          "output_type": "display_data",
          "data": {
            "image/png": "[encoded data removed]",
            "text/plain": [
              "<Figure size 432x288 with 2 Axes>"
            ]
          },
          "metadata": {
            "tags": []
          }
        }
      ]
    },
    {
      "cell_type": "code",
      "metadata": {
        "id": "-JXFhNgSD1GR",
        "colab_type": "code",
        "colab": {}
      },
      "source": [
        "svc_parameters = {'kernel': ['linear', 'poly', 'rbf']}\n",
        "svc_results = GridSearch_with_other_val(svc, svc_parameters)"
      ],
      "execution_count": 0,
      "outputs": []
    },
    {
      "cell_type": "code",
      "metadata": {
        "id": "_l6kQls6D3OS",
        "colab_type": "code",
        "colab": {
          "base_uri": "https://localhost:8080/",
          "height": 151
        },
        "outputId": "425025cd-4373-44e4-ddbe-617ee4546eaa"
      },
      "source": [
        "svc_results"
      ],
      "execution_count": 32,
      "outputs": [
        {
          "output_type": "execute_result",
          "data": {
            "text/plain": [
              "[[1, ')', SVC(C=1.0, cache_size=200, class_weight=None, coef0=0.0,\n",
              "      decision_function_shape='ovr', degree=3, gamma='auto', kernel='linear',\n",
              "      max_iter=-1, probability=False, random_state=None, shrinking=True,\n",
              "      tol=0.001, verbose=False), ': ', 0.4629451395572666],\n",
              " [2, ')', SVC(C=1.0, cache_size=200, class_weight=None, coef0=0.0,\n",
              "      decision_function_shape='ovr', degree=3, gamma='auto', kernel='linear',\n",
              "      max_iter=-1, probability=False, random_state=None, shrinking=True,\n",
              "      tol=0.001, verbose=False), ': ', 0.47410256410256413]]"
            ]
          },
          "metadata": {
            "tags": []
          },
          "execution_count": 32
        }
      ]
    },
    {
      "cell_type": "code",
      "metadata": {
        "id": "1yOwvnj2D9DV",
        "colab_type": "code",
        "colab": {
          "base_uri": "https://localhost:8080/",
          "height": 431
        },
        "outputId": "48b04316-07c2-457a-a770-3cd47e9ba5af"
      },
      "source": [
        "svc = SVC(kernel='linear')\n",
        "svc.fit(X_train, y_train)\n",
        "svc.score(X_test, y_test)\n",
        "y_pred = svc.predict(X_test)\n",
        "print_accuracy_score_for_classes(y_test, y_pred)\n",
        "plot_confusion_matrix(y_test, y_pred, \n",
        "                      classes=np.array(['C', 'PF', 'PG', 'SF', 'SG']),\n",
        "                      title='Confusion matrix, without normalization')"
      ],
      "execution_count": 33,
      "outputs": [
        {
          "output_type": "stream",
          "text": [
            "Метка \t Accuracy\n",
            "0 \t 0.2463768115942029\n",
            "1 \t 0.6161616161616161\n",
            "2 \t 0.463768115942029\n",
            "3 \t 0.41216216216216217\n",
            "5 \t 0.5886075949367089\n",
            "Confusion matrix, without normalization\n"
          ],
          "name": "stdout"
        },
        {
          "output_type": "execute_result",
          "data": {
            "text/plain": [
              "<matplotlib.axes._subplots.AxesSubplot at 0x7fabff040828>"
            ]
          },
          "metadata": {
            "tags": []
          },
          "execution_count": 33
        },
        {
          "output_type": "display_data",
          "data": {
            "image/png": "[encoded data removed]",
            "text/plain": [
              "<Figure size 432x288 with 2 Axes>"
            ]
          },
          "metadata": {
            "tags": []
          }
        }
      ]
    },
    {
      "cell_type": "code",
      "metadata": {
        "id": "zRdDLQJqD_BL",
        "colab_type": "code",
        "colab": {
          "base_uri": "https://localhost:8080/",
          "height": 431
        },
        "outputId": "b293c0d7-4b4e-446a-b27e-b3a4f8c2f0c3"
      },
      "source": [
        "tree = DecisionTreeClassifier(random_state=42)\n",
        "tree.fit(X_train, y_train)\n",
        "tree.score(X_test, y_test)\n",
        "y_pred = tree.predict(X_test)\n",
        "print_accuracy_score_for_classes(y_test, y_pred)\n",
        "plot_confusion_matrix(y_test, y_pred, \n",
        "                      classes=np.array(['C', 'PF', 'PG', 'SF', 'SG']),\n",
        "                      title='Confusion matrix, without normalization')"
      ],
      "execution_count": 34,
      "outputs": [
        {
          "output_type": "stream",
          "text": [
            "Метка \t Accuracy\n",
            "0 \t 0.41304347826086957\n",
            "1 \t 0.3838383838383838\n",
            "2 \t 0.5362318840579711\n",
            "3 \t 0.4527027027027027\n",
            "5 \t 0.43670886075949367\n",
            "Confusion matrix, without normalization\n"
          ],
          "name": "stdout"
        },
        {
          "output_type": "execute_result",
          "data": {
            "text/plain": [
              "<matplotlib.axes._subplots.AxesSubplot at 0x7fabfef8c6a0>"
            ]
          },
          "metadata": {
            "tags": []
          },
          "execution_count": 34
        },
        {
          "output_type": "display_data",
          "data": {
            "image/png": "[encoded data removed]",
            "text/plain": [
              "<Figure size 432x288 with 2 Axes>"
            ]
          },
          "metadata": {
            "tags": []
          }
        }
      ]
    },
    {
      "cell_type": "code",
      "metadata": {
        "id": "y3R_CHOuEB1J",
        "colab_type": "code",
        "colab": {}
      },
      "source": [
        "tree_parameters = {'max_depth': list(range(3, 50, 2)), \n",
        "                  'max_leaf_nodes': list(range(2, 25, 2)), 'random_state': [42]}\n",
        "tree_results = GridSearch_with_other_val(tree, tree_parameters)"
      ],
      "execution_count": 0,
      "outputs": []
    },
    {
      "cell_type": "code",
      "metadata": {
        "id": "_dBJmXF6EEhc",
        "colab_type": "code",
        "colab": {
          "base_uri": "https://localhost:8080/",
          "height": 353
        },
        "outputId": "9a42acc9-361f-45b3-df0e-d5e05443428b"
      },
      "source": [
        "tree_results"
      ],
      "execution_count": 36,
      "outputs": [
        {
          "output_type": "execute_result",
          "data": {
            "text/plain": [
              "[[1,\n",
              "  ')',\n",
              "  DecisionTreeClassifier(class_weight=None, criterion='gini', max_depth=7,\n",
              "                         max_features=None, max_leaf_nodes=24,\n",
              "                         min_impurity_decrease=0.0, min_impurity_split=None,\n",
              "                         min_samples_leaf=1, min_samples_split=2,\n",
              "                         min_weight_fraction_leaf=0.0, presort=False,\n",
              "                         random_state=42, splitter='best'),\n",
              "  ': ',\n",
              "  0.4741738851459737],\n",
              " [2,\n",
              "  ')',\n",
              "  DecisionTreeClassifier(class_weight=None, criterion='gini', max_depth=5,\n",
              "                         max_features=None, max_leaf_nodes=24,\n",
              "                         min_impurity_decrease=0.0, min_impurity_split=None,\n",
              "                         min_samples_leaf=1, min_samples_split=2,\n",
              "                         min_weight_fraction_leaf=0.0, presort=False,\n",
              "                         random_state=42, splitter='best'),\n",
              "  ': ',\n",
              "  0.4735897435897436]]"
            ]
          },
          "metadata": {
            "tags": []
          },
          "execution_count": 36
        }
      ]
    },
    {
      "cell_type": "code",
      "metadata": {
        "id": "ugTfBWCeEhpU",
        "colab_type": "code",
        "colab": {
          "base_uri": "https://localhost:8080/",
          "height": 431
        },
        "outputId": "31422a8a-ed91-423b-c16b-a40049e59592"
      },
      "source": [
        "tree = DecisionTreeClassifier(max_depth = 5, max_leaf_nodes = 24 ,random_state=42)\n",
        "tree.fit(X_train, y_train)\n",
        "tree.score(X_test, y_test)\n",
        "y_pred = tree.predict(X_test)\n",
        "print_accuracy_score_for_classes(y_test, y_pred)\n",
        "plot_confusion_matrix(y_test, y_pred,\n",
        "                      classes=np.array(['C', 'PF', 'PG', 'SF', 'SG']),\n",
        "                      title='Confusion matrix, without normalization')"
      ],
      "execution_count": 37,
      "outputs": [
        {
          "output_type": "stream",
          "text": [
            "Метка \t Accuracy\n",
            "0 \t 0.21014492753623187\n",
            "1 \t 0.6313131313131313\n",
            "2 \t 0.5144927536231884\n",
            "3 \t 0.33783783783783783\n",
            "5 \t 0.5569620253164557\n",
            "Confusion matrix, without normalization\n"
          ],
          "name": "stdout"
        },
        {
          "output_type": "execute_result",
          "data": {
            "text/plain": [
              "<matplotlib.axes._subplots.AxesSubplot at 0x7fabfeed5668>"
            ]
          },
          "metadata": {
            "tags": []
          },
          "execution_count": 37
        },
        {
          "output_type": "display_data",
          "data": {
            "image/png": "[encoded data removed]",
            "text/plain": [
              "<Figure size 432x288 with 2 Axes>"
            ]
          },
          "metadata": {
            "tags": []
          }
        }
      ]
    },
    {
      "cell_type": "code",
      "metadata": {
        "id": "_dZXYP-bEigT",
        "colab_type": "code",
        "colab": {}
      },
      "source": [
        ""
      ],
      "execution_count": 0,
      "outputs": []
    }
  ]
}