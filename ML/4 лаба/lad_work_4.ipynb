{
  "nbformat": 4,
  "nbformat_minor": 0,
  "metadata": {
    "colab": {
      "name": "lad_work_4.ipynb",
      "version": "0.3.2",
      "provenance": [],
      "collapsed_sections": []
    },
    "kernelspec": {
      "name": "python3",
      "display_name": "Python 3"
    }
  },
  "cells": [
    {
      "cell_type": "code",
      "metadata": {
        "id": "qjXY_rAM3BD_",
        "colab_type": "code",
        "colab": {}
      },
      "source": [
        "import numpy as np\n",
        "import pandas as pd\n",
        "from sklearn.preprocessing import LabelEncoder\n",
        "import matplotlib.pyplot as plt\n",
        "import seaborn as sns\n",
        "sns.set(style=\"ticks\")"
      ],
      "execution_count": 0,
      "outputs": []
    },
    {
      "cell_type": "code",
      "metadata": {
        "id": "TML31QHr3mNI",
        "colab_type": "code",
        "colab": {}
      },
      "source": [
        "players = pd.read_csv('sample_data/Players.csv')\n",
        "stats = pd.read_csv('sample_data/Seasons_Stats.csv')"
      ],
      "execution_count": 0,
      "outputs": []
    },
    {
      "cell_type": "code",
      "metadata": {
        "id": "MgngQXBZ3vKO",
        "colab_type": "code",
        "colab": {
          "base_uri": "https://localhost:8080/",
          "height": 195
        },
        "outputId": "960bdc68-2ddc-4fea-ebf7-8d38600c2357"
      },
      "source": [
        "players.head()"
      ],
      "execution_count": 4,
      "outputs": [
        {
          "output_type": "execute_result",
          "data": {
            "text/html": [
              "<div>\n",
              "<style scoped>\n",
              "    .dataframe tbody tr th:only-of-type {\n",
              "        vertical-align: middle;\n",
              "    }\n",
              "\n",
              "    .dataframe tbody tr th {\n",
              "        vertical-align: top;\n",
              "    }\n",
              "\n",
              "    .dataframe thead th {\n",
              "        text-align: right;\n",
              "    }\n",
              "</style>\n",
              "<table border=\"1\" class=\"dataframe\">\n",
              "  <thead>\n",
              "    <tr style=\"text-align: right;\">\n",
              "      <th></th>\n",
              "      <th>Unnamed: 0</th>\n",
              "      <th>Player</th>\n",
              "      <th>height</th>\n",
              "      <th>weight</th>\n",
              "      <th>collage</th>\n",
              "      <th>born</th>\n",
              "      <th>birth_city</th>\n",
              "      <th>birth_state</th>\n",
              "    </tr>\n",
              "  </thead>\n",
              "  <tbody>\n",
              "    <tr>\n",
              "      <th>0</th>\n",
              "      <td>0</td>\n",
              "      <td>Curly Armstrong</td>\n",
              "      <td>180.0</td>\n",
              "      <td>77.0</td>\n",
              "      <td>Indiana University</td>\n",
              "      <td>1918.0</td>\n",
              "      <td>NaN</td>\n",
              "      <td>NaN</td>\n",
              "    </tr>\n",
              "    <tr>\n",
              "      <th>1</th>\n",
              "      <td>1</td>\n",
              "      <td>Cliff Barker</td>\n",
              "      <td>188.0</td>\n",
              "      <td>83.0</td>\n",
              "      <td>University of Kentucky</td>\n",
              "      <td>1921.0</td>\n",
              "      <td>Yorktown</td>\n",
              "      <td>Indiana</td>\n",
              "    </tr>\n",
              "    <tr>\n",
              "      <th>2</th>\n",
              "      <td>2</td>\n",
              "      <td>Leo Barnhorst</td>\n",
              "      <td>193.0</td>\n",
              "      <td>86.0</td>\n",
              "      <td>University of Notre Dame</td>\n",
              "      <td>1924.0</td>\n",
              "      <td>NaN</td>\n",
              "      <td>NaN</td>\n",
              "    </tr>\n",
              "    <tr>\n",
              "      <th>3</th>\n",
              "      <td>3</td>\n",
              "      <td>Ed Bartels</td>\n",
              "      <td>196.0</td>\n",
              "      <td>88.0</td>\n",
              "      <td>North Carolina State University</td>\n",
              "      <td>1925.0</td>\n",
              "      <td>NaN</td>\n",
              "      <td>NaN</td>\n",
              "    </tr>\n",
              "    <tr>\n",
              "      <th>4</th>\n",
              "      <td>4</td>\n",
              "      <td>Ralph Beard</td>\n",
              "      <td>178.0</td>\n",
              "      <td>79.0</td>\n",
              "      <td>University of Kentucky</td>\n",
              "      <td>1927.0</td>\n",
              "      <td>Hardinsburg</td>\n",
              "      <td>Kentucky</td>\n",
              "    </tr>\n",
              "  </tbody>\n",
              "</table>\n",
              "</div>"
            ],
            "text/plain": [
              "   Unnamed: 0           Player  height  ...    born   birth_city  birth_state\n",
              "0           0  Curly Armstrong   180.0  ...  1918.0          NaN          NaN\n",
              "1           1     Cliff Barker   188.0  ...  1921.0     Yorktown      Indiana\n",
              "2           2    Leo Barnhorst   193.0  ...  1924.0          NaN          NaN\n",
              "3           3       Ed Bartels   196.0  ...  1925.0          NaN          NaN\n",
              "4           4      Ralph Beard   178.0  ...  1927.0  Hardinsburg     Kentucky\n",
              "\n",
              "[5 rows x 8 columns]"
            ]
          },
          "metadata": {
            "tags": []
          },
          "execution_count": 4
        }
      ]
    },
    {
      "cell_type": "code",
      "metadata": {
        "id": "4hgwSz9U34vi",
        "colab_type": "code",
        "colab": {
          "base_uri": "https://localhost:8080/",
          "height": 282
        },
        "outputId": "e0389d3e-3925-4b24-9cdf-4ec0bd03dd5b"
      },
      "source": [
        "stats.head()"
      ],
      "execution_count": 5,
      "outputs": [
        {
          "output_type": "execute_result",
          "data": {
            "text/html": [
              "<div>\n",
              "<style scoped>\n",
              "    .dataframe tbody tr th:only-of-type {\n",
              "        vertical-align: middle;\n",
              "    }\n",
              "\n",
              "    .dataframe tbody tr th {\n",
              "        vertical-align: top;\n",
              "    }\n",
              "\n",
              "    .dataframe thead th {\n",
              "        text-align: right;\n",
              "    }\n",
              "</style>\n",
              "<table border=\"1\" class=\"dataframe\">\n",
              "  <thead>\n",
              "    <tr style=\"text-align: right;\">\n",
              "      <th></th>\n",
              "      <th>Unnamed: 0</th>\n",
              "      <th>Year</th>\n",
              "      <th>Player</th>\n",
              "      <th>Pos</th>\n",
              "      <th>Age</th>\n",
              "      <th>Tm</th>\n",
              "      <th>G</th>\n",
              "      <th>GS</th>\n",
              "      <th>MP</th>\n",
              "      <th>PER</th>\n",
              "      <th>TS%</th>\n",
              "      <th>3PAr</th>\n",
              "      <th>FTr</th>\n",
              "      <th>ORB%</th>\n",
              "      <th>DRB%</th>\n",
              "      <th>TRB%</th>\n",
              "      <th>AST%</th>\n",
              "      <th>STL%</th>\n",
              "      <th>BLK%</th>\n",
              "      <th>TOV%</th>\n",
              "      <th>USG%</th>\n",
              "      <th>blanl</th>\n",
              "      <th>OWS</th>\n",
              "      <th>DWS</th>\n",
              "      <th>WS</th>\n",
              "      <th>WS/48</th>\n",
              "      <th>blank2</th>\n",
              "      <th>OBPM</th>\n",
              "      <th>DBPM</th>\n",
              "      <th>BPM</th>\n",
              "      <th>VORP</th>\n",
              "      <th>FG</th>\n",
              "      <th>FGA</th>\n",
              "      <th>FG%</th>\n",
              "      <th>3P</th>\n",
              "      <th>3PA</th>\n",
              "      <th>3P%</th>\n",
              "      <th>2P</th>\n",
              "      <th>2PA</th>\n",
              "      <th>2P%</th>\n",
              "      <th>eFG%</th>\n",
              "      <th>FT</th>\n",
              "      <th>FTA</th>\n",
              "      <th>FT%</th>\n",
              "      <th>ORB</th>\n",
              "      <th>DRB</th>\n",
              "      <th>TRB</th>\n",
              "      <th>AST</th>\n",
              "      <th>STL</th>\n",
              "      <th>BLK</th>\n",
              "      <th>TOV</th>\n",
              "      <th>PF</th>\n",
              "      <th>PTS</th>\n",
              "    </tr>\n",
              "  </thead>\n",
              "  <tbody>\n",
              "    <tr>\n",
              "      <th>0</th>\n",
              "      <td>0</td>\n",
              "      <td>1950.0</td>\n",
              "      <td>Curly Armstrong</td>\n",
              "      <td>G-F</td>\n",
              "      <td>31.0</td>\n",
              "      <td>FTW</td>\n",
              "      <td>63.0</td>\n",
              "      <td>NaN</td>\n",
              "      <td>NaN</td>\n",
              "      <td>NaN</td>\n",
              "      <td>0.368</td>\n",
              "      <td>NaN</td>\n",
              "      <td>0.467</td>\n",
              "      <td>NaN</td>\n",
              "      <td>NaN</td>\n",
              "      <td>NaN</td>\n",
              "      <td>NaN</td>\n",
              "      <td>NaN</td>\n",
              "      <td>NaN</td>\n",
              "      <td>NaN</td>\n",
              "      <td>NaN</td>\n",
              "      <td>NaN</td>\n",
              "      <td>-0.1</td>\n",
              "      <td>3.6</td>\n",
              "      <td>3.5</td>\n",
              "      <td>NaN</td>\n",
              "      <td>NaN</td>\n",
              "      <td>NaN</td>\n",
              "      <td>NaN</td>\n",
              "      <td>NaN</td>\n",
              "      <td>NaN</td>\n",
              "      <td>144.0</td>\n",
              "      <td>516.0</td>\n",
              "      <td>0.279</td>\n",
              "      <td>NaN</td>\n",
              "      <td>NaN</td>\n",
              "      <td>NaN</td>\n",
              "      <td>144.0</td>\n",
              "      <td>516.0</td>\n",
              "      <td>0.279</td>\n",
              "      <td>0.279</td>\n",
              "      <td>170.0</td>\n",
              "      <td>241.0</td>\n",
              "      <td>0.705</td>\n",
              "      <td>NaN</td>\n",
              "      <td>NaN</td>\n",
              "      <td>NaN</td>\n",
              "      <td>176.0</td>\n",
              "      <td>NaN</td>\n",
              "      <td>NaN</td>\n",
              "      <td>NaN</td>\n",
              "      <td>217.0</td>\n",
              "      <td>458.0</td>\n",
              "    </tr>\n",
              "    <tr>\n",
              "      <th>1</th>\n",
              "      <td>1</td>\n",
              "      <td>1950.0</td>\n",
              "      <td>Cliff Barker</td>\n",
              "      <td>SG</td>\n",
              "      <td>29.0</td>\n",
              "      <td>INO</td>\n",
              "      <td>49.0</td>\n",
              "      <td>NaN</td>\n",
              "      <td>NaN</td>\n",
              "      <td>NaN</td>\n",
              "      <td>0.435</td>\n",
              "      <td>NaN</td>\n",
              "      <td>0.387</td>\n",
              "      <td>NaN</td>\n",
              "      <td>NaN</td>\n",
              "      <td>NaN</td>\n",
              "      <td>NaN</td>\n",
              "      <td>NaN</td>\n",
              "      <td>NaN</td>\n",
              "      <td>NaN</td>\n",
              "      <td>NaN</td>\n",
              "      <td>NaN</td>\n",
              "      <td>1.6</td>\n",
              "      <td>0.6</td>\n",
              "      <td>2.2</td>\n",
              "      <td>NaN</td>\n",
              "      <td>NaN</td>\n",
              "      <td>NaN</td>\n",
              "      <td>NaN</td>\n",
              "      <td>NaN</td>\n",
              "      <td>NaN</td>\n",
              "      <td>102.0</td>\n",
              "      <td>274.0</td>\n",
              "      <td>0.372</td>\n",
              "      <td>NaN</td>\n",
              "      <td>NaN</td>\n",
              "      <td>NaN</td>\n",
              "      <td>102.0</td>\n",
              "      <td>274.0</td>\n",
              "      <td>0.372</td>\n",
              "      <td>0.372</td>\n",
              "      <td>75.0</td>\n",
              "      <td>106.0</td>\n",
              "      <td>0.708</td>\n",
              "      <td>NaN</td>\n",
              "      <td>NaN</td>\n",
              "      <td>NaN</td>\n",
              "      <td>109.0</td>\n",
              "      <td>NaN</td>\n",
              "      <td>NaN</td>\n",
              "      <td>NaN</td>\n",
              "      <td>99.0</td>\n",
              "      <td>279.0</td>\n",
              "    </tr>\n",
              "    <tr>\n",
              "      <th>2</th>\n",
              "      <td>2</td>\n",
              "      <td>1950.0</td>\n",
              "      <td>Leo Barnhorst</td>\n",
              "      <td>SF</td>\n",
              "      <td>25.0</td>\n",
              "      <td>CHS</td>\n",
              "      <td>67.0</td>\n",
              "      <td>NaN</td>\n",
              "      <td>NaN</td>\n",
              "      <td>NaN</td>\n",
              "      <td>0.394</td>\n",
              "      <td>NaN</td>\n",
              "      <td>0.259</td>\n",
              "      <td>NaN</td>\n",
              "      <td>NaN</td>\n",
              "      <td>NaN</td>\n",
              "      <td>NaN</td>\n",
              "      <td>NaN</td>\n",
              "      <td>NaN</td>\n",
              "      <td>NaN</td>\n",
              "      <td>NaN</td>\n",
              "      <td>NaN</td>\n",
              "      <td>0.9</td>\n",
              "      <td>2.8</td>\n",
              "      <td>3.6</td>\n",
              "      <td>NaN</td>\n",
              "      <td>NaN</td>\n",
              "      <td>NaN</td>\n",
              "      <td>NaN</td>\n",
              "      <td>NaN</td>\n",
              "      <td>NaN</td>\n",
              "      <td>174.0</td>\n",
              "      <td>499.0</td>\n",
              "      <td>0.349</td>\n",
              "      <td>NaN</td>\n",
              "      <td>NaN</td>\n",
              "      <td>NaN</td>\n",
              "      <td>174.0</td>\n",
              "      <td>499.0</td>\n",
              "      <td>0.349</td>\n",
              "      <td>0.349</td>\n",
              "      <td>90.0</td>\n",
              "      <td>129.0</td>\n",
              "      <td>0.698</td>\n",
              "      <td>NaN</td>\n",
              "      <td>NaN</td>\n",
              "      <td>NaN</td>\n",
              "      <td>140.0</td>\n",
              "      <td>NaN</td>\n",
              "      <td>NaN</td>\n",
              "      <td>NaN</td>\n",
              "      <td>192.0</td>\n",
              "      <td>438.0</td>\n",
              "    </tr>\n",
              "    <tr>\n",
              "      <th>3</th>\n",
              "      <td>3</td>\n",
              "      <td>1950.0</td>\n",
              "      <td>Ed Bartels</td>\n",
              "      <td>F</td>\n",
              "      <td>24.0</td>\n",
              "      <td>TOT</td>\n",
              "      <td>15.0</td>\n",
              "      <td>NaN</td>\n",
              "      <td>NaN</td>\n",
              "      <td>NaN</td>\n",
              "      <td>0.312</td>\n",
              "      <td>NaN</td>\n",
              "      <td>0.395</td>\n",
              "      <td>NaN</td>\n",
              "      <td>NaN</td>\n",
              "      <td>NaN</td>\n",
              "      <td>NaN</td>\n",
              "      <td>NaN</td>\n",
              "      <td>NaN</td>\n",
              "      <td>NaN</td>\n",
              "      <td>NaN</td>\n",
              "      <td>NaN</td>\n",
              "      <td>-0.5</td>\n",
              "      <td>-0.1</td>\n",
              "      <td>-0.6</td>\n",
              "      <td>NaN</td>\n",
              "      <td>NaN</td>\n",
              "      <td>NaN</td>\n",
              "      <td>NaN</td>\n",
              "      <td>NaN</td>\n",
              "      <td>NaN</td>\n",
              "      <td>22.0</td>\n",
              "      <td>86.0</td>\n",
              "      <td>0.256</td>\n",
              "      <td>NaN</td>\n",
              "      <td>NaN</td>\n",
              "      <td>NaN</td>\n",
              "      <td>22.0</td>\n",
              "      <td>86.0</td>\n",
              "      <td>0.256</td>\n",
              "      <td>0.256</td>\n",
              "      <td>19.0</td>\n",
              "      <td>34.0</td>\n",
              "      <td>0.559</td>\n",
              "      <td>NaN</td>\n",
              "      <td>NaN</td>\n",
              "      <td>NaN</td>\n",
              "      <td>20.0</td>\n",
              "      <td>NaN</td>\n",
              "      <td>NaN</td>\n",
              "      <td>NaN</td>\n",
              "      <td>29.0</td>\n",
              "      <td>63.0</td>\n",
              "    </tr>\n",
              "    <tr>\n",
              "      <th>4</th>\n",
              "      <td>4</td>\n",
              "      <td>1950.0</td>\n",
              "      <td>Ed Bartels</td>\n",
              "      <td>F</td>\n",
              "      <td>24.0</td>\n",
              "      <td>DNN</td>\n",
              "      <td>13.0</td>\n",
              "      <td>NaN</td>\n",
              "      <td>NaN</td>\n",
              "      <td>NaN</td>\n",
              "      <td>0.308</td>\n",
              "      <td>NaN</td>\n",
              "      <td>0.378</td>\n",
              "      <td>NaN</td>\n",
              "      <td>NaN</td>\n",
              "      <td>NaN</td>\n",
              "      <td>NaN</td>\n",
              "      <td>NaN</td>\n",
              "      <td>NaN</td>\n",
              "      <td>NaN</td>\n",
              "      <td>NaN</td>\n",
              "      <td>NaN</td>\n",
              "      <td>-0.5</td>\n",
              "      <td>-0.1</td>\n",
              "      <td>-0.6</td>\n",
              "      <td>NaN</td>\n",
              "      <td>NaN</td>\n",
              "      <td>NaN</td>\n",
              "      <td>NaN</td>\n",
              "      <td>NaN</td>\n",
              "      <td>NaN</td>\n",
              "      <td>21.0</td>\n",
              "      <td>82.0</td>\n",
              "      <td>0.256</td>\n",
              "      <td>NaN</td>\n",
              "      <td>NaN</td>\n",
              "      <td>NaN</td>\n",
              "      <td>21.0</td>\n",
              "      <td>82.0</td>\n",
              "      <td>0.256</td>\n",
              "      <td>0.256</td>\n",
              "      <td>17.0</td>\n",
              "      <td>31.0</td>\n",
              "      <td>0.548</td>\n",
              "      <td>NaN</td>\n",
              "      <td>NaN</td>\n",
              "      <td>NaN</td>\n",
              "      <td>20.0</td>\n",
              "      <td>NaN</td>\n",
              "      <td>NaN</td>\n",
              "      <td>NaN</td>\n",
              "      <td>27.0</td>\n",
              "      <td>59.0</td>\n",
              "    </tr>\n",
              "  </tbody>\n",
              "</table>\n",
              "</div>"
            ],
            "text/plain": [
              "   Unnamed: 0    Year           Player  Pos   Age  ... STL  BLK  TOV     PF    PTS\n",
              "0           0  1950.0  Curly Armstrong  G-F  31.0  ... NaN  NaN  NaN  217.0  458.0\n",
              "1           1  1950.0     Cliff Barker   SG  29.0  ... NaN  NaN  NaN   99.0  279.0\n",
              "2           2  1950.0    Leo Barnhorst   SF  25.0  ... NaN  NaN  NaN  192.0  438.0\n",
              "3           3  1950.0       Ed Bartels    F  24.0  ... NaN  NaN  NaN   29.0   63.0\n",
              "4           4  1950.0       Ed Bartels    F  24.0  ... NaN  NaN  NaN   27.0   59.0\n",
              "\n",
              "[5 rows x 53 columns]"
            ]
          },
          "metadata": {
            "tags": []
          },
          "execution_count": 5
        }
      ]
    },
    {
      "cell_type": "code",
      "metadata": {
        "id": "0driHDGQ37xu",
        "colab_type": "code",
        "colab": {}
      },
      "source": [
        "players.dropna(subset=['Player'], how='all', inplace = True)\n",
        "stats.dropna(subset=['Player'], how='all', inplace = True)\n",
        "try:\n",
        "    del stats['blanl']\n",
        "    del stats['blank2']\n",
        "except:\n",
        "    print('уже удалено')"
      ],
      "execution_count": 0,
      "outputs": []
    },
    {
      "cell_type": "code",
      "metadata": {
        "id": "S9DMpn5Q3-tt",
        "colab_type": "code",
        "colab": {
          "base_uri": "https://localhost:8080/",
          "height": 34
        },
        "outputId": "3b759a18-9cef-4194-e1ff-a695dffd2d6a"
      },
      "source": [
        "print(players.shape, stats.shape)"
      ],
      "execution_count": 7,
      "outputs": [
        {
          "output_type": "stream",
          "text": [
            "(3921, 8) (24624, 51)\n"
          ],
          "name": "stdout"
        }
      ]
    },
    {
      "cell_type": "code",
      "metadata": {
        "id": "se1Lp_md4BeY",
        "colab_type": "code",
        "colab": {}
      },
      "source": [
        "def nul_deletion(data, coef):\n",
        "    for col in data.columns:\n",
        "        temp_null_count = data[data[col].isnull()].shape[0]\n",
        "        if temp_null_count>data[col].shape[0]*coef:\n",
        "            del data[col]\n",
        "        else:\n",
        "            if data[col].dtype != 'O':\n",
        "                data[col]=data[col].fillna(data[col].median())\n",
        "            else:\n",
        "                data.fillna(method='bfill', inplace =True)\n",
        "                data.fillna(method='ffill', inplace =True)"
      ],
      "execution_count": 0,
      "outputs": []
    },
    {
      "cell_type": "code",
      "metadata": {
        "id": "wGWvzUea4Egy",
        "colab_type": "code",
        "colab": {}
      },
      "source": [
        "nul_deletion(players, 0.3)\n",
        "nul_deletion(stats, 0.3)"
      ],
      "execution_count": 0,
      "outputs": []
    },
    {
      "cell_type": "code",
      "metadata": {
        "id": "HYzmb6BJ4Uc-",
        "colab_type": "code",
        "colab": {
          "base_uri": "https://localhost:8080/",
          "height": 34
        },
        "outputId": "5286adeb-1490-4b1d-dce7-525ffc3a4c7e"
      },
      "source": [
        "print(players.shape, stats.shape)"
      ],
      "execution_count": 11,
      "outputs": [
        {
          "output_type": "stream",
          "text": [
            "(3921, 8) (24624, 51)\n"
          ],
          "name": "stdout"
        }
      ]
    },
    {
      "cell_type": "code",
      "metadata": {
        "id": "_c9Q0Zji4Xh4",
        "colab_type": "code",
        "colab": {}
      },
      "source": [
        "players.rename(columns={'Unnamed: 0': 'Player_id'}, inplace=True)\n",
        "stats.rename(columns={'Unnamed: 0': 'Player_id'}, inplace=True)"
      ],
      "execution_count": 0,
      "outputs": []
    },
    {
      "cell_type": "code",
      "metadata": {
        "id": "x5Cjb9DS4pax",
        "colab_type": "code",
        "colab": {}
      },
      "source": [
        "def first(data):\n",
        "    return data.iloc[0]"
      ],
      "execution_count": 0,
      "outputs": []
    },
    {
      "cell_type": "code",
      "metadata": {
        "id": "6VQVD-6e4xDY",
        "colab_type": "code",
        "colab": {
          "base_uri": "https://localhost:8080/",
          "height": 299
        },
        "outputId": "e3d6d963-b84f-41af-f37d-0fc2f324e9d7"
      },
      "source": [
        "first_keys=['Player_id','Year', 'Age', 'Player', 'Pos', 'Tm']\n",
        "col_agg_d= {}\n",
        "col_agg_d.update(dict.fromkeys(first_keys, lambda d: d.iloc[0]))\n",
        "col_agg_d.update(dict.fromkeys(stats.columns[6:], np.mean))\n",
        "stats=stats.groupby(['Player']).agg(col_agg_d).sort_values(('Player_id'), ascending=True)\n",
        "stats = stats.reset_index(drop=True)\n",
        "for i in range(stats.shape[0]):\n",
        "    stats.at[i, 'Player_id'] = i\n",
        "stats.head()"
      ],
      "execution_count": 14,
      "outputs": [
        {
          "output_type": "execute_result",
          "data": {
            "text/html": [
              "<div>\n",
              "<style scoped>\n",
              "    .dataframe tbody tr th:only-of-type {\n",
              "        vertical-align: middle;\n",
              "    }\n",
              "\n",
              "    .dataframe tbody tr th {\n",
              "        vertical-align: top;\n",
              "    }\n",
              "\n",
              "    .dataframe thead th {\n",
              "        text-align: right;\n",
              "    }\n",
              "</style>\n",
              "<table border=\"1\" class=\"dataframe\">\n",
              "  <thead>\n",
              "    <tr style=\"text-align: right;\">\n",
              "      <th></th>\n",
              "      <th>Player_id</th>\n",
              "      <th>Year</th>\n",
              "      <th>Age</th>\n",
              "      <th>Player</th>\n",
              "      <th>Pos</th>\n",
              "      <th>Tm</th>\n",
              "      <th>G</th>\n",
              "      <th>GS</th>\n",
              "      <th>MP</th>\n",
              "      <th>PER</th>\n",
              "      <th>TS%</th>\n",
              "      <th>3PAr</th>\n",
              "      <th>FTr</th>\n",
              "      <th>ORB%</th>\n",
              "      <th>DRB%</th>\n",
              "      <th>TRB%</th>\n",
              "      <th>AST%</th>\n",
              "      <th>STL%</th>\n",
              "      <th>BLK%</th>\n",
              "      <th>TOV%</th>\n",
              "      <th>USG%</th>\n",
              "      <th>OWS</th>\n",
              "      <th>DWS</th>\n",
              "      <th>WS</th>\n",
              "      <th>WS/48</th>\n",
              "      <th>OBPM</th>\n",
              "      <th>DBPM</th>\n",
              "      <th>BPM</th>\n",
              "      <th>VORP</th>\n",
              "      <th>FG</th>\n",
              "      <th>FGA</th>\n",
              "      <th>FG%</th>\n",
              "      <th>3P</th>\n",
              "      <th>3PA</th>\n",
              "      <th>3P%</th>\n",
              "      <th>2P</th>\n",
              "      <th>2PA</th>\n",
              "      <th>2P%</th>\n",
              "      <th>eFG%</th>\n",
              "      <th>FT</th>\n",
              "      <th>FTA</th>\n",
              "      <th>FT%</th>\n",
              "      <th>ORB</th>\n",
              "      <th>DRB</th>\n",
              "      <th>TRB</th>\n",
              "      <th>AST</th>\n",
              "      <th>STL</th>\n",
              "      <th>BLK</th>\n",
              "      <th>TOV</th>\n",
              "      <th>PF</th>\n",
              "      <th>PTS</th>\n",
              "    </tr>\n",
              "  </thead>\n",
              "  <tbody>\n",
              "    <tr>\n",
              "      <th>0</th>\n",
              "      <td>0</td>\n",
              "      <td>1950.0</td>\n",
              "      <td>31.0</td>\n",
              "      <td>Curly Armstrong</td>\n",
              "      <td>G-F</td>\n",
              "      <td>FTW</td>\n",
              "      <td>50.500000</td>\n",
              "      <td>80.0</td>\n",
              "      <td>2939.0</td>\n",
              "      <td>25.50</td>\n",
              "      <td>0.370000</td>\n",
              "      <td>0.001</td>\n",
              "      <td>0.427500</td>\n",
              "      <td>11.4</td>\n",
              "      <td>28.6</td>\n",
              "      <td>16.8</td>\n",
              "      <td>13.5</td>\n",
              "      <td>1.5</td>\n",
              "      <td>2.3</td>\n",
              "      <td>16.6</td>\n",
              "      <td>21.1</td>\n",
              "      <td>-2.000000e-01</td>\n",
              "      <td>2.25</td>\n",
              "      <td>2.050</td>\n",
              "      <td>0.261000</td>\n",
              "      <td>-0.7</td>\n",
              "      <td>1.7</td>\n",
              "      <td>1.0</td>\n",
              "      <td>1.8</td>\n",
              "      <td>108.0</td>\n",
              "      <td>374.000000</td>\n",
              "      <td>0.294500</td>\n",
              "      <td>0.0</td>\n",
              "      <td>1.0</td>\n",
              "      <td>0.0</td>\n",
              "      <td>108.0</td>\n",
              "      <td>374.000000</td>\n",
              "      <td>0.294500</td>\n",
              "      <td>0.294500</td>\n",
              "      <td>114.000000</td>\n",
              "      <td>165.5</td>\n",
              "      <td>0.674500</td>\n",
              "      <td>259.0</td>\n",
              "      <td>664.0</td>\n",
              "      <td>364.500000</td>\n",
              "      <td>126.5</td>\n",
              "      <td>80.0</td>\n",
              "      <td>104.0</td>\n",
              "      <td>14.0</td>\n",
              "      <td>157.000000</td>\n",
              "      <td>330.000000</td>\n",
              "    </tr>\n",
              "    <tr>\n",
              "      <th>1</th>\n",
              "      <td>1</td>\n",
              "      <td>1950.0</td>\n",
              "      <td>29.0</td>\n",
              "      <td>Cliff Barker</td>\n",
              "      <td>SG</td>\n",
              "      <td>INO</td>\n",
              "      <td>49.666667</td>\n",
              "      <td>80.0</td>\n",
              "      <td>2124.0</td>\n",
              "      <td>20.60</td>\n",
              "      <td>0.366667</td>\n",
              "      <td>0.001</td>\n",
              "      <td>0.361667</td>\n",
              "      <td>11.4</td>\n",
              "      <td>28.6</td>\n",
              "      <td>16.8</td>\n",
              "      <td>13.5</td>\n",
              "      <td>1.5</td>\n",
              "      <td>2.3</td>\n",
              "      <td>16.6</td>\n",
              "      <td>21.1</td>\n",
              "      <td>3.700743e-17</td>\n",
              "      <td>0.70</td>\n",
              "      <td>0.700</td>\n",
              "      <td>0.176667</td>\n",
              "      <td>-0.7</td>\n",
              "      <td>1.7</td>\n",
              "      <td>1.0</td>\n",
              "      <td>1.8</td>\n",
              "      <td>67.0</td>\n",
              "      <td>212.333333</td>\n",
              "      <td>0.307333</td>\n",
              "      <td>0.0</td>\n",
              "      <td>1.0</td>\n",
              "      <td>0.0</td>\n",
              "      <td>67.0</td>\n",
              "      <td>212.333333</td>\n",
              "      <td>0.307333</td>\n",
              "      <td>0.307333</td>\n",
              "      <td>51.666667</td>\n",
              "      <td>78.0</td>\n",
              "      <td>0.648333</td>\n",
              "      <td>259.0</td>\n",
              "      <td>664.0</td>\n",
              "      <td>273.666667</td>\n",
              "      <td>98.0</td>\n",
              "      <td>80.0</td>\n",
              "      <td>104.0</td>\n",
              "      <td>14.0</td>\n",
              "      <td>84.333333</td>\n",
              "      <td>185.666667</td>\n",
              "    </tr>\n",
              "    <tr>\n",
              "      <th>2</th>\n",
              "      <td>2</td>\n",
              "      <td>1950.0</td>\n",
              "      <td>25.0</td>\n",
              "      <td>Leo Barnhorst</td>\n",
              "      <td>SF</td>\n",
              "      <td>CHS</td>\n",
              "      <td>68.800000</td>\n",
              "      <td>80.0</td>\n",
              "      <td>2631.4</td>\n",
              "      <td>17.52</td>\n",
              "      <td>0.395800</td>\n",
              "      <td>0.001</td>\n",
              "      <td>0.208800</td>\n",
              "      <td>11.4</td>\n",
              "      <td>28.6</td>\n",
              "      <td>16.8</td>\n",
              "      <td>13.5</td>\n",
              "      <td>1.5</td>\n",
              "      <td>2.3</td>\n",
              "      <td>16.6</td>\n",
              "      <td>21.1</td>\n",
              "      <td>3.000000e-01</td>\n",
              "      <td>2.40</td>\n",
              "      <td>2.680</td>\n",
              "      <td>0.127400</td>\n",
              "      <td>-0.7</td>\n",
              "      <td>1.7</td>\n",
              "      <td>1.0</td>\n",
              "      <td>1.8</td>\n",
              "      <td>271.2</td>\n",
              "      <td>737.800000</td>\n",
              "      <td>0.362200</td>\n",
              "      <td>0.0</td>\n",
              "      <td>1.0</td>\n",
              "      <td>0.0</td>\n",
              "      <td>271.2</td>\n",
              "      <td>737.800000</td>\n",
              "      <td>0.362200</td>\n",
              "      <td>0.362200</td>\n",
              "      <td>104.000000</td>\n",
              "      <td>156.4</td>\n",
              "      <td>0.676800</td>\n",
              "      <td>259.0</td>\n",
              "      <td>664.0</td>\n",
              "      <td>429.200000</td>\n",
              "      <td>223.2</td>\n",
              "      <td>80.0</td>\n",
              "      <td>104.0</td>\n",
              "      <td>14.0</td>\n",
              "      <td>206.600000</td>\n",
              "      <td>646.400000</td>\n",
              "    </tr>\n",
              "    <tr>\n",
              "      <th>3</th>\n",
              "      <td>3</td>\n",
              "      <td>1950.0</td>\n",
              "      <td>24.0</td>\n",
              "      <td>Ed Bartels</td>\n",
              "      <td>F</td>\n",
              "      <td>TOT</td>\n",
              "      <td>11.750000</td>\n",
              "      <td>80.0</td>\n",
              "      <td>2939.0</td>\n",
              "      <td>25.50</td>\n",
              "      <td>0.325750</td>\n",
              "      <td>0.001</td>\n",
              "      <td>0.499250</td>\n",
              "      <td>11.4</td>\n",
              "      <td>28.6</td>\n",
              "      <td>16.8</td>\n",
              "      <td>13.5</td>\n",
              "      <td>1.5</td>\n",
              "      <td>2.3</td>\n",
              "      <td>16.6</td>\n",
              "      <td>21.1</td>\n",
              "      <td>-4.500000e-01</td>\n",
              "      <td>0.00</td>\n",
              "      <td>-0.425</td>\n",
              "      <td>0.261000</td>\n",
              "      <td>-0.7</td>\n",
              "      <td>1.7</td>\n",
              "      <td>1.0</td>\n",
              "      <td>1.8</td>\n",
              "      <td>17.0</td>\n",
              "      <td>67.250000</td>\n",
              "      <td>0.252250</td>\n",
              "      <td>0.0</td>\n",
              "      <td>1.0</td>\n",
              "      <td>0.0</td>\n",
              "      <td>17.0</td>\n",
              "      <td>67.250000</td>\n",
              "      <td>0.252250</td>\n",
              "      <td>0.252250</td>\n",
              "      <td>15.500000</td>\n",
              "      <td>28.5</td>\n",
              "      <td>0.574000</td>\n",
              "      <td>259.0</td>\n",
              "      <td>664.0</td>\n",
              "      <td>501.000000</td>\n",
              "      <td>13.0</td>\n",
              "      <td>80.0</td>\n",
              "      <td>104.0</td>\n",
              "      <td>14.0</td>\n",
              "      <td>28.000000</td>\n",
              "      <td>49.500000</td>\n",
              "    </tr>\n",
              "    <tr>\n",
              "      <th>4</th>\n",
              "      <td>4</td>\n",
              "      <td>1950.0</td>\n",
              "      <td>22.0</td>\n",
              "      <td>Ralph Beard</td>\n",
              "      <td>G</td>\n",
              "      <td>INO</td>\n",
              "      <td>63.000000</td>\n",
              "      <td>80.0</td>\n",
              "      <td>2939.0</td>\n",
              "      <td>25.50</td>\n",
              "      <td>0.428500</td>\n",
              "      <td>0.001</td>\n",
              "      <td>0.321000</td>\n",
              "      <td>11.4</td>\n",
              "      <td>28.6</td>\n",
              "      <td>16.8</td>\n",
              "      <td>13.5</td>\n",
              "      <td>1.5</td>\n",
              "      <td>2.3</td>\n",
              "      <td>16.6</td>\n",
              "      <td>21.1</td>\n",
              "      <td>3.850000e+00</td>\n",
              "      <td>1.75</td>\n",
              "      <td>5.650</td>\n",
              "      <td>0.261000</td>\n",
              "      <td>-0.7</td>\n",
              "      <td>1.7</td>\n",
              "      <td>1.0</td>\n",
              "      <td>1.8</td>\n",
              "      <td>374.5</td>\n",
              "      <td>1023.000000</td>\n",
              "      <td>0.365500</td>\n",
              "      <td>0.0</td>\n",
              "      <td>1.0</td>\n",
              "      <td>0.0</td>\n",
              "      <td>374.5</td>\n",
              "      <td>1023.000000</td>\n",
              "      <td>0.365500</td>\n",
              "      <td>0.365500</td>\n",
              "      <td>254.000000</td>\n",
              "      <td>330.0</td>\n",
              "      <td>0.768500</td>\n",
              "      <td>259.0</td>\n",
              "      <td>664.0</td>\n",
              "      <td>445.500000</td>\n",
              "      <td>275.5</td>\n",
              "      <td>80.0</td>\n",
              "      <td>104.0</td>\n",
              "      <td>14.0</td>\n",
              "      <td>114.000000</td>\n",
              "      <td>1003.000000</td>\n",
              "    </tr>\n",
              "  </tbody>\n",
              "</table>\n",
              "</div>"
            ],
            "text/plain": [
              "   Player_id    Year   Age  ...   TOV          PF          PTS\n",
              "0          0  1950.0  31.0  ...  14.0  157.000000   330.000000\n",
              "1          1  1950.0  29.0  ...  14.0   84.333333   185.666667\n",
              "2          2  1950.0  25.0  ...  14.0  206.600000   646.400000\n",
              "3          3  1950.0  24.0  ...  14.0   28.000000    49.500000\n",
              "4          4  1950.0  22.0  ...  14.0  114.000000  1003.000000\n",
              "\n",
              "[5 rows x 51 columns]"
            ]
          },
          "metadata": {
            "tags": []
          },
          "execution_count": 14
        }
      ]
    },
    {
      "cell_type": "code",
      "metadata": {
        "id": "pMxVyv5H40r7",
        "colab_type": "code",
        "colab": {}
      },
      "source": [
        "players_with_stats = pd.merge(players, stats, left_on='Player_id', right_on='Player_id', how='inner')\n",
        "players_with_stats.rename(columns={'Player_x': 'Player'}, inplace=True)\n",
        "try:\n",
        "    del players_with_stats['Player_y']\n",
        "except:\n",
        "    pass"
      ],
      "execution_count": 0,
      "outputs": []
    },
    {
      "cell_type": "code",
      "metadata": {
        "id": "UU-9owRp4-XR",
        "colab_type": "code",
        "colab": {}
      },
      "source": [
        "def col_del(data, cols):\n",
        "    try:\n",
        "        for col in cols:\n",
        "            del data[col]\n",
        "    except:\n",
        "        print(\"Столбец не найден\")\n",
        "    print(data.shape)"
      ],
      "execution_count": 0,
      "outputs": []
    },
    {
      "cell_type": "code",
      "metadata": {
        "id": "hjEMVNSg5CL7",
        "colab_type": "code",
        "colab": {}
      },
      "source": [
        "def show_cor(data):\n",
        "    fig, ax = plt.subplots(figsize=(15,15)) \n",
        "    mask = np.zeros_like(data.corr(), dtype=np.bool)\n",
        "    mask[np.tril_indices_from(mask)] = True\n",
        "    sns.heatmap(data.corr(), mask=mask, fmt='.3f')"
      ],
      "execution_count": 0,
      "outputs": []
    },
    {
      "cell_type": "code",
      "metadata": {
        "id": "bVafBygm5E3Q",
        "colab_type": "code",
        "colab": {
          "base_uri": "https://localhost:8080/",
          "height": 912
        },
        "outputId": "184ec99e-3387-4b7e-9e00-b46d25179892"
      },
      "source": [
        "show_cor(players_with_stats)\n"
      ],
      "execution_count": 18,
      "outputs": [
        {
          "output_type": "display_data",
          "data": {
            "image/png": "[encoded data removed]",
            "text/plain": [
              "<Figure size 1080x1080 with 2 Axes>"
            ]
          },
          "metadata": {
            "tags": []
          }
        }
      ]
    },
    {
      "cell_type": "code",
      "metadata": {
        "id": "g-4oEb6X5HO_",
        "colab_type": "code",
        "colab": {
          "base_uri": "https://localhost:8080/",
          "height": 34
        },
        "outputId": "a58c72bd-0bfc-4fd7-ad33-acc7b5088a9a"
      },
      "source": [
        "col_del(players_with_stats, ['Tm','collage', 'born', 'birth_city', 'birth_state', 'Year', 'BPM', '2P%', \n",
        "                             'FT', 'FTA', 'FG%', 'TS%', 'MP', '2PA', 'FGA', 'WS', '3PA', 'FG', 'TRB%'])"
      ],
      "execution_count": 19,
      "outputs": [
        {
          "output_type": "stream",
          "text": [
            "(3920, 38)\n"
          ],
          "name": "stdout"
        }
      ]
    },
    {
      "cell_type": "code",
      "metadata": {
        "id": "jds9T_jr5Seo",
        "colab_type": "code",
        "colab": {
          "base_uri": "https://localhost:8080/",
          "height": 912
        },
        "outputId": "73b538c0-cb74-42e5-c3f7-b43046193556"
      },
      "source": [
        "show_cor(players_with_stats)"
      ],
      "execution_count": 20,
      "outputs": [
        {
          "output_type": "display_data",
          "data": {
            "image/png": "[encoded data removed]",
            "text/plain": [
              "<Figure size 1080x1080 with 2 Axes>"
            ]
          },
          "metadata": {
            "tags": []
          }
        }
      ]
    },
    {
      "cell_type": "code",
      "metadata": {
        "id": "06Yt1y8T5f3l",
        "colab_type": "code",
        "colab": {
          "base_uri": "https://localhost:8080/",
          "height": 299
        },
        "outputId": "f10a84f4-dd50-499a-df4a-106c5f54f798"
      },
      "source": [
        "players_with_stats.head()"
      ],
      "execution_count": 21,
      "outputs": [
        {
          "output_type": "execute_result",
          "data": {
            "text/html": [
              "<div>\n",
              "<style scoped>\n",
              "    .dataframe tbody tr th:only-of-type {\n",
              "        vertical-align: middle;\n",
              "    }\n",
              "\n",
              "    .dataframe tbody tr th {\n",
              "        vertical-align: top;\n",
              "    }\n",
              "\n",
              "    .dataframe thead th {\n",
              "        text-align: right;\n",
              "    }\n",
              "</style>\n",
              "<table border=\"1\" class=\"dataframe\">\n",
              "  <thead>\n",
              "    <tr style=\"text-align: right;\">\n",
              "      <th></th>\n",
              "      <th>Player_id</th>\n",
              "      <th>Player</th>\n",
              "      <th>height</th>\n",
              "      <th>weight</th>\n",
              "      <th>Age</th>\n",
              "      <th>Pos</th>\n",
              "      <th>G</th>\n",
              "      <th>GS</th>\n",
              "      <th>PER</th>\n",
              "      <th>3PAr</th>\n",
              "      <th>FTr</th>\n",
              "      <th>ORB%</th>\n",
              "      <th>DRB%</th>\n",
              "      <th>AST%</th>\n",
              "      <th>STL%</th>\n",
              "      <th>BLK%</th>\n",
              "      <th>TOV%</th>\n",
              "      <th>USG%</th>\n",
              "      <th>OWS</th>\n",
              "      <th>DWS</th>\n",
              "      <th>WS/48</th>\n",
              "      <th>OBPM</th>\n",
              "      <th>DBPM</th>\n",
              "      <th>VORP</th>\n",
              "      <th>3P</th>\n",
              "      <th>3P%</th>\n",
              "      <th>2P</th>\n",
              "      <th>eFG%</th>\n",
              "      <th>FT%</th>\n",
              "      <th>ORB</th>\n",
              "      <th>DRB</th>\n",
              "      <th>TRB</th>\n",
              "      <th>AST</th>\n",
              "      <th>STL</th>\n",
              "      <th>BLK</th>\n",
              "      <th>TOV</th>\n",
              "      <th>PF</th>\n",
              "      <th>PTS</th>\n",
              "    </tr>\n",
              "  </thead>\n",
              "  <tbody>\n",
              "    <tr>\n",
              "      <th>0</th>\n",
              "      <td>0</td>\n",
              "      <td>Curly Armstrong</td>\n",
              "      <td>180.0</td>\n",
              "      <td>77.0</td>\n",
              "      <td>31.0</td>\n",
              "      <td>G-F</td>\n",
              "      <td>50.500000</td>\n",
              "      <td>80.0</td>\n",
              "      <td>25.50</td>\n",
              "      <td>0.001</td>\n",
              "      <td>0.427500</td>\n",
              "      <td>11.4</td>\n",
              "      <td>28.6</td>\n",
              "      <td>13.5</td>\n",
              "      <td>1.5</td>\n",
              "      <td>2.3</td>\n",
              "      <td>16.6</td>\n",
              "      <td>21.1</td>\n",
              "      <td>-2.000000e-01</td>\n",
              "      <td>2.25</td>\n",
              "      <td>0.261000</td>\n",
              "      <td>-0.7</td>\n",
              "      <td>1.7</td>\n",
              "      <td>1.8</td>\n",
              "      <td>0.0</td>\n",
              "      <td>0.0</td>\n",
              "      <td>108.0</td>\n",
              "      <td>0.294500</td>\n",
              "      <td>0.674500</td>\n",
              "      <td>259.0</td>\n",
              "      <td>664.0</td>\n",
              "      <td>364.500000</td>\n",
              "      <td>126.5</td>\n",
              "      <td>80.0</td>\n",
              "      <td>104.0</td>\n",
              "      <td>14.0</td>\n",
              "      <td>157.000000</td>\n",
              "      <td>330.000000</td>\n",
              "    </tr>\n",
              "    <tr>\n",
              "      <th>1</th>\n",
              "      <td>1</td>\n",
              "      <td>Cliff Barker</td>\n",
              "      <td>188.0</td>\n",
              "      <td>83.0</td>\n",
              "      <td>29.0</td>\n",
              "      <td>SG</td>\n",
              "      <td>49.666667</td>\n",
              "      <td>80.0</td>\n",
              "      <td>20.60</td>\n",
              "      <td>0.001</td>\n",
              "      <td>0.361667</td>\n",
              "      <td>11.4</td>\n",
              "      <td>28.6</td>\n",
              "      <td>13.5</td>\n",
              "      <td>1.5</td>\n",
              "      <td>2.3</td>\n",
              "      <td>16.6</td>\n",
              "      <td>21.1</td>\n",
              "      <td>3.700743e-17</td>\n",
              "      <td>0.70</td>\n",
              "      <td>0.176667</td>\n",
              "      <td>-0.7</td>\n",
              "      <td>1.7</td>\n",
              "      <td>1.8</td>\n",
              "      <td>0.0</td>\n",
              "      <td>0.0</td>\n",
              "      <td>67.0</td>\n",
              "      <td>0.307333</td>\n",
              "      <td>0.648333</td>\n",
              "      <td>259.0</td>\n",
              "      <td>664.0</td>\n",
              "      <td>273.666667</td>\n",
              "      <td>98.0</td>\n",
              "      <td>80.0</td>\n",
              "      <td>104.0</td>\n",
              "      <td>14.0</td>\n",
              "      <td>84.333333</td>\n",
              "      <td>185.666667</td>\n",
              "    </tr>\n",
              "    <tr>\n",
              "      <th>2</th>\n",
              "      <td>2</td>\n",
              "      <td>Leo Barnhorst</td>\n",
              "      <td>193.0</td>\n",
              "      <td>86.0</td>\n",
              "      <td>25.0</td>\n",
              "      <td>SF</td>\n",
              "      <td>68.800000</td>\n",
              "      <td>80.0</td>\n",
              "      <td>17.52</td>\n",
              "      <td>0.001</td>\n",
              "      <td>0.208800</td>\n",
              "      <td>11.4</td>\n",
              "      <td>28.6</td>\n",
              "      <td>13.5</td>\n",
              "      <td>1.5</td>\n",
              "      <td>2.3</td>\n",
              "      <td>16.6</td>\n",
              "      <td>21.1</td>\n",
              "      <td>3.000000e-01</td>\n",
              "      <td>2.40</td>\n",
              "      <td>0.127400</td>\n",
              "      <td>-0.7</td>\n",
              "      <td>1.7</td>\n",
              "      <td>1.8</td>\n",
              "      <td>0.0</td>\n",
              "      <td>0.0</td>\n",
              "      <td>271.2</td>\n",
              "      <td>0.362200</td>\n",
              "      <td>0.676800</td>\n",
              "      <td>259.0</td>\n",
              "      <td>664.0</td>\n",
              "      <td>429.200000</td>\n",
              "      <td>223.2</td>\n",
              "      <td>80.0</td>\n",
              "      <td>104.0</td>\n",
              "      <td>14.0</td>\n",
              "      <td>206.600000</td>\n",
              "      <td>646.400000</td>\n",
              "    </tr>\n",
              "    <tr>\n",
              "      <th>3</th>\n",
              "      <td>3</td>\n",
              "      <td>Ed Bartels</td>\n",
              "      <td>196.0</td>\n",
              "      <td>88.0</td>\n",
              "      <td>24.0</td>\n",
              "      <td>F</td>\n",
              "      <td>11.750000</td>\n",
              "      <td>80.0</td>\n",
              "      <td>25.50</td>\n",
              "      <td>0.001</td>\n",
              "      <td>0.499250</td>\n",
              "      <td>11.4</td>\n",
              "      <td>28.6</td>\n",
              "      <td>13.5</td>\n",
              "      <td>1.5</td>\n",
              "      <td>2.3</td>\n",
              "      <td>16.6</td>\n",
              "      <td>21.1</td>\n",
              "      <td>-4.500000e-01</td>\n",
              "      <td>0.00</td>\n",
              "      <td>0.261000</td>\n",
              "      <td>-0.7</td>\n",
              "      <td>1.7</td>\n",
              "      <td>1.8</td>\n",
              "      <td>0.0</td>\n",
              "      <td>0.0</td>\n",
              "      <td>17.0</td>\n",
              "      <td>0.252250</td>\n",
              "      <td>0.574000</td>\n",
              "      <td>259.0</td>\n",
              "      <td>664.0</td>\n",
              "      <td>501.000000</td>\n",
              "      <td>13.0</td>\n",
              "      <td>80.0</td>\n",
              "      <td>104.0</td>\n",
              "      <td>14.0</td>\n",
              "      <td>28.000000</td>\n",
              "      <td>49.500000</td>\n",
              "    </tr>\n",
              "    <tr>\n",
              "      <th>4</th>\n",
              "      <td>4</td>\n",
              "      <td>Ralph Beard</td>\n",
              "      <td>178.0</td>\n",
              "      <td>79.0</td>\n",
              "      <td>22.0</td>\n",
              "      <td>G</td>\n",
              "      <td>63.000000</td>\n",
              "      <td>80.0</td>\n",
              "      <td>25.50</td>\n",
              "      <td>0.001</td>\n",
              "      <td>0.321000</td>\n",
              "      <td>11.4</td>\n",
              "      <td>28.6</td>\n",
              "      <td>13.5</td>\n",
              "      <td>1.5</td>\n",
              "      <td>2.3</td>\n",
              "      <td>16.6</td>\n",
              "      <td>21.1</td>\n",
              "      <td>3.850000e+00</td>\n",
              "      <td>1.75</td>\n",
              "      <td>0.261000</td>\n",
              "      <td>-0.7</td>\n",
              "      <td>1.7</td>\n",
              "      <td>1.8</td>\n",
              "      <td>0.0</td>\n",
              "      <td>0.0</td>\n",
              "      <td>374.5</td>\n",
              "      <td>0.365500</td>\n",
              "      <td>0.768500</td>\n",
              "      <td>259.0</td>\n",
              "      <td>664.0</td>\n",
              "      <td>445.500000</td>\n",
              "      <td>275.5</td>\n",
              "      <td>80.0</td>\n",
              "      <td>104.0</td>\n",
              "      <td>14.0</td>\n",
              "      <td>114.000000</td>\n",
              "      <td>1003.000000</td>\n",
              "    </tr>\n",
              "  </tbody>\n",
              "</table>\n",
              "</div>"
            ],
            "text/plain": [
              "   Player_id           Player  height  ...   TOV          PF          PTS\n",
              "0          0  Curly Armstrong   180.0  ...  14.0  157.000000   330.000000\n",
              "1          1     Cliff Barker   188.0  ...  14.0   84.333333   185.666667\n",
              "2          2    Leo Barnhorst   193.0  ...  14.0  206.600000   646.400000\n",
              "3          3       Ed Bartels   196.0  ...  14.0   28.000000    49.500000\n",
              "4          4      Ralph Beard   178.0  ...  14.0  114.000000  1003.000000\n",
              "\n",
              "[5 rows x 38 columns]"
            ]
          },
          "metadata": {
            "tags": []
          },
          "execution_count": 21
        }
      ]
    },
    {
      "cell_type": "code",
      "metadata": {
        "id": "uUtphzo05i7P",
        "colab_type": "code",
        "colab": {}
      },
      "source": [
        "players_with_stats['Pos'].replace(to_replace = ['PF-C', 'PF-SF', 'PG-SG', 'SF-PF', 'SF-SG', 'SG-PG', 'SG-SF'], \n",
        "                                  value = ['PF', 'PF', 'PG', 'SF', 'SF','SG', 'SG'],inplace = True)"
      ],
      "execution_count": 0,
      "outputs": []
    },
    {
      "cell_type": "code",
      "metadata": {
        "id": "Ga8kB1qJ5lgH",
        "colab_type": "code",
        "colab": {}
      },
      "source": [
        "players_with_stats['Pos'].replace(to_replace = ['G-F', 'F', 'G', 'F-C', 'F-G', 'C-F', 'C-PF'], \n",
        "                                  value = ['SG', 'PF', 'PG', 'PF', 'SF', 'C', 'C'],inplace = True)"
      ],
      "execution_count": 0,
      "outputs": []
    },
    {
      "cell_type": "code",
      "metadata": {
        "id": "WQXa7HD75ohL",
        "colab_type": "code",
        "colab": {
          "base_uri": "https://localhost:8080/",
          "height": 34
        },
        "outputId": "05774089-593d-4dbe-d567-36cc6fc62574"
      },
      "source": [
        "players_with_stats['Pos'].unique()"
      ],
      "execution_count": 24,
      "outputs": [
        {
          "output_type": "execute_result",
          "data": {
            "text/plain": [
              "array(['SG', 'SF', 'PF', 'PG', 'C'], dtype=object)"
            ]
          },
          "metadata": {
            "tags": []
          },
          "execution_count": 24
        }
      ]
    },
    {
      "cell_type": "code",
      "metadata": {
        "id": "GnzomSEK5qv4",
        "colab_type": "code",
        "colab": {}
      },
      "source": [
        "Pos = players_with_stats['Pos']"
      ],
      "execution_count": 0,
      "outputs": []
    },
    {
      "cell_type": "code",
      "metadata": {
        "id": "U5iBVwbu5se9",
        "colab_type": "code",
        "colab": {
          "base_uri": "https://localhost:8080/",
          "height": 34
        },
        "outputId": "7618a20b-3479-4294-87b8-e503fec2e5b3"
      },
      "source": [
        "le = LabelEncoder()\n",
        "Pos_le = le.fit_transform(players_with_stats['Pos'])\n",
        "pws = players_with_stats\n",
        "print(Pos_le.shape, pws.shape)"
      ],
      "execution_count": 26,
      "outputs": [
        {
          "output_type": "stream",
          "text": [
            "(3920,) (3920, 38)\n"
          ],
          "name": "stdout"
        }
      ]
    },
    {
      "cell_type": "code",
      "metadata": {
        "id": "iUT4YY2k5uqy",
        "colab_type": "code",
        "colab": {
          "base_uri": "https://localhost:8080/",
          "height": 34
        },
        "outputId": "4553fab4-8a51-43e1-e804-5401e902e56c"
      },
      "source": [
        "col_del(pws, ['Pos'])"
      ],
      "execution_count": 27,
      "outputs": [
        {
          "output_type": "stream",
          "text": [
            "(3920, 37)\n"
          ],
          "name": "stdout"
        }
      ]
    },
    {
      "cell_type": "code",
      "metadata": {
        "id": "A0lV_qSy5wpv",
        "colab_type": "code",
        "colab": {
          "base_uri": "https://localhost:8080/",
          "height": 34
        },
        "outputId": "52daa614-f189-4640-a88a-0e30d79fdf25"
      },
      "source": [
        "col_del(pws, ['Player_id', 'Player'])"
      ],
      "execution_count": 28,
      "outputs": [
        {
          "output_type": "stream",
          "text": [
            "(3920, 35)\n"
          ],
          "name": "stdout"
        }
      ]
    },
    {
      "cell_type": "code",
      "metadata": {
        "id": "Vz65GAdr5ygb",
        "colab_type": "code",
        "colab": {
          "base_uri": "https://localhost:8080/",
          "height": 249
        },
        "outputId": "87adef02-f2d7-4543-d634-25cfbd5f58f8"
      },
      "source": [
        "pws.head()"
      ],
      "execution_count": 29,
      "outputs": [
        {
          "output_type": "execute_result",
          "data": {
            "text/html": [
              "<div>\n",
              "<style scoped>\n",
              "    .dataframe tbody tr th:only-of-type {\n",
              "        vertical-align: middle;\n",
              "    }\n",
              "\n",
              "    .dataframe tbody tr th {\n",
              "        vertical-align: top;\n",
              "    }\n",
              "\n",
              "    .dataframe thead th {\n",
              "        text-align: right;\n",
              "    }\n",
              "</style>\n",
              "<table border=\"1\" class=\"dataframe\">\n",
              "  <thead>\n",
              "    <tr style=\"text-align: right;\">\n",
              "      <th></th>\n",
              "      <th>height</th>\n",
              "      <th>weight</th>\n",
              "      <th>Age</th>\n",
              "      <th>G</th>\n",
              "      <th>GS</th>\n",
              "      <th>PER</th>\n",
              "      <th>3PAr</th>\n",
              "      <th>FTr</th>\n",
              "      <th>ORB%</th>\n",
              "      <th>DRB%</th>\n",
              "      <th>AST%</th>\n",
              "      <th>STL%</th>\n",
              "      <th>BLK%</th>\n",
              "      <th>TOV%</th>\n",
              "      <th>USG%</th>\n",
              "      <th>OWS</th>\n",
              "      <th>DWS</th>\n",
              "      <th>WS/48</th>\n",
              "      <th>OBPM</th>\n",
              "      <th>DBPM</th>\n",
              "      <th>VORP</th>\n",
              "      <th>3P</th>\n",
              "      <th>3P%</th>\n",
              "      <th>2P</th>\n",
              "      <th>eFG%</th>\n",
              "      <th>FT%</th>\n",
              "      <th>ORB</th>\n",
              "      <th>DRB</th>\n",
              "      <th>TRB</th>\n",
              "      <th>AST</th>\n",
              "      <th>STL</th>\n",
              "      <th>BLK</th>\n",
              "      <th>TOV</th>\n",
              "      <th>PF</th>\n",
              "      <th>PTS</th>\n",
              "    </tr>\n",
              "  </thead>\n",
              "  <tbody>\n",
              "    <tr>\n",
              "      <th>0</th>\n",
              "      <td>180.0</td>\n",
              "      <td>77.0</td>\n",
              "      <td>31.0</td>\n",
              "      <td>50.500000</td>\n",
              "      <td>80.0</td>\n",
              "      <td>25.50</td>\n",
              "      <td>0.001</td>\n",
              "      <td>0.427500</td>\n",
              "      <td>11.4</td>\n",
              "      <td>28.6</td>\n",
              "      <td>13.5</td>\n",
              "      <td>1.5</td>\n",
              "      <td>2.3</td>\n",
              "      <td>16.6</td>\n",
              "      <td>21.1</td>\n",
              "      <td>-2.000000e-01</td>\n",
              "      <td>2.25</td>\n",
              "      <td>0.261000</td>\n",
              "      <td>-0.7</td>\n",
              "      <td>1.7</td>\n",
              "      <td>1.8</td>\n",
              "      <td>0.0</td>\n",
              "      <td>0.0</td>\n",
              "      <td>108.0</td>\n",
              "      <td>0.294500</td>\n",
              "      <td>0.674500</td>\n",
              "      <td>259.0</td>\n",
              "      <td>664.0</td>\n",
              "      <td>364.500000</td>\n",
              "      <td>126.5</td>\n",
              "      <td>80.0</td>\n",
              "      <td>104.0</td>\n",
              "      <td>14.0</td>\n",
              "      <td>157.000000</td>\n",
              "      <td>330.000000</td>\n",
              "    </tr>\n",
              "    <tr>\n",
              "      <th>1</th>\n",
              "      <td>188.0</td>\n",
              "      <td>83.0</td>\n",
              "      <td>29.0</td>\n",
              "      <td>49.666667</td>\n",
              "      <td>80.0</td>\n",
              "      <td>20.60</td>\n",
              "      <td>0.001</td>\n",
              "      <td>0.361667</td>\n",
              "      <td>11.4</td>\n",
              "      <td>28.6</td>\n",
              "      <td>13.5</td>\n",
              "      <td>1.5</td>\n",
              "      <td>2.3</td>\n",
              "      <td>16.6</td>\n",
              "      <td>21.1</td>\n",
              "      <td>3.700743e-17</td>\n",
              "      <td>0.70</td>\n",
              "      <td>0.176667</td>\n",
              "      <td>-0.7</td>\n",
              "      <td>1.7</td>\n",
              "      <td>1.8</td>\n",
              "      <td>0.0</td>\n",
              "      <td>0.0</td>\n",
              "      <td>67.0</td>\n",
              "      <td>0.307333</td>\n",
              "      <td>0.648333</td>\n",
              "      <td>259.0</td>\n",
              "      <td>664.0</td>\n",
              "      <td>273.666667</td>\n",
              "      <td>98.0</td>\n",
              "      <td>80.0</td>\n",
              "      <td>104.0</td>\n",
              "      <td>14.0</td>\n",
              "      <td>84.333333</td>\n",
              "      <td>185.666667</td>\n",
              "    </tr>\n",
              "    <tr>\n",
              "      <th>2</th>\n",
              "      <td>193.0</td>\n",
              "      <td>86.0</td>\n",
              "      <td>25.0</td>\n",
              "      <td>68.800000</td>\n",
              "      <td>80.0</td>\n",
              "      <td>17.52</td>\n",
              "      <td>0.001</td>\n",
              "      <td>0.208800</td>\n",
              "      <td>11.4</td>\n",
              "      <td>28.6</td>\n",
              "      <td>13.5</td>\n",
              "      <td>1.5</td>\n",
              "      <td>2.3</td>\n",
              "      <td>16.6</td>\n",
              "      <td>21.1</td>\n",
              "      <td>3.000000e-01</td>\n",
              "      <td>2.40</td>\n",
              "      <td>0.127400</td>\n",
              "      <td>-0.7</td>\n",
              "      <td>1.7</td>\n",
              "      <td>1.8</td>\n",
              "      <td>0.0</td>\n",
              "      <td>0.0</td>\n",
              "      <td>271.2</td>\n",
              "      <td>0.362200</td>\n",
              "      <td>0.676800</td>\n",
              "      <td>259.0</td>\n",
              "      <td>664.0</td>\n",
              "      <td>429.200000</td>\n",
              "      <td>223.2</td>\n",
              "      <td>80.0</td>\n",
              "      <td>104.0</td>\n",
              "      <td>14.0</td>\n",
              "      <td>206.600000</td>\n",
              "      <td>646.400000</td>\n",
              "    </tr>\n",
              "    <tr>\n",
              "      <th>3</th>\n",
              "      <td>196.0</td>\n",
              "      <td>88.0</td>\n",
              "      <td>24.0</td>\n",
              "      <td>11.750000</td>\n",
              "      <td>80.0</td>\n",
              "      <td>25.50</td>\n",
              "      <td>0.001</td>\n",
              "      <td>0.499250</td>\n",
              "      <td>11.4</td>\n",
              "      <td>28.6</td>\n",
              "      <td>13.5</td>\n",
              "      <td>1.5</td>\n",
              "      <td>2.3</td>\n",
              "      <td>16.6</td>\n",
              "      <td>21.1</td>\n",
              "      <td>-4.500000e-01</td>\n",
              "      <td>0.00</td>\n",
              "      <td>0.261000</td>\n",
              "      <td>-0.7</td>\n",
              "      <td>1.7</td>\n",
              "      <td>1.8</td>\n",
              "      <td>0.0</td>\n",
              "      <td>0.0</td>\n",
              "      <td>17.0</td>\n",
              "      <td>0.252250</td>\n",
              "      <td>0.574000</td>\n",
              "      <td>259.0</td>\n",
              "      <td>664.0</td>\n",
              "      <td>501.000000</td>\n",
              "      <td>13.0</td>\n",
              "      <td>80.0</td>\n",
              "      <td>104.0</td>\n",
              "      <td>14.0</td>\n",
              "      <td>28.000000</td>\n",
              "      <td>49.500000</td>\n",
              "    </tr>\n",
              "    <tr>\n",
              "      <th>4</th>\n",
              "      <td>178.0</td>\n",
              "      <td>79.0</td>\n",
              "      <td>22.0</td>\n",
              "      <td>63.000000</td>\n",
              "      <td>80.0</td>\n",
              "      <td>25.50</td>\n",
              "      <td>0.001</td>\n",
              "      <td>0.321000</td>\n",
              "      <td>11.4</td>\n",
              "      <td>28.6</td>\n",
              "      <td>13.5</td>\n",
              "      <td>1.5</td>\n",
              "      <td>2.3</td>\n",
              "      <td>16.6</td>\n",
              "      <td>21.1</td>\n",
              "      <td>3.850000e+00</td>\n",
              "      <td>1.75</td>\n",
              "      <td>0.261000</td>\n",
              "      <td>-0.7</td>\n",
              "      <td>1.7</td>\n",
              "      <td>1.8</td>\n",
              "      <td>0.0</td>\n",
              "      <td>0.0</td>\n",
              "      <td>374.5</td>\n",
              "      <td>0.365500</td>\n",
              "      <td>0.768500</td>\n",
              "      <td>259.0</td>\n",
              "      <td>664.0</td>\n",
              "      <td>445.500000</td>\n",
              "      <td>275.5</td>\n",
              "      <td>80.0</td>\n",
              "      <td>104.0</td>\n",
              "      <td>14.0</td>\n",
              "      <td>114.000000</td>\n",
              "      <td>1003.000000</td>\n",
              "    </tr>\n",
              "  </tbody>\n",
              "</table>\n",
              "</div>"
            ],
            "text/plain": [
              "   height  weight   Age          G  ...    BLK   TOV          PF          PTS\n",
              "0   180.0    77.0  31.0  50.500000  ...  104.0  14.0  157.000000   330.000000\n",
              "1   188.0    83.0  29.0  49.666667  ...  104.0  14.0   84.333333   185.666667\n",
              "2   193.0    86.0  25.0  68.800000  ...  104.0  14.0  206.600000   646.400000\n",
              "3   196.0    88.0  24.0  11.750000  ...  104.0  14.0   28.000000    49.500000\n",
              "4   178.0    79.0  22.0  63.000000  ...  104.0  14.0  114.000000  1003.000000\n",
              "\n",
              "[5 rows x 35 columns]"
            ]
          },
          "metadata": {
            "tags": []
          },
          "execution_count": 29
        }
      ]
    },
    {
      "cell_type": "code",
      "metadata": {
        "id": "C3rrGH6f50Tz",
        "colab_type": "code",
        "colab": {}
      },
      "source": [
        "import matplotlib.pyplot as plt\n",
        "from sklearn.preprocessing import normalize\n",
        "%matplotlib inline"
      ],
      "execution_count": 0,
      "outputs": []
    },
    {
      "cell_type": "code",
      "metadata": {
        "id": "S_y-yyfw52ko",
        "colab_type": "code",
        "colab": {}
      },
      "source": [
        "pws_norm = normalize(pws)"
      ],
      "execution_count": 0,
      "outputs": []
    },
    {
      "cell_type": "code",
      "metadata": {
        "id": "zXftMJ6454md",
        "colab_type": "code",
        "colab": {
          "base_uri": "https://localhost:8080/",
          "height": 34
        },
        "outputId": "b0b1f5f2-f580-4e7b-fd49-6ed66ee063c8"
      },
      "source": [
        "print(pws_norm.shape, Pos_le.shape)"
      ],
      "execution_count": 32,
      "outputs": [
        {
          "output_type": "stream",
          "text": [
            "(3920, 35) (3920,)\n"
          ],
          "name": "stdout"
        }
      ]
    },
    {
      "cell_type": "code",
      "metadata": {
        "id": "yr9ZsPox56lM",
        "colab_type": "code",
        "colab": {
          "base_uri": "https://localhost:8080/",
          "height": 34
        },
        "outputId": "f82c428c-22b2-478e-8549-96772a0cd29e"
      },
      "source": [
        "np.unique(Pos_le)"
      ],
      "execution_count": 33,
      "outputs": [
        {
          "output_type": "execute_result",
          "data": {
            "text/plain": [
              "array([0, 1, 2, 3, 4])"
            ]
          },
          "metadata": {
            "tags": []
          },
          "execution_count": 33
        }
      ]
    },
    {
      "cell_type": "code",
      "metadata": {
        "id": "egTj-TzM58N7",
        "colab_type": "code",
        "colab": {
          "base_uri": "https://localhost:8080/",
          "height": 899
        },
        "outputId": "5c7f8ff8-5147-490b-c45f-281c1fc20823"
      },
      "source": [
        "data = pws.copy()\n",
        "data['Pos'] = Pos_le\n",
        "data.head()\n",
        "show_cor(data)"
      ],
      "execution_count": 34,
      "outputs": [
        {
          "output_type": "display_data",
          "data": {
            "image/png": "[encoded data removed]",
            "text/plain": [
              "<Figure size 1080x1080 with 2 Axes>"
            ]
          },
          "metadata": {
            "tags": []
          }
        }
      ]
    },
    {
      "cell_type": "code",
      "metadata": {
        "id": "DkH6kvWh597e",
        "colab_type": "code",
        "colab": {
          "base_uri": "https://localhost:8080/",
          "height": 249
        },
        "outputId": "2f59f55f-a060-48b0-c83d-d46798bfeb88"
      },
      "source": [
        "data.head()"
      ],
      "execution_count": 35,
      "outputs": [
        {
          "output_type": "execute_result",
          "data": {
            "text/html": [
              "<div>\n",
              "<style scoped>\n",
              "    .dataframe tbody tr th:only-of-type {\n",
              "        vertical-align: middle;\n",
              "    }\n",
              "\n",
              "    .dataframe tbody tr th {\n",
              "        vertical-align: top;\n",
              "    }\n",
              "\n",
              "    .dataframe thead th {\n",
              "        text-align: right;\n",
              "    }\n",
              "</style>\n",
              "<table border=\"1\" class=\"dataframe\">\n",
              "  <thead>\n",
              "    <tr style=\"text-align: right;\">\n",
              "      <th></th>\n",
              "      <th>height</th>\n",
              "      <th>weight</th>\n",
              "      <th>Age</th>\n",
              "      <th>G</th>\n",
              "      <th>GS</th>\n",
              "      <th>PER</th>\n",
              "      <th>3PAr</th>\n",
              "      <th>FTr</th>\n",
              "      <th>ORB%</th>\n",
              "      <th>DRB%</th>\n",
              "      <th>AST%</th>\n",
              "      <th>STL%</th>\n",
              "      <th>BLK%</th>\n",
              "      <th>TOV%</th>\n",
              "      <th>USG%</th>\n",
              "      <th>OWS</th>\n",
              "      <th>DWS</th>\n",
              "      <th>WS/48</th>\n",
              "      <th>OBPM</th>\n",
              "      <th>DBPM</th>\n",
              "      <th>VORP</th>\n",
              "      <th>3P</th>\n",
              "      <th>3P%</th>\n",
              "      <th>2P</th>\n",
              "      <th>eFG%</th>\n",
              "      <th>FT%</th>\n",
              "      <th>ORB</th>\n",
              "      <th>DRB</th>\n",
              "      <th>TRB</th>\n",
              "      <th>AST</th>\n",
              "      <th>STL</th>\n",
              "      <th>BLK</th>\n",
              "      <th>TOV</th>\n",
              "      <th>PF</th>\n",
              "      <th>PTS</th>\n",
              "      <th>Pos</th>\n",
              "    </tr>\n",
              "  </thead>\n",
              "  <tbody>\n",
              "    <tr>\n",
              "      <th>0</th>\n",
              "      <td>180.0</td>\n",
              "      <td>77.0</td>\n",
              "      <td>31.0</td>\n",
              "      <td>50.500000</td>\n",
              "      <td>80.0</td>\n",
              "      <td>25.50</td>\n",
              "      <td>0.001</td>\n",
              "      <td>0.427500</td>\n",
              "      <td>11.4</td>\n",
              "      <td>28.6</td>\n",
              "      <td>13.5</td>\n",
              "      <td>1.5</td>\n",
              "      <td>2.3</td>\n",
              "      <td>16.6</td>\n",
              "      <td>21.1</td>\n",
              "      <td>-2.000000e-01</td>\n",
              "      <td>2.25</td>\n",
              "      <td>0.261000</td>\n",
              "      <td>-0.7</td>\n",
              "      <td>1.7</td>\n",
              "      <td>1.8</td>\n",
              "      <td>0.0</td>\n",
              "      <td>0.0</td>\n",
              "      <td>108.0</td>\n",
              "      <td>0.294500</td>\n",
              "      <td>0.674500</td>\n",
              "      <td>259.0</td>\n",
              "      <td>664.0</td>\n",
              "      <td>364.500000</td>\n",
              "      <td>126.5</td>\n",
              "      <td>80.0</td>\n",
              "      <td>104.0</td>\n",
              "      <td>14.0</td>\n",
              "      <td>157.000000</td>\n",
              "      <td>330.000000</td>\n",
              "      <td>4</td>\n",
              "    </tr>\n",
              "    <tr>\n",
              "      <th>1</th>\n",
              "      <td>188.0</td>\n",
              "      <td>83.0</td>\n",
              "      <td>29.0</td>\n",
              "      <td>49.666667</td>\n",
              "      <td>80.0</td>\n",
              "      <td>20.60</td>\n",
              "      <td>0.001</td>\n",
              "      <td>0.361667</td>\n",
              "      <td>11.4</td>\n",
              "      <td>28.6</td>\n",
              "      <td>13.5</td>\n",
              "      <td>1.5</td>\n",
              "      <td>2.3</td>\n",
              "      <td>16.6</td>\n",
              "      <td>21.1</td>\n",
              "      <td>3.700743e-17</td>\n",
              "      <td>0.70</td>\n",
              "      <td>0.176667</td>\n",
              "      <td>-0.7</td>\n",
              "      <td>1.7</td>\n",
              "      <td>1.8</td>\n",
              "      <td>0.0</td>\n",
              "      <td>0.0</td>\n",
              "      <td>67.0</td>\n",
              "      <td>0.307333</td>\n",
              "      <td>0.648333</td>\n",
              "      <td>259.0</td>\n",
              "      <td>664.0</td>\n",
              "      <td>273.666667</td>\n",
              "      <td>98.0</td>\n",
              "      <td>80.0</td>\n",
              "      <td>104.0</td>\n",
              "      <td>14.0</td>\n",
              "      <td>84.333333</td>\n",
              "      <td>185.666667</td>\n",
              "      <td>4</td>\n",
              "    </tr>\n",
              "    <tr>\n",
              "      <th>2</th>\n",
              "      <td>193.0</td>\n",
              "      <td>86.0</td>\n",
              "      <td>25.0</td>\n",
              "      <td>68.800000</td>\n",
              "      <td>80.0</td>\n",
              "      <td>17.52</td>\n",
              "      <td>0.001</td>\n",
              "      <td>0.208800</td>\n",
              "      <td>11.4</td>\n",
              "      <td>28.6</td>\n",
              "      <td>13.5</td>\n",
              "      <td>1.5</td>\n",
              "      <td>2.3</td>\n",
              "      <td>16.6</td>\n",
              "      <td>21.1</td>\n",
              "      <td>3.000000e-01</td>\n",
              "      <td>2.40</td>\n",
              "      <td>0.127400</td>\n",
              "      <td>-0.7</td>\n",
              "      <td>1.7</td>\n",
              "      <td>1.8</td>\n",
              "      <td>0.0</td>\n",
              "      <td>0.0</td>\n",
              "      <td>271.2</td>\n",
              "      <td>0.362200</td>\n",
              "      <td>0.676800</td>\n",
              "      <td>259.0</td>\n",
              "      <td>664.0</td>\n",
              "      <td>429.200000</td>\n",
              "      <td>223.2</td>\n",
              "      <td>80.0</td>\n",
              "      <td>104.0</td>\n",
              "      <td>14.0</td>\n",
              "      <td>206.600000</td>\n",
              "      <td>646.400000</td>\n",
              "      <td>3</td>\n",
              "    </tr>\n",
              "    <tr>\n",
              "      <th>3</th>\n",
              "      <td>196.0</td>\n",
              "      <td>88.0</td>\n",
              "      <td>24.0</td>\n",
              "      <td>11.750000</td>\n",
              "      <td>80.0</td>\n",
              "      <td>25.50</td>\n",
              "      <td>0.001</td>\n",
              "      <td>0.499250</td>\n",
              "      <td>11.4</td>\n",
              "      <td>28.6</td>\n",
              "      <td>13.5</td>\n",
              "      <td>1.5</td>\n",
              "      <td>2.3</td>\n",
              "      <td>16.6</td>\n",
              "      <td>21.1</td>\n",
              "      <td>-4.500000e-01</td>\n",
              "      <td>0.00</td>\n",
              "      <td>0.261000</td>\n",
              "      <td>-0.7</td>\n",
              "      <td>1.7</td>\n",
              "      <td>1.8</td>\n",
              "      <td>0.0</td>\n",
              "      <td>0.0</td>\n",
              "      <td>17.0</td>\n",
              "      <td>0.252250</td>\n",
              "      <td>0.574000</td>\n",
              "      <td>259.0</td>\n",
              "      <td>664.0</td>\n",
              "      <td>501.000000</td>\n",
              "      <td>13.0</td>\n",
              "      <td>80.0</td>\n",
              "      <td>104.0</td>\n",
              "      <td>14.0</td>\n",
              "      <td>28.000000</td>\n",
              "      <td>49.500000</td>\n",
              "      <td>1</td>\n",
              "    </tr>\n",
              "    <tr>\n",
              "      <th>4</th>\n",
              "      <td>178.0</td>\n",
              "      <td>79.0</td>\n",
              "      <td>22.0</td>\n",
              "      <td>63.000000</td>\n",
              "      <td>80.0</td>\n",
              "      <td>25.50</td>\n",
              "      <td>0.001</td>\n",
              "      <td>0.321000</td>\n",
              "      <td>11.4</td>\n",
              "      <td>28.6</td>\n",
              "      <td>13.5</td>\n",
              "      <td>1.5</td>\n",
              "      <td>2.3</td>\n",
              "      <td>16.6</td>\n",
              "      <td>21.1</td>\n",
              "      <td>3.850000e+00</td>\n",
              "      <td>1.75</td>\n",
              "      <td>0.261000</td>\n",
              "      <td>-0.7</td>\n",
              "      <td>1.7</td>\n",
              "      <td>1.8</td>\n",
              "      <td>0.0</td>\n",
              "      <td>0.0</td>\n",
              "      <td>374.5</td>\n",
              "      <td>0.365500</td>\n",
              "      <td>0.768500</td>\n",
              "      <td>259.0</td>\n",
              "      <td>664.0</td>\n",
              "      <td>445.500000</td>\n",
              "      <td>275.5</td>\n",
              "      <td>80.0</td>\n",
              "      <td>104.0</td>\n",
              "      <td>14.0</td>\n",
              "      <td>114.000000</td>\n",
              "      <td>1003.000000</td>\n",
              "      <td>2</td>\n",
              "    </tr>\n",
              "  </tbody>\n",
              "</table>\n",
              "</div>"
            ],
            "text/plain": [
              "   height  weight   Age          G  ...   TOV          PF          PTS  Pos\n",
              "0   180.0    77.0  31.0  50.500000  ...  14.0  157.000000   330.000000    4\n",
              "1   188.0    83.0  29.0  49.666667  ...  14.0   84.333333   185.666667    4\n",
              "2   193.0    86.0  25.0  68.800000  ...  14.0  206.600000   646.400000    3\n",
              "3   196.0    88.0  24.0  11.750000  ...  14.0   28.000000    49.500000    1\n",
              "4   178.0    79.0  22.0  63.000000  ...  14.0  114.000000  1003.000000    2\n",
              "\n",
              "[5 rows x 36 columns]"
            ]
          },
          "metadata": {
            "tags": []
          },
          "execution_count": 35
        }
      ]
    },
    {
      "cell_type": "code",
      "metadata": {
        "id": "950T0Mmc6AN1",
        "colab_type": "code",
        "colab": {}
      },
      "source": [
        "from sklearn.neighbors import KNeighborsClassifier as KNC\n",
        "from sklearn.model_selection import train_test_split\n",
        "from sklearn.metrics import accuracy_score\n",
        "from sklearn.feature_selection import chi2\n",
        "from sklearn.feature_selection import SelectKBest"
      ],
      "execution_count": 0,
      "outputs": []
    },
    {
      "cell_type": "code",
      "metadata": {
        "id": "LYu6i9cs6CcZ",
        "colab_type": "code",
        "colab": {}
      },
      "source": [
        "X_train, X_test, y_train, y_test = train_test_split(pws_norm, Pos_le, test_size=0.2, random_state=42)"
      ],
      "execution_count": 0,
      "outputs": []
    },
    {
      "cell_type": "code",
      "metadata": {
        "id": "FaBoi55h6Ekn",
        "colab_type": "code",
        "colab": {
          "base_uri": "https://localhost:8080/",
          "height": 34
        },
        "outputId": "cb5060f4-63fd-46d2-ffe7-a6711b71980d"
      },
      "source": [
        "knc = KNC(n_neighbors=9, weights='distance', algorithm = 'auto')\n",
        "knc.fit(X_train, y_train)\n",
        "print(knc.score(X_test, y_test))\n",
        "y_pred = knc.predict(X_test)"
      ],
      "execution_count": 38,
      "outputs": [
        {
          "output_type": "stream",
          "text": [
            "0.5535714285714286\n"
          ],
          "name": "stdout"
        }
      ]
    },
    {
      "cell_type": "code",
      "metadata": {
        "id": "sI7dxT9X6GZ_",
        "colab_type": "code",
        "colab": {}
      },
      "source": [
        "from sklearn.model_selection import GridSearchCV"
      ],
      "execution_count": 0,
      "outputs": []
    },
    {
      "cell_type": "code",
      "metadata": {
        "id": "WbgdXWDg6I31",
        "colab_type": "code",
        "colab": {
          "base_uri": "https://localhost:8080/",
          "height": 289
        },
        "outputId": "4b5c8c02-594d-4df2-d680-d34981b53a9e"
      },
      "source": [
        "parameters = {'n_neighbors': list(range(1,25,2)), 'weights': ['uniform', 'distance'], 'algorithm': ['auto', 'ball_tree', 'kd_tree', 'brute']}\n",
        "grid = GridSearchCV(knc, parameters)\n",
        "grid.fit(X_train, y_train)"
      ],
      "execution_count": 40,
      "outputs": [
        {
          "output_type": "stream",
          "text": [
            "/usr/local/lib/python3.6/dist-packages/sklearn/model_selection/_split.py:1978: FutureWarning: The default value of cv will change from 3 to 5 in version 0.22. Specify it explicitly to silence this warning.\n",
            "  warnings.warn(CV_WARNING, FutureWarning)\n"
          ],
          "name": "stderr"
        },
        {
          "output_type": "execute_result",
          "data": {
            "text/plain": [
              "GridSearchCV(cv='warn', error_score='raise-deprecating',\n",
              "             estimator=KNeighborsClassifier(algorithm='auto', leaf_size=30,\n",
              "                                            metric='minkowski',\n",
              "                                            metric_params=None, n_jobs=None,\n",
              "                                            n_neighbors=9, p=2,\n",
              "                                            weights='distance'),\n",
              "             iid='warn', n_jobs=None,\n",
              "             param_grid={'algorithm': ['auto', 'ball_tree', 'kd_tree', 'brute'],\n",
              "                         'n_neighbors': [1, 3, 5, 7, 9, 11, 13, 15, 17, 19, 21,\n",
              "                                         23],\n",
              "                         'weights': ['uniform', 'distance']},\n",
              "             pre_dispatch='2*n_jobs', refit=True, return_train_score=False,\n",
              "             scoring=None, verbose=0)"
            ]
          },
          "metadata": {
            "tags": []
          },
          "execution_count": 40
        }
      ]
    },
    {
      "cell_type": "code",
      "metadata": {
        "id": "0tqknE0p6LOb",
        "colab_type": "code",
        "colab": {
          "base_uri": "https://localhost:8080/",
          "height": 34
        },
        "outputId": "94da3ebd-6f34-42d5-bf24-bd09c6bc7c32"
      },
      "source": [
        "grid.best_params_"
      ],
      "execution_count": 41,
      "outputs": [
        {
          "output_type": "execute_result",
          "data": {
            "text/plain": [
              "{'algorithm': 'auto', 'n_neighbors': 15, 'weights': 'distance'}"
            ]
          },
          "metadata": {
            "tags": []
          },
          "execution_count": 41
        }
      ]
    },
    {
      "cell_type": "code",
      "metadata": {
        "id": "vjnSC0lo6QVZ",
        "colab_type": "code",
        "colab": {
          "base_uri": "https://localhost:8080/",
          "height": 67
        },
        "outputId": "7172ccf7-4dfd-4abb-df4a-c20db9193beb"
      },
      "source": [
        "grid.best_estimator_"
      ],
      "execution_count": 42,
      "outputs": [
        {
          "output_type": "execute_result",
          "data": {
            "text/plain": [
              "KNeighborsClassifier(algorithm='auto', leaf_size=30, metric='minkowski',\n",
              "                     metric_params=None, n_jobs=None, n_neighbors=15, p=2,\n",
              "                     weights='distance')"
            ]
          },
          "metadata": {
            "tags": []
          },
          "execution_count": 42
        }
      ]
    },
    {
      "cell_type": "code",
      "metadata": {
        "id": "oaHDxF466SUG",
        "colab_type": "code",
        "colab": {
          "base_uri": "https://localhost:8080/",
          "height": 34
        },
        "outputId": "25251f6b-cc9e-4e28-a4d4-659b2c570785"
      },
      "source": [
        "grid.best_score_"
      ],
      "execution_count": 43,
      "outputs": [
        {
          "output_type": "execute_result",
          "data": {
            "text/plain": [
              "0.5117984693877551"
            ]
          },
          "metadata": {
            "tags": []
          },
          "execution_count": 43
        }
      ]
    },
    {
      "cell_type": "code",
      "metadata": {
        "id": "xdCPR8MN6UkU",
        "colab_type": "code",
        "colab": {}
      },
      "source": [
        "from sklearn.model_selection import learning_curve\n",
        "from sklearn.model_selection import ShuffleSplit\n",
        "\n",
        "def plot_learning_curve(estimator, title, X, y, ylim=None, cv=None, n_jobs=None, train_sizes=np.linspace(.1, 1.0, 5)):\n",
        "    plt.figure()\n",
        "    plt.title(title)\n",
        "    if ylim is not None:\n",
        "        plt.ylim(*ylim)\n",
        "    plt.xlabel(\"Training examples\")\n",
        "    plt.ylabel(\"Score\")\n",
        "    train_sizes, train_scores, test_scores = learning_curve(\n",
        "        estimator, X, y, cv=cv, n_jobs=n_jobs, train_sizes=train_sizes)\n",
        "    train_scores_mean = np.mean(train_scores, axis=1)\n",
        "    train_scores_std = np.std(train_scores, axis=1)\n",
        "    test_scores_mean = np.mean(test_scores, axis=1)\n",
        "    test_scores_std = np.std(test_scores, axis=1)\n",
        "    plt.grid()\n",
        "\n",
        "    plt.fill_between(train_sizes, train_scores_mean - train_scores_std,\n",
        "                     train_scores_mean + train_scores_std, alpha=0.1,\n",
        "                     color=\"r\")\n",
        "    plt.fill_between(train_sizes, test_scores_mean - test_scores_std,\n",
        "                     test_scores_mean + test_scores_std, alpha=0.1, color=\"g\")\n",
        "    plt.plot(train_sizes, train_scores_mean, 'o-', color=\"r\",\n",
        "             label=\"Training score\")\n",
        "    plt.plot(train_sizes, test_scores_mean, 'o-', color=\"g\",\n",
        "             label=\"Cross-validation score\")\n",
        "\n",
        "    plt.legend(loc=\"best\")\n",
        "    return plt"
      ],
      "execution_count": 0,
      "outputs": []
    },
    {
      "cell_type": "code",
      "metadata": {
        "id": "b8rsvENP6XpD",
        "colab_type": "code",
        "colab": {
          "base_uri": "https://localhost:8080/",
          "height": 301
        },
        "outputId": "d454f3f1-8025-49a6-e15e-5da74e5392a4"
      },
      "source": [
        "title = \"Кривая обчения\"\n",
        "estimator = KNC(n_neighbors=9, weights='distance', algorithm = 'auto')\n",
        "cv = ShuffleSplit(n_splits=100, test_size=0.2, random_state=0)\n",
        "X = pws_norm\n",
        "y = Pos_le\n",
        "plot_learning_curve(estimator, title, X, y, cv=cv, n_jobs=4)\n",
        "\n",
        "plt.show()"
      ],
      "execution_count": 45,
      "outputs": [
        {
          "output_type": "display_data",
          "data": {
            "image/png": "[encoded data removed]",
            "text/plain": [
              "<Figure size 432x288 with 1 Axes>"
            ]
          },
          "metadata": {
            "tags": []
          }
        }
      ]
    },
    {
      "cell_type": "code",
      "metadata": {
        "id": "jNDh5dXp6Z0f",
        "colab_type": "code",
        "colab": {}
      },
      "source": [
        ""
      ],
      "execution_count": 0,
      "outputs": []
    }
  ]
}