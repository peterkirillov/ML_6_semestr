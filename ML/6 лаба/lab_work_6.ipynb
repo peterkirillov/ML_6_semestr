{
  "nbformat": 4,
  "nbformat_minor": 0,
  "metadata": {
    "colab": {
      "name": "lab_work_6.ipynb",
      "version": "0.3.2",
      "provenance": [],
      "collapsed_sections": []
    },
    "kernelspec": {
      "name": "python3",
      "display_name": "Python 3"
    }
  },
  "cells": [
    {
      "cell_type": "code",
      "metadata": {
        "id": "xQ-7iFMWH4fI",
        "colab_type": "code",
        "colab": {}
      },
      "source": [
        "import numpy as np\n",
        "import pandas as pd\n",
        "from sklearn.preprocessing import LabelEncoder, normalize\n",
        "import matplotlib.pyplot as plt\n",
        "import seaborn as sns\n",
        "sns.set(style=\"ticks\")\n",
        "%matplotlib inline"
      ],
      "execution_count": 0,
      "outputs": []
    },
    {
      "cell_type": "code",
      "metadata": {
        "id": "L3R0WGClH8o5",
        "colab_type": "code",
        "colab": {}
      },
      "source": [
        "def col_del(data, cols):\n",
        "    try:\n",
        "        for col in cols:\n",
        "            del data[col]\n",
        "    except:\n",
        "        print(\"Столбец не найден\")"
      ],
      "execution_count": 0,
      "outputs": []
    },
    {
      "cell_type": "code",
      "metadata": {
        "id": "IbOk-TBCH_ml",
        "colab_type": "code",
        "colab": {}
      },
      "source": [
        "def nul_deletion(data, coef):\n",
        "    for col in data.columns:\n",
        "        temp_null_count = data[data[col].isnull()].shape[0]\n",
        "        if temp_null_count>data[col].shape[0]*coef:\n",
        "            del data[col]\n",
        "        else:\n",
        "            if data[col].dtype != 'O':\n",
        "                data[col]=data[col].fillna(data[col].median())\n",
        "    data.fillna(method='bfill', inplace =True)\n",
        "    data.fillna(method='ffill', inplace =True)"
      ],
      "execution_count": 0,
      "outputs": []
    },
    {
      "cell_type": "code",
      "metadata": {
        "id": "4DXHoVQVIB6y",
        "colab_type": "code",
        "colab": {}
      },
      "source": [
        "def stats_aggregation(stats):\n",
        "    first_keys=['Player_id','Year', 'Age', 'Player', 'Pos', 'Tm']\n",
        "    col_agg_d= {}\n",
        "    col_agg_d.update(dict.fromkeys(first_keys, lambda d: d.iloc[0]))\n",
        "    col_agg_d.update(dict.fromkeys(stats.columns[6:], np.mean))\n",
        "    stats=stats.groupby(['Player']).agg(col_agg_d).sort_values(('Player_id'), ascending=True)\n",
        "    stats = stats.reset_index(drop=True)\n",
        "    for i in range(stats.shape[0]):\n",
        "        stats.at[i, 'Player_id'] = i\n",
        "    stats.head()"
      ],
      "execution_count": 0,
      "outputs": []
    },
    {
      "cell_type": "code",
      "metadata": {
        "id": "08uxAe0pIEkU",
        "colab_type": "code",
        "colab": {}
      },
      "source": [
        "def data_preprocessing(players, stats):\n",
        "    players.dropna(subset=['Player'], how='all', inplace = True)\n",
        "    stats.dropna(subset=['Player'], how='all', inplace = True)\n",
        "    try:\n",
        "        del stats['blanl']\n",
        "        del stats['blank2']\n",
        "    except:\n",
        "        print('уже удалено')\n",
        "    nul_deletion(players, 0.3)\n",
        "    nul_deletion(stats, 0.3)\n",
        "    players.rename(columns={'Unnamed: 0': 'Player_id'}, inplace=True)\n",
        "    stats.rename(columns={'Unnamed: 0': 'Player_id'}, inplace=True)\n",
        "    stats_aggregation(stats)\n",
        "    players_with_stats = merge_data(players, stats)\n",
        "    col_del(players_with_stats, ['Tm','collage', 'born', 'birth_city', 'birth_state', 'Year', 'BPM', '2P%', \n",
        "                             'FT', 'FTA', 'FG%', 'TS%', 'MP', '2PA', 'FGA', 'WS', '3PA', 'FG', 'TRB%'])\n",
        "    players_with_stats['Pos'].replace(to_replace = ['PF-C', 'PF-SF', 'PG-SG', 'SF-PF', 'SF-SG', 'SG-PG', 'SG-SF'], \n",
        "                                  value = ['PF', 'PF', 'PG', 'SF', 'SF','SG', 'SG'],inplace = True)\n",
        "    players_with_stats['Pos'].replace(to_replace = ['G-F', 'F', 'G', 'F-C', 'F-G', 'SF-PG', 'C-F', 'C-PF'], \n",
        "                                  value = ['SG', 'PF', 'PG', 'PF', 'SF', 'SF', 'C', 'C'],inplace = True)\n",
        "    Pos = players_with_stats['Pos']\n",
        "    le = LabelEncoder()\n",
        "    pos_le = le.fit_transform(players_with_stats['Pos'])\n",
        "    print(Pos.to_frame().stack().value_counts())\n",
        "    pws = players_with_stats\n",
        "    col_del(pws, ['Pos','Player_id', 'Player'])\n",
        "    pws_norm = normalize(pws)\n",
        "    return pws_norm, pos_le"
      ],
      "execution_count": 0,
      "outputs": []
    },
    {
      "cell_type": "code",
      "metadata": {
        "id": "6OmQhlehIWXX",
        "colab_type": "code",
        "colab": {}
      },
      "source": [
        "def read_data(player_pth, stats_pth):\n",
        "    players = pd.read_csv(player_pth)\n",
        "    stats = pd.read_csv(stats_pth)\n",
        "    return players, stats"
      ],
      "execution_count": 0,
      "outputs": []
    },
    {
      "cell_type": "code",
      "metadata": {
        "id": "-WLe9NeVIW8k",
        "colab_type": "code",
        "colab": {}
      },
      "source": [
        "def merge_data(players, stats):\n",
        "    players_with_stats = pd.merge(players, stats, left_on='Player_id', right_on='Player_id', how='inner')\n",
        "    players_with_stats.rename(columns={'Player_x': 'Player'}, inplace=True)\n",
        "    try:\n",
        "        del players_with_stats['Player_y']\n",
        "    except:\n",
        "        pass\n",
        "    return players_with_stats"
      ],
      "execution_count": 0,
      "outputs": []
    },
    {
      "cell_type": "code",
      "metadata": {
        "id": "3PgbxGHwIaLB",
        "colab_type": "code",
        "colab": {
          "base_uri": "https://localhost:8080/",
          "height": 118
        },
        "outputId": "c8e79206-fa55-4c8b-b87f-cdad77afffdb"
      },
      "source": [
        "\n",
        "X, Y = data_preprocessing(*read_data('sample_data/Players.csv', 'sample_data/Seasons_Stats.csv'))\n"
      ],
      "execution_count": 8,
      "outputs": [
        {
          "output_type": "stream",
          "text": [
            "PF    891\n",
            "SG    793\n",
            "SF    781\n",
            "PG    735\n",
            "C     697\n",
            "dtype: int64\n"
          ],
          "name": "stdout"
        }
      ]
    },
    {
      "cell_type": "code",
      "metadata": {
        "id": "e0eSjTOKIjIF",
        "colab_type": "code",
        "colab": {}
      },
      "source": [
        "from sklearn.model_selection import train_test_split\n",
        "from sklearn.linear_model import SGDClassifier\n",
        "from sklearn.svm import SVC\n",
        "from sklearn.tree import DecisionTreeClassifier\n",
        "from sklearn.metrics import accuracy_score\n",
        "from sklearn.model_selection import KFold, ShuffleSplit\n",
        "from sklearn.model_selection import GridSearchCV"
      ],
      "execution_count": 0,
      "outputs": []
    },
    {
      "cell_type": "code",
      "metadata": {
        "id": "FfKA0o5BIl0d",
        "colab_type": "code",
        "colab": {}
      },
      "source": [
        "X_train, X_test, y_train, y_test = train_test_split(X, Y, test_size=0.2, random_state=42)"
      ],
      "execution_count": 0,
      "outputs": []
    },
    {
      "cell_type": "code",
      "metadata": {
        "id": "XHnP_FggIoOc",
        "colab_type": "code",
        "colab": {}
      },
      "source": [
        "def accuracy_score_for_classes(\n",
        "    y_true: np.ndarray, \n",
        "    y_pred: np.ndarray):\n",
        "    \"\"\"\n",
        "    Вычисление метрики accuracy для каждого класса\n",
        "    y_true - истинные значения классов\n",
        "    y_pred - предсказанные значения классов\n",
        "    Возвращает словарь: ключ - метка класса, \n",
        "    значение - Accuracy для данного класса\n",
        "    \"\"\"\n",
        "    # Для удобства фильтрации сформируем Pandas DataFrame \n",
        "    d = {'t': y_true, 'p': y_pred}\n",
        "    df = pd.DataFrame(data=d)\n",
        "    # Метки классов\n",
        "    classes = np.unique(y_true)\n",
        "    # Результирующий словарь\n",
        "    res = dict()\n",
        "    # Перебор меток классов\n",
        "    for c in classes:\n",
        "        # отфильтруем данные, которые соответствуют \n",
        "        # текущей метке класса в истинных значениях\n",
        "        temp_data_flt = df[df['t']==c]\n",
        "        # расчет accuracy для заданной метки класса\n",
        "        temp_acc = accuracy_score(\n",
        "            temp_data_flt['t'].values, \n",
        "            temp_data_flt['p'].values)\n",
        "        # сохранение результата в словарь\n",
        "        res[c] = temp_acc\n",
        "    return res\n",
        "\n",
        "def print_accuracy_score_for_classes(\n",
        "    y_true: np.ndarray, \n",
        "    y_pred: np.ndarray):\n",
        "    \"\"\"\n",
        "    Вывод метрики accuracy для каждого класса\n",
        "    \"\"\"\n",
        "    accs = accuracy_score_for_classes(y_true, y_pred)\n",
        "    if len(accs)>0:\n",
        "        print('Метка \\t Accuracy')\n",
        "    for i in accs:\n",
        "        print('{} \\t {}'.format(i, accs[i]))"
      ],
      "execution_count": 0,
      "outputs": []
    },
    {
      "cell_type": "code",
      "metadata": {
        "id": "FsClnl_AIr2y",
        "colab_type": "code",
        "colab": {}
      },
      "source": [
        "from sklearn.utils.multiclass import unique_labels\n",
        "from sklearn.metrics import confusion_matrix\n",
        "def plot_confusion_matrix(y_true, y_pred, classes,\n",
        "                          normalize=False,\n",
        "                          title=None,\n",
        "                          cmap=plt.cm.Blues):\n",
        "    \"\"\"\n",
        "    This function prints and plots the confusion matrix.\n",
        "    Normalization can be applied by setting `normalize=True`.\n",
        "    \"\"\"\n",
        "    if not title:\n",
        "        if normalize:\n",
        "            title = 'Normalized confusion matrix'\n",
        "        else:\n",
        "            title = 'Confusion matrix, without normalization'\n",
        "\n",
        "    # Compute confusion matrix\n",
        "    cm = confusion_matrix(y_true, y_pred)\n",
        "    # Only use the labels that appear in the data   \n",
        "    classes = classes[unique_labels(y_true, y_pred)-1]\n",
        "    if normalize:\n",
        "        cm = cm.astype('float') / cm.sum(axis=1)[:, np.newaxis]\n",
        "        print(\"Normalized confusion matrix\")\n",
        "    else:\n",
        "        print('Confusion matrix, without normalization')\n",
        "\n",
        "    fig, ax = plt.subplots()\n",
        "    im = ax.imshow(cm, interpolation='nearest', cmap=cmap)\n",
        "    ax.figure.colorbar(im, ax=ax)\n",
        "    # We want to show all ticks...\n",
        "    ax.set(xticks=np.arange(cm.shape[1]),\n",
        "           yticks=np.arange(cm.shape[0]),\n",
        "           # ... and label them with the respective list entries\n",
        "           xticklabels=classes, yticklabels=classes,\n",
        "           title=title,\n",
        "           ylabel='True label',\n",
        "           xlabel='Predicted label')\n",
        "    # Rotate the tick labels and set their alignment.\n",
        "    plt.setp(ax.get_xticklabels(), rotation=45, ha=\"right\",\n",
        "             rotation_mode=\"anchor\")\n",
        "\n",
        "    # Loop over data dimensions and create text annotations.\n",
        "    fmt = '.2f' if normalize else 'd'\n",
        "    thresh = cm.max() / 2.\n",
        "    for i in range(cm.shape[0]):\n",
        "        for j in range(cm.shape[1]):\n",
        "            ax.text(j, i, format(cm[i, j], fmt),\n",
        "                    ha=\"center\", va=\"center\",\n",
        "                    color=\"white\" if cm[i, j] > thresh else \"black\")\n",
        "    fig.tight_layout()\n",
        "    return ax"
      ],
      "execution_count": 0,
      "outputs": []
    },
    {
      "cell_type": "code",
      "metadata": {
        "id": "QUz1hAwNIzXJ",
        "colab_type": "code",
        "colab": {
          "base_uri": "https://localhost:8080/",
          "height": 431
        },
        "outputId": "542ec460-00ed-434f-e95e-0fff13f4c736"
      },
      "source": [
        "sgd = SGDClassifier(max_iter=1000, tol=1e-3, random_state = 42)\n",
        "sgd.fit(X_train, y_train)\n",
        "sgd.score(X_test, y_test)\n",
        "y_pred = sgd.predict(X_test)\n",
        "print_accuracy_score_for_classes(y_test, y_pred)\n",
        "plot_confusion_matrix(y_test, y_pred, \n",
        "                      classes=np.array(['C', 'PF', 'PG', 'SF', 'SG']),\n",
        "                      title='Confusion matrix, without normalization')"
      ],
      "execution_count": 13,
      "outputs": [
        {
          "output_type": "stream",
          "text": [
            "Метка \t Accuracy\n",
            "0 \t 0.32608695652173914\n",
            "1 \t 0.46464646464646464\n",
            "2 \t 0.8768115942028986\n",
            "3 \t 0.08108108108108109\n",
            "4 \t 0.33544303797468356\n",
            "Confusion matrix, without normalization\n"
          ],
          "name": "stdout"
        },
        {
          "output_type": "execute_result",
          "data": {
            "text/plain": [
              "<matplotlib.axes._subplots.AxesSubplot at 0x7f7d3381e710>"
            ]
          },
          "metadata": {
            "tags": []
          },
          "execution_count": 13
        },
        {
          "output_type": "display_data",
          "data": {
            "image/png": "[encoded data removed]",
            "text/plain": [
              "<Figure size 432x288 with 2 Axes>"
            ]
          },
          "metadata": {
            "tags": []
          }
        }
      ]
    },
    {
      "cell_type": "code",
      "metadata": {
        "id": "vl8zNYCAI17J",
        "colab_type": "code",
        "colab": {}
      },
      "source": [
        "def GridSearch_with_other_val(model, parameters):\n",
        "    results=[]\n",
        "    val_methods = [KFold(n_splits = 5), ShuffleSplit(n_splits = 5, test_size = 0.25)]\n",
        "    i=0\n",
        "    for score in val_methods:\n",
        "        i+=1\n",
        "        grid = GridSearchCV(model, parameters, cv = score)\n",
        "        grid.fit(X_train, y_train)\n",
        "        results.append([i, ')', grid.best_estimator_, ': ', grid.best_score_])\n",
        "    return results"
      ],
      "execution_count": 0,
      "outputs": []
    },
    {
      "cell_type": "code",
      "metadata": {
        "id": "HlcWu7y1I4kO",
        "colab_type": "code",
        "colab": {
          "base_uri": "https://localhost:8080/",
          "height": 373
        },
        "outputId": "3efecd0a-bb0a-48d6-a7e2-5d632a6ce105"
      },
      "source": [
        "sgd_parameters = {'loss': ['hinge', 'log', 'modified_huber', 'squared_hinge', 'perceptron'], \n",
        "                  'max_iter': list(range(1000, 10000, 1000)), 'random_state': [42]}\n",
        "sgd_results = GridSearch_with_other_val(sgd, sgd_parameters)"
      ],
      "execution_count": 15,
      "outputs": [
        {
          "output_type": "stream",
          "text": [
            "/usr/local/lib/python3.6/dist-packages/sklearn/linear_model/stochastic_gradient.py:561: ConvergenceWarning: Maximum number of iteration reached before convergence. Consider increasing max_iter to improve the fit.\n",
            "  ConvergenceWarning)\n",
            "/usr/local/lib/python3.6/dist-packages/sklearn/linear_model/stochastic_gradient.py:561: ConvergenceWarning: Maximum number of iteration reached before convergence. Consider increasing max_iter to improve the fit.\n",
            "  ConvergenceWarning)\n",
            "/usr/local/lib/python3.6/dist-packages/sklearn/linear_model/stochastic_gradient.py:561: ConvergenceWarning: Maximum number of iteration reached before convergence. Consider increasing max_iter to improve the fit.\n",
            "  ConvergenceWarning)\n",
            "/usr/local/lib/python3.6/dist-packages/sklearn/linear_model/stochastic_gradient.py:561: ConvergenceWarning: Maximum number of iteration reached before convergence. Consider increasing max_iter to improve the fit.\n",
            "  ConvergenceWarning)\n",
            "/usr/local/lib/python3.6/dist-packages/sklearn/linear_model/stochastic_gradient.py:561: ConvergenceWarning: Maximum number of iteration reached before convergence. Consider increasing max_iter to improve the fit.\n",
            "  ConvergenceWarning)\n",
            "/usr/local/lib/python3.6/dist-packages/sklearn/linear_model/stochastic_gradient.py:561: ConvergenceWarning: Maximum number of iteration reached before convergence. Consider increasing max_iter to improve the fit.\n",
            "  ConvergenceWarning)\n",
            "/usr/local/lib/python3.6/dist-packages/sklearn/linear_model/stochastic_gradient.py:561: ConvergenceWarning: Maximum number of iteration reached before convergence. Consider increasing max_iter to improve the fit.\n",
            "  ConvergenceWarning)\n",
            "/usr/local/lib/python3.6/dist-packages/sklearn/linear_model/stochastic_gradient.py:561: ConvergenceWarning: Maximum number of iteration reached before convergence. Consider increasing max_iter to improve the fit.\n",
            "  ConvergenceWarning)\n",
            "/usr/local/lib/python3.6/dist-packages/sklearn/linear_model/stochastic_gradient.py:561: ConvergenceWarning: Maximum number of iteration reached before convergence. Consider increasing max_iter to improve the fit.\n",
            "  ConvergenceWarning)\n",
            "/usr/local/lib/python3.6/dist-packages/sklearn/linear_model/stochastic_gradient.py:561: ConvergenceWarning: Maximum number of iteration reached before convergence. Consider increasing max_iter to improve the fit.\n",
            "  ConvergenceWarning)\n"
          ],
          "name": "stderr"
        }
      ]
    },
    {
      "cell_type": "code",
      "metadata": {
        "id": "SHg4YzcYI6q2",
        "colab_type": "code",
        "colab": {
          "base_uri": "https://localhost:8080/",
          "height": 218
        },
        "outputId": "5361d8f1-d41a-4222-ceff-d1064aa32e07"
      },
      "source": [
        "sgd_results\n"
      ],
      "execution_count": 16,
      "outputs": [
        {
          "output_type": "execute_result",
          "data": {
            "text/plain": [
              "[[1, ')', SGDClassifier(alpha=0.0001, average=False, class_weight=None,\n",
              "                early_stopping=False, epsilon=0.1, eta0=0.0, fit_intercept=True,\n",
              "                l1_ratio=0.15, learning_rate='optimal', loss='log', max_iter=1000,\n",
              "                n_iter_no_change=5, n_jobs=None, penalty='l2', power_t=0.5,\n",
              "                random_state=42, shuffle=True, tol=0.001, validation_fraction=0.1,\n",
              "                verbose=0, warm_start=False), ': ', 0.42893808148861085],\n",
              " [2, ')', SGDClassifier(alpha=0.0001, average=False, class_weight=None,\n",
              "                early_stopping=False, epsilon=0.1, eta0=0.0, fit_intercept=True,\n",
              "                l1_ratio=0.15, learning_rate='optimal', loss='log', max_iter=1000,\n",
              "                n_iter_no_change=5, n_jobs=None, penalty='l2', power_t=0.5,\n",
              "                random_state=42, shuffle=True, tol=0.001, validation_fraction=0.1,\n",
              "                verbose=0, warm_start=False), ': ', 0.4674358974358974]]"
            ]
          },
          "metadata": {
            "tags": []
          },
          "execution_count": 16
        }
      ]
    },
    {
      "cell_type": "code",
      "metadata": {
        "id": "HZnXbynYJn6j",
        "colab_type": "code",
        "colab": {
          "base_uri": "https://localhost:8080/",
          "height": 431
        },
        "outputId": "16ed7394-ccc3-4c9a-a967-22c10a3dff52"
      },
      "source": [
        "sgd = SGDClassifier(loss = 'log' ,max_iter=9000, tol=1e-3)\n",
        "sgd.fit(X_train, y_train)\n",
        "sgd.score(X_test, y_test)\n",
        "y_pred = sgd.predict(X_test)\n",
        "print_accuracy_score_for_classes(y_test, y_pred)\n",
        "plot_confusion_matrix(y_test, y_pred, \n",
        "                      classes=np.array(['C', 'PF', 'PG', 'SF', 'SG']),\n",
        "                      title='Confusion matrix, without normalization')"
      ],
      "execution_count": 17,
      "outputs": [
        {
          "output_type": "stream",
          "text": [
            "Метка \t Accuracy\n",
            "0 \t 0.30434782608695654\n",
            "1 \t 0.4797979797979798\n",
            "2 \t 0.42028985507246375\n",
            "3 \t 0.581081081081081\n",
            "4 \t 0.689873417721519\n",
            "Confusion matrix, without normalization\n"
          ],
          "name": "stdout"
        },
        {
          "output_type": "execute_result",
          "data": {
            "text/plain": [
              "<matplotlib.axes._subplots.AxesSubplot at 0x7f7d30eba2e8>"
            ]
          },
          "metadata": {
            "tags": []
          },
          "execution_count": 17
        },
        {
          "output_type": "display_data",
          "data": {
            "image/png": "[encoded data removed]",
            "text/plain": [
              "<Figure size 432x288 with 2 Axes>"
            ]
          },
          "metadata": {
            "tags": []
          }
        }
      ]
    },
    {
      "cell_type": "code",
      "metadata": {
        "id": "evMvWEN2Jog8",
        "colab_type": "code",
        "colab": {
          "base_uri": "https://localhost:8080/",
          "height": 431
        },
        "outputId": "9d443036-b9b2-4693-dfe3-08207a377842"
      },
      "source": [
        "svc = SVC(gamma='auto')\n",
        "svc.fit(X_train, y_train)\n",
        "svc.score(X_test, y_test)\n",
        "y_pred = svc.predict(X_test)\n",
        "print_accuracy_score_for_classes(y_test, y_pred)\n",
        "plot_confusion_matrix(y_test, y_pred, \n",
        "                      classes=np.array(['C', 'PF', 'PG', 'SF', 'SG']),\n",
        "                      title='Confusion matrix, without normalization')"
      ],
      "execution_count": 18,
      "outputs": [
        {
          "output_type": "stream",
          "text": [
            "Метка \t Accuracy\n",
            "0 \t 0.0\n",
            "1 \t 0.8535353535353535\n",
            "2 \t 0.0\n",
            "3 \t 0.20270270270270271\n",
            "4 \t 0.7215189873417721\n",
            "Confusion matrix, without normalization\n"
          ],
          "name": "stdout"
        },
        {
          "output_type": "execute_result",
          "data": {
            "text/plain": [
              "<matplotlib.axes._subplots.AxesSubplot at 0x7f7d30e014e0>"
            ]
          },
          "metadata": {
            "tags": []
          },
          "execution_count": 18
        },
        {
          "output_type": "display_data",
          "data": {
            "image/png": "[encoded data removed]",
            "text/plain": [
              "<Figure size 432x288 with 2 Axes>"
            ]
          },
          "metadata": {
            "tags": []
          }
        }
      ]
    },
    {
      "cell_type": "code",
      "metadata": {
        "id": "Vi1QiGwDJrSj",
        "colab_type": "code",
        "colab": {}
      },
      "source": [
        "svc_parameters = {'kernel': ['linear', 'poly', 'rbf']}\n",
        "svc_results = GridSearch_with_other_val(svc, svc_parameters)"
      ],
      "execution_count": 0,
      "outputs": []
    },
    {
      "cell_type": "code",
      "metadata": {
        "id": "0h7XEMrsJtP6",
        "colab_type": "code",
        "colab": {
          "base_uri": "https://localhost:8080/",
          "height": 151
        },
        "outputId": "e6e28741-fb6e-4295-bb3c-2028f93751b9"
      },
      "source": [
        "svc_results"
      ],
      "execution_count": 20,
      "outputs": [
        {
          "output_type": "execute_result",
          "data": {
            "text/plain": [
              "[[1, ')', SVC(C=1.0, cache_size=200, class_weight=None, coef0=0.0,\n",
              "      decision_function_shape='ovr', degree=3, gamma='auto', kernel='linear',\n",
              "      max_iter=-1, probability=False, random_state=None, shrinking=True,\n",
              "      tol=0.001, verbose=False), ': ', 0.4629451395572666],\n",
              " [2, ')', SVC(C=1.0, cache_size=200, class_weight=None, coef0=0.0,\n",
              "      decision_function_shape='ovr', degree=3, gamma='auto', kernel='linear',\n",
              "      max_iter=-1, probability=False, random_state=None, shrinking=True,\n",
              "      tol=0.001, verbose=False), ': ', 0.4666666666666667]]"
            ]
          },
          "metadata": {
            "tags": []
          },
          "execution_count": 20
        }
      ]
    },
    {
      "cell_type": "code",
      "metadata": {
        "id": "QFrcpRqvJzTr",
        "colab_type": "code",
        "colab": {
          "base_uri": "https://localhost:8080/",
          "height": 431
        },
        "outputId": "8c98d5c5-065e-4c5e-8476-0942a91d74cb"
      },
      "source": [
        "svc = SVC(kernel='linear')\n",
        "svc.fit(X_train, y_train)\n",
        "svc.score(X_test, y_test)\n",
        "y_pred = svc.predict(X_test)\n",
        "print_accuracy_score_for_classes(y_test, y_pred)\n",
        "plot_confusion_matrix(y_test, y_pred, \n",
        "                      classes=np.array(['C', 'PF', 'PG', 'SF', 'SG']),\n",
        "                      title='Confusion matrix, without normalization')"
      ],
      "execution_count": 21,
      "outputs": [
        {
          "output_type": "stream",
          "text": [
            "Метка \t Accuracy\n",
            "0 \t 0.2463768115942029\n",
            "1 \t 0.6161616161616161\n",
            "2 \t 0.463768115942029\n",
            "3 \t 0.41216216216216217\n",
            "4 \t 0.5886075949367089\n",
            "Confusion matrix, without normalization\n"
          ],
          "name": "stdout"
        },
        {
          "output_type": "execute_result",
          "data": {
            "text/plain": [
              "<matplotlib.axes._subplots.AxesSubplot at 0x7f7d30d3c748>"
            ]
          },
          "metadata": {
            "tags": []
          },
          "execution_count": 21
        },
        {
          "output_type": "display_data",
          "data": {
            "image/png": "[encoded data removed]",
            "text/plain": [
              "<Figure size 432x288 with 2 Axes>"
            ]
          },
          "metadata": {
            "tags": []
          }
        }
      ]
    },
    {
      "cell_type": "code",
      "metadata": {
        "id": "vApcua4gJz6z",
        "colab_type": "code",
        "colab": {
          "base_uri": "https://localhost:8080/",
          "height": 431
        },
        "outputId": "1fc61bad-b760-4516-ff9c-d6f592fe30f3"
      },
      "source": [
        "tree = DecisionTreeClassifier(random_state=42)\n",
        "tree.fit(X_train, y_train)\n",
        "tree.score(X_test, y_test)\n",
        "y_pred = tree.predict(X_test)\n",
        "print_accuracy_score_for_classes(y_test, y_pred)\n",
        "plot_confusion_matrix(y_test, y_pred, \n",
        "                      classes=np.array(['C', 'PF', 'PG', 'SF', 'SG']),\n",
        "                      title='Confusion matrix, without normalization')"
      ],
      "execution_count": 22,
      "outputs": [
        {
          "output_type": "stream",
          "text": [
            "Метка \t Accuracy\n",
            "0 \t 0.38405797101449274\n",
            "1 \t 0.3686868686868687\n",
            "2 \t 0.5362318840579711\n",
            "3 \t 0.4797297297297297\n",
            "4 \t 0.43670886075949367\n",
            "Confusion matrix, without normalization\n"
          ],
          "name": "stdout"
        },
        {
          "output_type": "execute_result",
          "data": {
            "text/plain": [
              "<matplotlib.axes._subplots.AxesSubplot at 0x7f7d30c7aef0>"
            ]
          },
          "metadata": {
            "tags": []
          },
          "execution_count": 22
        },
        {
          "output_type": "display_data",
          "data": {
            "image/png": "[encoded data removed]",
            "text/plain": [
              "<Figure size 432x288 with 2 Axes>"
            ]
          },
          "metadata": {
            "tags": []
          }
        }
      ]
    },
    {
      "cell_type": "code",
      "metadata": {
        "id": "NKj6k6tGJ2pO",
        "colab_type": "code",
        "colab": {}
      },
      "source": [
        "tree_parameters = {'max_depth': list(range(3, 50, 2)), \n",
        "                  'max_leaf_nodes': list(range(2, 25, 2)), 'random_state': [42]}\n",
        "tree_results = GridSearch_with_other_val(tree, tree_parameters)"
      ],
      "execution_count": 0,
      "outputs": []
    },
    {
      "cell_type": "code",
      "metadata": {
        "id": "Bo42NWBlJ4v0",
        "colab_type": "code",
        "colab": {
          "base_uri": "https://localhost:8080/",
          "height": 353
        },
        "outputId": "87b4e1fd-f944-42ca-ae10-907de3fb40c1"
      },
      "source": [
        "tree_results"
      ],
      "execution_count": 24,
      "outputs": [
        {
          "output_type": "execute_result",
          "data": {
            "text/plain": [
              "[[1,\n",
              "  ')',\n",
              "  DecisionTreeClassifier(class_weight=None, criterion='gini', max_depth=9,\n",
              "                         max_features=None, max_leaf_nodes=24,\n",
              "                         min_impurity_decrease=0.0, min_impurity_split=None,\n",
              "                         min_samples_leaf=1, min_samples_split=2,\n",
              "                         min_weight_fraction_leaf=0.0, presort=False,\n",
              "                         random_state=42, splitter='best'),\n",
              "  ': ',\n",
              "  0.47802374077638754],\n",
              " [2,\n",
              "  ')',\n",
              "  DecisionTreeClassifier(class_weight=None, criterion='gini', max_depth=5,\n",
              "                         max_features=None, max_leaf_nodes=24,\n",
              "                         min_impurity_decrease=0.0, min_impurity_split=None,\n",
              "                         min_samples_leaf=1, min_samples_split=2,\n",
              "                         min_weight_fraction_leaf=0.0, presort=False,\n",
              "                         random_state=42, splitter='best'),\n",
              "  ': ',\n",
              "  0.4746153846153846]]"
            ]
          },
          "metadata": {
            "tags": []
          },
          "execution_count": 24
        }
      ]
    },
    {
      "cell_type": "code",
      "metadata": {
        "id": "17lHH5TWKV8T",
        "colab_type": "code",
        "colab": {
          "base_uri": "https://localhost:8080/",
          "height": 431
        },
        "outputId": "e0e8e451-a132-4acc-90cd-5c15dc6901b3"
      },
      "source": [
        "tree = DecisionTreeClassifier(max_depth = 5, max_leaf_nodes = 24 ,random_state=42)\n",
        "tree.fit(X_train, y_train)\n",
        "tree.score(X_test, y_test)\n",
        "y_pred = tree.predict(X_test)\n",
        "print_accuracy_score_for_classes(y_test, y_pred)\n",
        "plot_confusion_matrix(y_test, y_pred, \n",
        "                      classes=np.array(['C', 'PF', 'PG', 'SF', 'SG']),\n",
        "                      title='Confusion matrix, without normalization')"
      ],
      "execution_count": 25,
      "outputs": [
        {
          "output_type": "stream",
          "text": [
            "Метка \t Accuracy\n",
            "0 \t 0.21014492753623187\n",
            "1 \t 0.6313131313131313\n",
            "2 \t 0.5144927536231884\n",
            "3 \t 0.33783783783783783\n",
            "4 \t 0.5569620253164557\n",
            "Confusion matrix, without normalization\n"
          ],
          "name": "stdout"
        },
        {
          "output_type": "execute_result",
          "data": {
            "text/plain": [
              "<matplotlib.axes._subplots.AxesSubplot at 0x7f7d30bc8160>"
            ]
          },
          "metadata": {
            "tags": []
          },
          "execution_count": 25
        },
        {
          "output_type": "display_data",
          "data": {
            "image/png": "[encoded data removed]",
            "text/plain": [
              "<Figure size 432x288 with 2 Axes>"
            ]
          },
          "metadata": {
            "tags": []
          }
        }
      ]
    },
    {
      "cell_type": "code",
      "metadata": {
        "id": "LOGM_EKEKXrh",
        "colab_type": "code",
        "colab": {}
      },
      "source": [
        "from sklearn.ensemble import RandomForestClassifier"
      ],
      "execution_count": 0,
      "outputs": []
    },
    {
      "cell_type": "code",
      "metadata": {
        "id": "tTIW81LsKcD_",
        "colab_type": "code",
        "colab": {
          "base_uri": "https://localhost:8080/",
          "height": 324
        },
        "outputId": "488733bc-5ca5-4f7a-9221-f6dea3f8f7d2"
      },
      "source": [
        "plt.hist(Y)"
      ],
      "execution_count": 27,
      "outputs": [
        {
          "output_type": "execute_result",
          "data": {
            "text/plain": [
              "(array([697.,   0., 891.,   0.,   0., 735.,   0., 781.,   0., 793.]),\n",
              " array([0. , 0.4, 0.8, 1.2, 1.6, 2. , 2.4, 2.8, 3.2, 3.6, 4. ]),\n",
              " <a list of 10 Patch objects>)"
            ]
          },
          "metadata": {
            "tags": []
          },
          "execution_count": 27
        },
        {
          "output_type": "display_data",
          "data": {
            "image/png": "[encoded data removed]",
            "text/plain": [
              "<Figure size 432x288 with 1 Axes>"
            ]
          },
          "metadata": {
            "tags": []
          }
        }
      ]
    },
    {
      "cell_type": "code",
      "metadata": {
        "id": "fb0zJsLyKf-m",
        "colab_type": "code",
        "colab": {
          "base_uri": "https://localhost:8080/",
          "height": 502
        },
        "outputId": "26967555-9933-4517-fcde-7de2fb992be6"
      },
      "source": [
        "rfc = RandomForestClassifier(random_state=42)\n",
        "rfc.fit(X_train, y_train)\n",
        "print(rfc.score(X_test, y_test))\n",
        "y_pred = tree.predict(X_test)\n",
        "print_accuracy_score_for_classes(y_test, y_pred)\n",
        "plot_confusion_matrix(y_test, y_pred, \n",
        "                      classes=np.array(['C', 'PF', 'PG', 'SF', 'SG']),\n",
        "                      title='Confusion matrix, without normalization')"
      ],
      "execution_count": 28,
      "outputs": [
        {
          "output_type": "stream",
          "text": [
            "/usr/local/lib/python3.6/dist-packages/sklearn/ensemble/forest.py:245: FutureWarning: The default value of n_estimators will change from 10 in version 0.20 to 100 in 0.22.\n",
            "  \"10 in version 0.20 to 100 in 0.22.\", FutureWarning)\n"
          ],
          "name": "stderr"
        },
        {
          "output_type": "stream",
          "text": [
            "0.48846153846153845\n",
            "Метка \t Accuracy\n",
            "0 \t 0.21014492753623187\n",
            "1 \t 0.6313131313131313\n",
            "2 \t 0.5144927536231884\n",
            "3 \t 0.33783783783783783\n",
            "4 \t 0.5569620253164557\n",
            "Confusion matrix, without normalization\n"
          ],
          "name": "stdout"
        },
        {
          "output_type": "execute_result",
          "data": {
            "text/plain": [
              "<matplotlib.axes._subplots.AxesSubplot at 0x7f7d307cfd30>"
            ]
          },
          "metadata": {
            "tags": []
          },
          "execution_count": 28
        },
        {
          "output_type": "display_data",
          "data": {
            "image/png": "[encoded data removed]",
            "text/plain": [
              "<Figure size 432x288 with 2 Axes>"
            ]
          },
          "metadata": {
            "tags": []
          }
        }
      ]
    },
    {
      "cell_type": "code",
      "metadata": {
        "id": "KxnQ0TTAKitx",
        "colab_type": "code",
        "colab": {}
      },
      "source": [
        "rfc_parameters = {'n_estimators': list(range(60, 100, 5)), \n",
        "                  'max_depth': list(range(4,7,1)),\n",
        "                  'random_state': [42],\n",
        "                  'max_leaf_nodes': list(range(4,28,4))}\n",
        "rfc_results = GridSearch_with_other_val(rfc, rfc_parameters)"
      ],
      "execution_count": 0,
      "outputs": []
    },
    {
      "cell_type": "code",
      "metadata": {
        "id": "EUspXoS4Klkm",
        "colab_type": "code",
        "colab": {
          "base_uri": "https://localhost:8080/",
          "height": 386
        },
        "outputId": "cf3dbbe4-c76b-40fb-e7b6-ba03ee822d10"
      },
      "source": [
        "rfc_results"
      ],
      "execution_count": 30,
      "outputs": [
        {
          "output_type": "execute_result",
          "data": {
            "text/plain": [
              "[[1,\n",
              "  ')',\n",
              "  RandomForestClassifier(bootstrap=True, class_weight=None, criterion='gini',\n",
              "                         max_depth=6, max_features='auto', max_leaf_nodes=24,\n",
              "                         min_impurity_decrease=0.0, min_impurity_split=None,\n",
              "                         min_samples_leaf=1, min_samples_split=2,\n",
              "                         min_weight_fraction_leaf=0.0, n_estimators=95,\n",
              "                         n_jobs=None, oob_score=False, random_state=42, verbose=0,\n",
              "                         warm_start=False),\n",
              "  ': ',\n",
              "  0.48059031119666346],\n",
              " [2,\n",
              "  ')',\n",
              "  RandomForestClassifier(bootstrap=True, class_weight=None, criterion='gini',\n",
              "                         max_depth=6, max_features='auto', max_leaf_nodes=24,\n",
              "                         min_impurity_decrease=0.0, min_impurity_split=None,\n",
              "                         min_samples_leaf=1, min_samples_split=2,\n",
              "                         min_weight_fraction_leaf=0.0, n_estimators=95,\n",
              "                         n_jobs=None, oob_score=False, random_state=42, verbose=0,\n",
              "                         warm_start=False),\n",
              "  ': ',\n",
              "  0.48102564102564105]]"
            ]
          },
          "metadata": {
            "tags": []
          },
          "execution_count": 30
        }
      ]
    },
    {
      "cell_type": "code",
      "metadata": {
        "id": "28Q3qqJtM2Ts",
        "colab_type": "code",
        "colab": {
          "base_uri": "https://localhost:8080/",
          "height": 448
        },
        "outputId": "b18c7562-db76-4f0e-f825-475d55bfae12"
      },
      "source": [
        "rfc = RandomForestClassifier(n_estimators=60, max_depth=6, max_leaf_nodes=24, random_state=42)\n",
        "rfc.fit(X_train, y_train)\n",
        "print(rfc.score(X_test, y_test))\n",
        "y_pred = tree.predict(X_test)\n",
        "print_accuracy_score_for_classes(y_test, y_pred)\n",
        "plot_confusion_matrix(y_test, y_pred, \n",
        "                      classes=np.array(['C', 'PF', 'PG', 'SF', 'SG']),\n",
        "                      title='Confusion matrix, without normalization')"
      ],
      "execution_count": 31,
      "outputs": [
        {
          "output_type": "stream",
          "text": [
            "0.5064102564102564\n",
            "Метка \t Accuracy\n",
            "0 \t 0.21014492753623187\n",
            "1 \t 0.6313131313131313\n",
            "2 \t 0.5144927536231884\n",
            "3 \t 0.33783783783783783\n",
            "4 \t 0.5569620253164557\n",
            "Confusion matrix, without normalization\n"
          ],
          "name": "stdout"
        },
        {
          "output_type": "execute_result",
          "data": {
            "text/plain": [
              "<matplotlib.axes._subplots.AxesSubplot at 0x7f7d3072a7f0>"
            ]
          },
          "metadata": {
            "tags": []
          },
          "execution_count": 31
        },
        {
          "output_type": "display_data",
          "data": {
            "image/png": "[encoded data removed]",
            "text/plain": [
              "<Figure size 432x288 with 2 Axes>"
            ]
          },
          "metadata": {
            "tags": []
          }
        }
      ]
    },
    {
      "cell_type": "code",
      "metadata": {
        "id": "ni9UkXWCM20e",
        "colab_type": "code",
        "colab": {
          "base_uri": "https://localhost:8080/",
          "height": 286
        },
        "outputId": "af78cb2f-7e85-4206-8f3b-6a368d746fa2"
      },
      "source": [
        "!pip install heamy"
      ],
      "execution_count": 32,
      "outputs": [
        {
          "output_type": "stream",
          "text": [
            "Collecting heamy\n",
            "  Downloading https://files.pythonhosted.org/packages/20/32/2f3e1efa38a8e34f790d90b6d49ef06ab812181ae896c50e89b8750fa5a0/heamy-0.0.7.tar.gz\n",
            "Requirement already satisfied: scikit-learn>=0.17.0 in /usr/local/lib/python3.6/dist-packages (from heamy) (0.21.2)\n",
            "Requirement already satisfied: pandas>=0.17.0 in /usr/local/lib/python3.6/dist-packages (from heamy) (0.24.2)\n",
            "Requirement already satisfied: six>=1.10.0 in /usr/local/lib/python3.6/dist-packages (from heamy) (1.12.0)\n",
            "Requirement already satisfied: scipy>=0.16.0 in /usr/local/lib/python3.6/dist-packages (from heamy) (1.3.0)\n",
            "Requirement already satisfied: numpy>=1.7.0 in /usr/local/lib/python3.6/dist-packages (from heamy) (1.16.4)\n",
            "Requirement already satisfied: joblib>=0.11 in /usr/local/lib/python3.6/dist-packages (from scikit-learn>=0.17.0->heamy) (0.13.2)\n",
            "Requirement already satisfied: pytz>=2011k in /usr/local/lib/python3.6/dist-packages (from pandas>=0.17.0->heamy) (2018.9)\n",
            "Requirement already satisfied: python-dateutil>=2.5.0 in /usr/local/lib/python3.6/dist-packages (from pandas>=0.17.0->heamy) (2.5.3)\n",
            "Building wheels for collected packages: heamy\n",
            "  Building wheel for heamy (setup.py) ... \u001b[?25l\u001b[?25hdone\n",
            "  Stored in directory: /root/.cache/pip/wheels/ab/05/27/334fcc59e6279e70d84880e6988ea934d740829a900f14352f\n",
            "Successfully built heamy\n",
            "Installing collected packages: heamy\n",
            "Successfully installed heamy-0.0.7\n"
          ],
          "name": "stdout"
        }
      ]
    },
    {
      "cell_type": "code",
      "metadata": {
        "id": "1uWaCDreM40w",
        "colab_type": "code",
        "colab": {}
      },
      "source": [
        "from heamy.estimator import Classifier\n",
        "from heamy.pipeline import ModelsPipeline\n",
        "from heamy.dataset import Dataset"
      ],
      "execution_count": 0,
      "outputs": []
    },
    {
      "cell_type": "code",
      "metadata": {
        "id": "dV3J_3wDM9X4",
        "colab_type": "code",
        "colab": {}
      },
      "source": [
        "dataset = Dataset(X_train, y_train, X_test)\n",
        "\n",
        "# модели первого уровня\n",
        "model_tree = Classifier(dataset=dataset, estimator=DecisionTreeClassifier, parameters = {'max_depth': 5, 'max_leaf_nodes': 24 , 'random_state': 42}, name='tree')\n",
        "model_svc = Classifier(dataset=dataset, estimator=RandomForestClassifier, parameters = {'n_estimators': 60, 'max_depth': 6, 'max_leaf_nodes': 24, 'random_state':42}, name='rfc')\n",
        "model_rf = Classifier(dataset=dataset, estimator=SGDClassifier, parameters = {'loss': 'log','max_iter': 1000, 'tol': 1e-3, 'random_state': 42}, name='sgd')"
      ],
      "execution_count": 0,
      "outputs": []
    },
    {
      "cell_type": "code",
      "metadata": {
        "id": "38InaXzFM9zt",
        "colab_type": "code",
        "colab": {
          "base_uri": "https://localhost:8080/",
          "height": 448
        },
        "outputId": "171ccffe-abc5-4afe-ba01-8c0db1ea36d4"
      },
      "source": [
        "pipeline = ModelsPipeline(model_tree, model_svc, model_rf)\n",
        "\n",
        "stack_ds = pipeline.stack(k=10, seed=42)\n",
        "\n",
        "# модель второго уровня\n",
        "stacker = Classifier(dataset=stack_ds, estimator=SGDClassifier, parameters = {'loss': 'log'})\n",
        "results = stacker.predict()\n",
        "pred = []\n",
        "for result in results:\n",
        "    pred.append(list(result).index(max(result)))\n",
        "print(accuracy_score(pred, y_test))\n",
        "print_accuracy_score_for_classes(y_test, pred)\n",
        "plot_confusion_matrix(y_test, pred, \n",
        "                      classes=np.array(['C', 'PF', 'PG', 'SF', 'SG']),\n",
        "                      title='Confusion matrix, without normalization')"
      ],
      "execution_count": 35,
      "outputs": [
        {
          "output_type": "stream",
          "text": [
            "0.4551282051282051\n",
            "Метка \t Accuracy\n",
            "0 \t 0.39855072463768115\n",
            "1 \t 0.14646464646464646\n",
            "2 \t 0.5072463768115942\n",
            "3 \t 0.668918918918919\n",
            "4 \t 0.6455696202531646\n",
            "Confusion matrix, without normalization\n"
          ],
          "name": "stdout"
        },
        {
          "output_type": "execute_result",
          "data": {
            "text/plain": [
              "<matplotlib.axes._subplots.AxesSubplot at 0x7f7d2ff99390>"
            ]
          },
          "metadata": {
            "tags": []
          },
          "execution_count": 35
        },
        {
          "output_type": "display_data",
          "data": {
            "image/png": "[encoded data removed]",
            "text/plain": [
              "<Figure size 432x288 with 2 Axes>"
            ]
          },
          "metadata": {
            "tags": []
          }
        }
      ]
    },
    {
      "cell_type": "code",
      "metadata": {
        "id": "ivOP6HovM__l",
        "colab_type": "code",
        "colab": {
          "base_uri": "https://localhost:8080/",
          "height": 448
        },
        "outputId": "fa0f71b8-6924-4905-9e3f-f71b7454256b"
      },
      "source": [
        "from sklearn.ensemble import GradientBoostingClassifier\n",
        "    \n",
        "gbc = GradientBoostingClassifier(random_state=42)\n",
        "gbc.fit(X_train, y_train)\n",
        "print(gbc.score(X_test, y_test))\n",
        "y_pred = gbc.predict(X_test)\n",
        "print_accuracy_score_for_classes(y_test, y_pred)\n",
        "plot_confusion_matrix(y_test, y_pred, \n",
        "                      classes=np.array(['C', 'PF', 'PG', 'SF', 'SG']),\n",
        "                      title='Confusion matrix, without normalization')"
      ],
      "execution_count": 36,
      "outputs": [
        {
          "output_type": "stream",
          "text": [
            "0.5\n",
            "Метка \t Accuracy\n",
            "0 \t 0.36231884057971014\n",
            "1 \t 0.5050505050505051\n",
            "2 \t 0.6231884057971014\n",
            "3 \t 0.44594594594594594\n",
            "4 \t 0.5569620253164557\n",
            "Confusion matrix, without normalization\n"
          ],
          "name": "stdout"
        },
        {
          "output_type": "execute_result",
          "data": {
            "text/plain": [
              "<matplotlib.axes._subplots.AxesSubplot at 0x7f7d2fef36a0>"
            ]
          },
          "metadata": {
            "tags": []
          },
          "execution_count": 36
        },
        {
          "output_type": "display_data",
          "data": {
            "image/png": "[encoded data removed]",
            "text/plain": [
              "<Figure size 432x288 with 2 Axes>"
            ]
          },
          "metadata": {
            "tags": []
          }
        }
      ]
    },
    {
      "cell_type": "code",
      "metadata": {
        "id": "8T35J-nnNCne",
        "colab_type": "code",
        "colab": {}
      },
      "source": [
        "gbc_parameters = {'loss' : ['deviance'], \n",
        "                  'learning_rate': [0.01, 0.1, 1],\n",
        "                  'random_state': [42],\n",
        "                  'n_estimators': list(range(60, 100, 20)),\n",
        "                  'max_depth': list(range(3, 7, 2)),\n",
        "                  'max_leaf_nodes': list(range(16, 24, 4))}\n",
        "gbc_results = GridSearch_with_other_val(gbc, gbc_parameters)"
      ],
      "execution_count": 0,
      "outputs": []
    },
    {
      "cell_type": "code",
      "metadata": {
        "id": "vm7MTGcVNGqp",
        "colab_type": "code",
        "colab": {
          "base_uri": "https://localhost:8080/",
          "height": 353
        },
        "outputId": "4830f08f-8aa1-4531-d166-a67aaaa8658e"
      },
      "source": [
        "gbc_results"
      ],
      "execution_count": 38,
      "outputs": [
        {
          "output_type": "execute_result",
          "data": {
            "text/plain": [
              "[[1, ')', GradientBoostingClassifier(criterion='friedman_mse', init=None,\n",
              "                             learning_rate=0.1, loss='deviance', max_depth=3,\n",
              "                             max_features=None, max_leaf_nodes=16,\n",
              "                             min_impurity_decrease=0.0, min_impurity_split=None,\n",
              "                             min_samples_leaf=1, min_samples_split=2,\n",
              "                             min_weight_fraction_leaf=0.0, n_estimators=80,\n",
              "                             n_iter_no_change=None, presort='auto',\n",
              "                             random_state=42, subsample=1.0, tol=0.0001,\n",
              "                             validation_fraction=0.1, verbose=0,\n",
              "                             warm_start=False), ': ', 0.5158806544754572],\n",
              " [2, ')', GradientBoostingClassifier(criterion='friedman_mse', init=None,\n",
              "                             learning_rate=0.1, loss='deviance', max_depth=5,\n",
              "                             max_features=None, max_leaf_nodes=20,\n",
              "                             min_impurity_decrease=0.0, min_impurity_split=None,\n",
              "                             min_samples_leaf=1, min_samples_split=2,\n",
              "                             min_weight_fraction_leaf=0.0, n_estimators=60,\n",
              "                             n_iter_no_change=None, presort='auto',\n",
              "                             random_state=42, subsample=1.0, tol=0.0001,\n",
              "                             validation_fraction=0.1, verbose=0,\n",
              "                             warm_start=False), ': ', 0.5228205128205128]]"
            ]
          },
          "metadata": {
            "tags": []
          },
          "execution_count": 38
        }
      ]
    },
    {
      "cell_type": "code",
      "metadata": {
        "id": "ZDJzeS-8QzZY",
        "colab_type": "code",
        "colab": {
          "base_uri": "https://localhost:8080/",
          "height": 448
        },
        "outputId": "44f04968-8b14-4d99-a5c9-6e4a940a233b"
      },
      "source": [
        "gbc = GradientBoostingClassifier(learning_rate=0.1, loss='deviance',random_state=42, max_depth=5, max_leaf_nodes=20, n_estimators=80)\n",
        "gbc.fit(X_train, y_train)\n",
        "print(gbc.score(X_test, y_test))\n",
        "y_pred = gbc.predict(X_test)\n",
        "print_accuracy_score_for_classes(y_test, y_pred)\n",
        "plot_confusion_matrix(y_test, y_pred, \n",
        "                      classes=np.array(['C', 'PF', 'PG', 'SF', 'SG']),\n",
        "                      title='Confusion matrix, without normalization')\n"
      ],
      "execution_count": 39,
      "outputs": [
        {
          "output_type": "stream",
          "text": [
            "0.4935897435897436\n",
            "Метка \t Accuracy\n",
            "0 \t 0.36231884057971014\n",
            "1 \t 0.48484848484848486\n",
            "2 \t 0.6159420289855072\n",
            "3 \t 0.4527027027027027\n",
            "4 \t 0.5506329113924051\n",
            "Confusion matrix, without normalization\n"
          ],
          "name": "stdout"
        },
        {
          "output_type": "execute_result",
          "data": {
            "text/plain": [
              "<matplotlib.axes._subplots.AxesSubplot at 0x7f7d2fef0470>"
            ]
          },
          "metadata": {
            "tags": []
          },
          "execution_count": 39
        },
        {
          "output_type": "display_data",
          "data": {
            "image/png": "[encoded data removed]",
            "text/plain": [
              "<Figure size 432x288 with 2 Axes>"
            ]
          },
          "metadata": {
            "tags": []
          }
        }
      ]
    },
    {
      "cell_type": "code",
      "metadata": {
        "id": "dGzGYZS0Q3cS",
        "colab_type": "code",
        "colab": {}
      },
      "source": [
        ""
      ],
      "execution_count": 0,
      "outputs": []
    }
  ]
}