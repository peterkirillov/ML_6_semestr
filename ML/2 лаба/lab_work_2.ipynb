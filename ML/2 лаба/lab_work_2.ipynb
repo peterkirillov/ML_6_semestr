{
  "nbformat": 4,
  "nbformat_minor": 0,
  "metadata": {
    "colab": {
      "name": "lab_work_2.ipynb",
      "version": "0.3.2",
      "provenance": [],
      "collapsed_sections": []
    },
    "kernelspec": {
      "name": "python3",
      "display_name": "Python 3"
    }
  },
  "cells": [
    {
      "cell_type": "code",
      "metadata": {
        "id": "lE7DGramVsqp",
        "colab_type": "code",
        "colab": {}
      },
      "source": [
        "import numpy as np\n",
        "import pandas as pd"
      ],
      "execution_count": 0,
      "outputs": []
    },
    {
      "cell_type": "code",
      "metadata": {
        "id": "vHaMw-rhV6IL",
        "colab_type": "code",
        "colab": {
          "base_uri": "https://localhost:8080/",
          "height": 383
        },
        "outputId": "61066988-b309-4eb0-8a62-4b3a086e2747"
      },
      "source": [
        "data = pd.read_csv('sample_data/adult.data.csv')\n",
        "data.head()\n"
      ],
      "execution_count": 15,
      "outputs": [
        {
          "output_type": "execute_result",
          "data": {
            "text/html": [
              "<div>\n",
              "<style scoped>\n",
              "    .dataframe tbody tr th:only-of-type {\n",
              "        vertical-align: middle;\n",
              "    }\n",
              "\n",
              "    .dataframe tbody tr th {\n",
              "        vertical-align: top;\n",
              "    }\n",
              "\n",
              "    .dataframe thead th {\n",
              "        text-align: right;\n",
              "    }\n",
              "</style>\n",
              "<table border=\"1\" class=\"dataframe\">\n",
              "  <thead>\n",
              "    <tr style=\"text-align: right;\">\n",
              "      <th></th>\n",
              "      <th>age</th>\n",
              "      <th>workclass</th>\n",
              "      <th>fnlwgt</th>\n",
              "      <th>education</th>\n",
              "      <th>education-num</th>\n",
              "      <th>marital-status</th>\n",
              "      <th>occupation</th>\n",
              "      <th>relationship</th>\n",
              "      <th>race</th>\n",
              "      <th>sex</th>\n",
              "      <th>capital-gain</th>\n",
              "      <th>capital-loss</th>\n",
              "      <th>hours-per-week</th>\n",
              "      <th>native-country</th>\n",
              "      <th>salary</th>\n",
              "    </tr>\n",
              "  </thead>\n",
              "  <tbody>\n",
              "    <tr>\n",
              "      <th>0</th>\n",
              "      <td>39</td>\n",
              "      <td>State-gov</td>\n",
              "      <td>77516</td>\n",
              "      <td>Bachelors</td>\n",
              "      <td>13</td>\n",
              "      <td>Never-married</td>\n",
              "      <td>Adm-clerical</td>\n",
              "      <td>Not-in-family</td>\n",
              "      <td>White</td>\n",
              "      <td>Male</td>\n",
              "      <td>2174</td>\n",
              "      <td>0</td>\n",
              "      <td>40</td>\n",
              "      <td>United-States</td>\n",
              "      <td>&lt;=50K</td>\n",
              "    </tr>\n",
              "    <tr>\n",
              "      <th>1</th>\n",
              "      <td>50</td>\n",
              "      <td>Self-emp-not-inc</td>\n",
              "      <td>83311</td>\n",
              "      <td>Bachelors</td>\n",
              "      <td>13</td>\n",
              "      <td>Married-civ-spouse</td>\n",
              "      <td>Exec-managerial</td>\n",
              "      <td>Husband</td>\n",
              "      <td>White</td>\n",
              "      <td>Male</td>\n",
              "      <td>0</td>\n",
              "      <td>0</td>\n",
              "      <td>13</td>\n",
              "      <td>United-States</td>\n",
              "      <td>&lt;=50K</td>\n",
              "    </tr>\n",
              "    <tr>\n",
              "      <th>2</th>\n",
              "      <td>38</td>\n",
              "      <td>Private</td>\n",
              "      <td>215646</td>\n",
              "      <td>HS-grad</td>\n",
              "      <td>9</td>\n",
              "      <td>Divorced</td>\n",
              "      <td>Handlers-cleaners</td>\n",
              "      <td>Not-in-family</td>\n",
              "      <td>White</td>\n",
              "      <td>Male</td>\n",
              "      <td>0</td>\n",
              "      <td>0</td>\n",
              "      <td>40</td>\n",
              "      <td>United-States</td>\n",
              "      <td>&lt;=50K</td>\n",
              "    </tr>\n",
              "    <tr>\n",
              "      <th>3</th>\n",
              "      <td>53</td>\n",
              "      <td>Private</td>\n",
              "      <td>234721</td>\n",
              "      <td>11th</td>\n",
              "      <td>7</td>\n",
              "      <td>Married-civ-spouse</td>\n",
              "      <td>Handlers-cleaners</td>\n",
              "      <td>Husband</td>\n",
              "      <td>Black</td>\n",
              "      <td>Male</td>\n",
              "      <td>0</td>\n",
              "      <td>0</td>\n",
              "      <td>40</td>\n",
              "      <td>United-States</td>\n",
              "      <td>&lt;=50K</td>\n",
              "    </tr>\n",
              "    <tr>\n",
              "      <th>4</th>\n",
              "      <td>28</td>\n",
              "      <td>Private</td>\n",
              "      <td>338409</td>\n",
              "      <td>Bachelors</td>\n",
              "      <td>13</td>\n",
              "      <td>Married-civ-spouse</td>\n",
              "      <td>Prof-specialty</td>\n",
              "      <td>Wife</td>\n",
              "      <td>Black</td>\n",
              "      <td>Female</td>\n",
              "      <td>0</td>\n",
              "      <td>0</td>\n",
              "      <td>40</td>\n",
              "      <td>Cuba</td>\n",
              "      <td>&lt;=50K</td>\n",
              "    </tr>\n",
              "  </tbody>\n",
              "</table>\n",
              "</div>"
            ],
            "text/plain": [
              "   age         workclass  fnlwgt  ... hours-per-week  native-country salary\n",
              "0   39         State-gov   77516  ...             40   United-States  <=50K\n",
              "1   50  Self-emp-not-inc   83311  ...             13   United-States  <=50K\n",
              "2   38           Private  215646  ...             40   United-States  <=50K\n",
              "3   53           Private  234721  ...             40   United-States  <=50K\n",
              "4   28           Private  338409  ...             40            Cuba  <=50K\n",
              "\n",
              "[5 rows x 15 columns]"
            ]
          },
          "metadata": {
            "tags": []
          },
          "execution_count": 15
        }
      ]
    },
    {
      "cell_type": "code",
      "metadata": {
        "id": "uuVDdFKNV_yh",
        "colab_type": "code",
        "colab": {
          "base_uri": "https://localhost:8080/",
          "height": 67
        },
        "outputId": "3a2001c1-a93d-489b-c538-a307248b5a1b"
      },
      "source": [
        "data['sex'].value_counts()"
      ],
      "execution_count": 16,
      "outputs": [
        {
          "output_type": "execute_result",
          "data": {
            "text/plain": [
              "Male      12875\n",
              "Female     6359\n",
              "Name: sex, dtype: int64"
            ]
          },
          "metadata": {
            "tags": []
          },
          "execution_count": 16
        }
      ]
    },
    {
      "cell_type": "code",
      "metadata": {
        "id": "T6PQru4AgrkD",
        "colab_type": "code",
        "colab": {
          "base_uri": "https://localhost:8080/",
          "height": 34
        },
        "outputId": "6555f6db-b18e-47c0-f39d-5e914cb7ea4f"
      },
      "source": [
        "data.loc[data['sex'] == 'Female', 'age'].mean()"
      ],
      "execution_count": 17,
      "outputs": [
        {
          "output_type": "execute_result",
          "data": {
            "text/plain": [
              "37.05016512030193"
            ]
          },
          "metadata": {
            "tags": []
          },
          "execution_count": 17
        }
      ]
    },
    {
      "cell_type": "code",
      "metadata": {
        "id": "1R0Amj3Vl910",
        "colab_type": "code",
        "colab": {
          "base_uri": "https://localhost:8080/",
          "height": 34
        },
        "outputId": "9bbec8c4-1e5f-4c5a-c118-42a1766e02e6"
      },
      "source": [
        "float((data['native-country'] == 'Germany').sum()) / data.shape[0]"
      ],
      "execution_count": 18,
      "outputs": [
        {
          "output_type": "execute_result",
          "data": {
            "text/plain": [
              "0.004315275033794323"
            ]
          },
          "metadata": {
            "tags": []
          },
          "execution_count": 18
        }
      ]
    },
    {
      "cell_type": "code",
      "metadata": {
        "id": "XFHduSt7mHU2",
        "colab_type": "code",
        "colab": {
          "base_uri": "https://localhost:8080/",
          "height": 34
        },
        "outputId": "f5a86636-c8ff-4b1e-98dd-25ab80f953c2"
      },
      "source": [
        "ages1 = data.loc[data['salary'] == '>50K', 'age']\n",
        "ages2 = data.loc[data['salary'] == '<=50K', 'age']\n",
        "print(\"The average age of the rich: {0} +- {1} years, poor - {2} +- {3} years.\".format(\n",
        "    round(ages1.mean()), round(ages1.std(), 1),\n",
        "    round(ages2.mean()), round(ages2.std(), 1)))"
      ],
      "execution_count": 19,
      "outputs": [
        {
          "output_type": "stream",
          "text": [
            "The average age of the rich: 44 +- 10.4 years, poor - 37 +- 14.1 years.\n"
          ],
          "name": "stdout"
        }
      ]
    },
    {
      "cell_type": "code",
      "metadata": {
        "id": "lglx6tfjmKPH",
        "colab_type": "code",
        "colab": {
          "base_uri": "https://localhost:8080/",
          "height": 67
        },
        "outputId": "40735fbf-d903-449d-88b8-d7f682b3cfcf"
      },
      "source": [
        "data.loc[data['salary'] == '>50K', 'education'].unique() # No"
      ],
      "execution_count": 20,
      "outputs": [
        {
          "output_type": "execute_result",
          "data": {
            "text/plain": [
              "array(['HS-grad', 'Masters', 'Bachelors', 'Some-college', 'Assoc-voc',\n",
              "       'Doctorate', 'Prof-school', 'Assoc-acdm', '7th-8th', '12th',\n",
              "       '10th', '11th', '9th', '5th-6th', '1st-4th'], dtype=object)"
            ]
          },
          "metadata": {
            "tags": []
          },
          "execution_count": 20
        }
      ]
    },
    {
      "cell_type": "code",
      "metadata": {
        "id": "ZtdHCwbMmOzf",
        "colab_type": "code",
        "colab": {
          "base_uri": "https://localhost:8080/",
          "height": 1697
        },
        "outputId": "ec49e29b-f820-46a8-e17d-cc4ec71025e3"
      },
      "source": [
        "for (race, sex), sub_df in data.groupby(['race', 'sex']):\n",
        "    print(\"Race: {0}, sex: {1}\".format(race, sex))\n",
        "    print(sub_df['age'].describe())"
      ],
      "execution_count": 21,
      "outputs": [
        {
          "output_type": "stream",
          "text": [
            "Race: Amer-Indian-Eskimo, sex: Female\n",
            "count    70.000000\n",
            "mean     36.314286\n",
            "std      13.193699\n",
            "min      17.000000\n",
            "25%      25.000000\n",
            "50%      35.000000\n",
            "75%      42.000000\n",
            "max      68.000000\n",
            "Name: age, dtype: float64\n",
            "Race: Amer-Indian-Eskimo, sex: Male\n",
            "count    113.000000\n",
            "mean      36.743363\n",
            "std       12.036239\n",
            "min       18.000000\n",
            "25%       28.000000\n",
            "50%       35.000000\n",
            "75%       45.000000\n",
            "max       82.000000\n",
            "Name: age, dtype: float64\n",
            "Race: Asian-Pac-Islander, sex: Female\n",
            "count    205.000000\n",
            "mean      36.234146\n",
            "std       12.737693\n",
            "min       17.000000\n",
            "25%       26.000000\n",
            "50%       35.000000\n",
            "75%       45.000000\n",
            "max       75.000000\n",
            "Name: age, dtype: float64\n",
            "Race: Asian-Pac-Islander, sex: Male\n",
            "count    398.000000\n",
            "mean      39.055276\n",
            "std       12.899220\n",
            "min       19.000000\n",
            "25%       29.000000\n",
            "50%       37.000000\n",
            "75%       47.000000\n",
            "max       90.000000\n",
            "Name: age, dtype: float64\n",
            "Race: Black, sex: Female\n",
            "count    896.000000\n",
            "mean      37.782366\n",
            "std       12.798680\n",
            "min       17.000000\n",
            "25%       27.000000\n",
            "50%       36.500000\n",
            "75%       46.250000\n",
            "max       90.000000\n",
            "Name: age, dtype: float64\n",
            "Race: Black, sex: Male\n",
            "count    914.000000\n",
            "mean      37.550328\n",
            "std       12.972808\n",
            "min       17.000000\n",
            "25%       27.250000\n",
            "50%       36.000000\n",
            "75%       46.000000\n",
            "max       90.000000\n",
            "Name: age, dtype: float64\n",
            "Race: Other, sex: Female\n",
            "count    64.000000\n",
            "mean     33.031250\n",
            "std      11.162535\n",
            "min      17.000000\n",
            "25%      24.750000\n",
            "50%      31.000000\n",
            "75%      41.500000\n",
            "max      66.000000\n",
            "Name: age, dtype: float64\n",
            "Race: Other, sex: Male\n",
            "count    99.000000\n",
            "mean     33.939394\n",
            "std      11.742838\n",
            "min      17.000000\n",
            "25%      26.000000\n",
            "50%      31.000000\n",
            "75%      41.000000\n",
            "max      77.000000\n",
            "Name: age, dtype: float64\n",
            "Race: White, sex: Female\n",
            "count    5124.000000\n",
            "mean       37.015027\n",
            "std        14.405655\n",
            "min        17.000000\n",
            "25%        25.000000\n",
            "50%        35.000000\n",
            "75%        46.000000\n",
            "max        90.000000\n",
            "Name: age, dtype: float64\n",
            "Race: White, sex: Male\n",
            "count    11351.000000\n",
            "mean        39.588847\n",
            "std         13.418037\n",
            "min         17.000000\n",
            "25%         29.000000\n",
            "50%         38.000000\n",
            "75%         49.000000\n",
            "max         90.000000\n",
            "Name: age, dtype: float64\n"
          ],
          "name": "stdout"
        }
      ]
    },
    {
      "cell_type": "code",
      "metadata": {
        "id": "SQB5VNlpmRJK",
        "colab_type": "code",
        "colab": {
          "base_uri": "https://localhost:8080/",
          "height": 84
        },
        "outputId": "af39848b-28fd-4c67-c20d-8a4737771e6e"
      },
      "source": [
        "data.loc[(data['sex'] == 'Male') &\n",
        "     (data['marital-status'].isin(['Never-married', \n",
        "                                   'Separated', \n",
        "                                   'Divorced',\n",
        "                                   'Widowed'])), 'salary'].value_counts()"
      ],
      "execution_count": 22,
      "outputs": [
        {
          "output_type": "execute_result",
          "data": {
            "text/plain": [
              "<=50K    4507\n",
              ">50K      416\n",
              "<=5         1\n",
              "Name: salary, dtype: int64"
            ]
          },
          "metadata": {
            "tags": []
          },
          "execution_count": 22
        }
      ]
    },
    {
      "cell_type": "code",
      "metadata": {
        "id": "dAS91F0LmUd6",
        "colab_type": "code",
        "colab": {
          "base_uri": "https://localhost:8080/",
          "height": 67
        },
        "outputId": "9871b05d-846e-46ba-946a-a6c720edfc1f"
      },
      "source": [
        "data.loc[(data['sex'] == 'Male') &\n",
        "     (data['marital-status'].str.startswith('Married')), 'salary'].value_counts()"
      ],
      "execution_count": 23,
      "outputs": [
        {
          "output_type": "execute_result",
          "data": {
            "text/plain": [
              "<=50K    4470\n",
              ">50K     3481\n",
              "Name: salary, dtype: int64"
            ]
          },
          "metadata": {
            "tags": []
          },
          "execution_count": 23
        }
      ]
    },
    {
      "cell_type": "code",
      "metadata": {
        "id": "YAnnMoaCmuMt",
        "colab_type": "code",
        "colab": {
          "base_uri": "https://localhost:8080/",
          "height": 151
        },
        "outputId": "f61c0e1c-e22f-4414-9a7c-095786a1a0cf"
      },
      "source": [
        "data['marital-status'].value_counts()"
      ],
      "execution_count": 24,
      "outputs": [
        {
          "output_type": "execute_result",
          "data": {
            "text/plain": [
              "Married-civ-spouse       8821\n",
              "Never-married            6321\n",
              "Divorced                 2632\n",
              "Widowed                   601\n",
              "Separated                 599\n",
              "Married-spouse-absent     245\n",
              "Married-AF-spouse          15\n",
              "Name: marital-status, dtype: int64"
            ]
          },
          "metadata": {
            "tags": []
          },
          "execution_count": 24
        }
      ]
    },
    {
      "cell_type": "code",
      "metadata": {
        "id": "3PeOIrj2mwzw",
        "colab_type": "code",
        "colab": {
          "base_uri": "https://localhost:8080/",
          "height": 67
        },
        "outputId": "187c8e26-117a-43f5-ea69-6f47f720be0e"
      },
      "source": [
        "max_load = data['hours-per-week'].max()\n",
        "print(\"Max time - {0} hours./week.\".format(max_load))\n",
        "\n",
        "num_workaholics = data[data['hours-per-week'] == max_load].shape[0]\n",
        "print(\"Total number of such hard workers {0}\".format(num_workaholics))\n",
        "\n",
        "rich_share = float(data[(data['hours-per-week'] == max_load)\n",
        "                 & (data['salary'] == '>50K')].shape[0]) / num_workaholics\n",
        "print(\"Percentage of rich among them {0}%\".format(int(100 * rich_share)))"
      ],
      "execution_count": 25,
      "outputs": [
        {
          "output_type": "stream",
          "text": [
            "Max time - 99 hours./week.\n",
            "Total number of such hard workers 43\n",
            "Percentage of rich among them 27%\n"
          ],
          "name": "stdout"
        }
      ]
    },
    {
      "cell_type": "code",
      "metadata": {
        "id": "EGGWEQQymzl-",
        "colab_type": "code",
        "colab": {
          "base_uri": "https://localhost:8080/",
          "height": 1361
        },
        "outputId": "5bd03bfb-626a-4d8b-80d5-870925c2beac"
      },
      "source": [
        "for (country, salary), sub_df in data.groupby(['native-country', 'salary']):\n",
        "    print(country, salary, round(sub_df['hours-per-week'].mean(), 2))"
      ],
      "execution_count": 26,
      "outputs": [
        {
          "output_type": "stream",
          "text": [
            "? <=50K 39.44\n",
            "? >50K 46.09\n",
            "Cambodia <=50K 41.89\n",
            "Cambodia >50K 40.0\n",
            "Canada <=50K 36.73\n",
            "Canada >50K 47.07\n",
            "China <=50K 37.08\n",
            "China >50K 40.0\n",
            "Columbia <=50K 39.66\n",
            "Columbia >50K 50.0\n",
            "Cuba <=50K 37.74\n",
            "Cuba >50K 35.23\n",
            "Dominican-Republic <=50K 41.2\n",
            "Dominican-Republic >50K 47.0\n",
            "Ecuador <=50K 36.29\n",
            "Ecuador >50K 50.0\n",
            "El-Salvador <=50K 36.35\n",
            "El-Salvador >50K 45.0\n",
            "England <=50K 40.85\n",
            "England >50K 41.52\n",
            "France <=50K 45.22\n",
            "France >50K 61.0\n",
            "Germany <=50K 38.31\n",
            "Germany >50K 45.04\n",
            "Greece <=50K 45.6\n",
            "Greece >50K 48.75\n",
            "Guatemala <=50K 39.1\n",
            "Guatemala >50K 40.0\n",
            "Haiti <=50K 34.24\n",
            "Haiti >50K 40.0\n",
            "Honduras <=50K 31.0\n",
            "Honduras >50K 60.0\n",
            "Hong <=50K 37.83\n",
            "Hong >50K 52.5\n",
            "Hungary <=50K 30.5\n",
            "Hungary >50K 40.0\n",
            "India <=50K 39.68\n",
            "India >50K 44.1\n",
            "Iran <=50K 41.28\n",
            "Iran >50K 47.92\n",
            "Ireland <=50K 39.83\n",
            "Ireland >50K 50.0\n",
            "Italy <=50K 37.04\n",
            "Italy >50K 44.61\n",
            "Jamaica <=50K 40.0\n",
            "Jamaica >50K 42.57\n",
            "Japan <=50K 40.92\n",
            "Japan >50K 46.15\n",
            "Laos <=50K 40.0\n",
            "Mexico <=50K 39.79\n",
            "Mexico >50K 48.27\n",
            "Nicaragua <=50K 34.94\n",
            "Nicaragua >50K 37.5\n",
            "Outlying-US(Guam-USVI-etc) <=50K 43.14\n",
            "Peru <=50K 35.2\n",
            "Peru >50K 40.0\n",
            "Philippines <=50K 38.86\n",
            "Philippines >50K 42.63\n",
            "Poland <=50K 39.97\n",
            "Poland >50K 38.67\n",
            "Portugal <=50K 39.58\n",
            "Portugal >50K 42.0\n",
            "Puerto-Rico <=50K 38.43\n",
            "Puerto-Rico >50K 39.12\n",
            "Scotland <=50K 36.67\n",
            "South <=50K 41.77\n",
            "South >50K 51.79\n",
            "Taiwan <=50K 39.67\n",
            "Taiwan >50K 47.73\n",
            "Thailand <=50K 50.14\n",
            "Thailand >50K 62.5\n",
            "Trinadad&Tobago <=50K 35.57\n",
            "Trinadad&Tobago >50K 40.0\n",
            "United-States <=5 40.0\n",
            "United-States <=50K 38.82\n",
            "United-States >50K 45.31\n",
            "Vietnam <=50K 38.38\n",
            "Vietnam >50K 40.0\n",
            "Yugoslavia <=50K 42.0\n",
            "Yugoslavia >50K 40.0\n"
          ],
          "name": "stdout"
        }
      ]
    },
    {
      "cell_type": "code",
      "metadata": {
        "id": "jl6_Y1s4m171",
        "colab_type": "code",
        "colab": {
          "base_uri": "https://localhost:8080/",
          "height": 219
        },
        "outputId": "f5e120a5-7d15-4ea2-c08b-66c276ce1732"
      },
      "source": [
        "pd.crosstab(data['native-country'], data['salary'], \n",
        "           values=data['hours-per-week'], aggfunc=np.mean).T"
      ],
      "execution_count": 27,
      "outputs": [
        {
          "output_type": "execute_result",
          "data": {
            "text/html": [
              "<div>\n",
              "<style scoped>\n",
              "    .dataframe tbody tr th:only-of-type {\n",
              "        vertical-align: middle;\n",
              "    }\n",
              "\n",
              "    .dataframe tbody tr th {\n",
              "        vertical-align: top;\n",
              "    }\n",
              "\n",
              "    .dataframe thead th {\n",
              "        text-align: right;\n",
              "    }\n",
              "</style>\n",
              "<table border=\"1\" class=\"dataframe\">\n",
              "  <thead>\n",
              "    <tr style=\"text-align: right;\">\n",
              "      <th>native-country</th>\n",
              "      <th>?</th>\n",
              "      <th>Cambodia</th>\n",
              "      <th>Canada</th>\n",
              "      <th>China</th>\n",
              "      <th>Columbia</th>\n",
              "      <th>Cuba</th>\n",
              "      <th>Dominican-Republic</th>\n",
              "      <th>Ecuador</th>\n",
              "      <th>El-Salvador</th>\n",
              "      <th>England</th>\n",
              "      <th>France</th>\n",
              "      <th>Germany</th>\n",
              "      <th>Greece</th>\n",
              "      <th>Guatemala</th>\n",
              "      <th>Haiti</th>\n",
              "      <th>Honduras</th>\n",
              "      <th>Hong</th>\n",
              "      <th>Hungary</th>\n",
              "      <th>India</th>\n",
              "      <th>Iran</th>\n",
              "      <th>Ireland</th>\n",
              "      <th>Italy</th>\n",
              "      <th>Jamaica</th>\n",
              "      <th>Japan</th>\n",
              "      <th>Laos</th>\n",
              "      <th>Mexico</th>\n",
              "      <th>Nicaragua</th>\n",
              "      <th>Outlying-US(Guam-USVI-etc)</th>\n",
              "      <th>Peru</th>\n",
              "      <th>Philippines</th>\n",
              "      <th>Poland</th>\n",
              "      <th>Portugal</th>\n",
              "      <th>Puerto-Rico</th>\n",
              "      <th>Scotland</th>\n",
              "      <th>South</th>\n",
              "      <th>Taiwan</th>\n",
              "      <th>Thailand</th>\n",
              "      <th>Trinadad&amp;Tobago</th>\n",
              "      <th>United-States</th>\n",
              "      <th>Vietnam</th>\n",
              "      <th>Yugoslavia</th>\n",
              "    </tr>\n",
              "    <tr>\n",
              "      <th>salary</th>\n",
              "      <th></th>\n",
              "      <th></th>\n",
              "      <th></th>\n",
              "      <th></th>\n",
              "      <th></th>\n",
              "      <th></th>\n",
              "      <th></th>\n",
              "      <th></th>\n",
              "      <th></th>\n",
              "      <th></th>\n",
              "      <th></th>\n",
              "      <th></th>\n",
              "      <th></th>\n",
              "      <th></th>\n",
              "      <th></th>\n",
              "      <th></th>\n",
              "      <th></th>\n",
              "      <th></th>\n",
              "      <th></th>\n",
              "      <th></th>\n",
              "      <th></th>\n",
              "      <th></th>\n",
              "      <th></th>\n",
              "      <th></th>\n",
              "      <th></th>\n",
              "      <th></th>\n",
              "      <th></th>\n",
              "      <th></th>\n",
              "      <th></th>\n",
              "      <th></th>\n",
              "      <th></th>\n",
              "      <th></th>\n",
              "      <th></th>\n",
              "      <th></th>\n",
              "      <th></th>\n",
              "      <th></th>\n",
              "      <th></th>\n",
              "      <th></th>\n",
              "      <th></th>\n",
              "      <th></th>\n",
              "      <th></th>\n",
              "    </tr>\n",
              "  </thead>\n",
              "  <tbody>\n",
              "    <tr>\n",
              "      <th>&lt;=5</th>\n",
              "      <td>NaN</td>\n",
              "      <td>NaN</td>\n",
              "      <td>NaN</td>\n",
              "      <td>NaN</td>\n",
              "      <td>NaN</td>\n",
              "      <td>NaN</td>\n",
              "      <td>NaN</td>\n",
              "      <td>NaN</td>\n",
              "      <td>NaN</td>\n",
              "      <td>NaN</td>\n",
              "      <td>NaN</td>\n",
              "      <td>NaN</td>\n",
              "      <td>NaN</td>\n",
              "      <td>NaN</td>\n",
              "      <td>NaN</td>\n",
              "      <td>NaN</td>\n",
              "      <td>NaN</td>\n",
              "      <td>NaN</td>\n",
              "      <td>NaN</td>\n",
              "      <td>NaN</td>\n",
              "      <td>NaN</td>\n",
              "      <td>NaN</td>\n",
              "      <td>NaN</td>\n",
              "      <td>NaN</td>\n",
              "      <td>NaN</td>\n",
              "      <td>NaN</td>\n",
              "      <td>NaN</td>\n",
              "      <td>NaN</td>\n",
              "      <td>NaN</td>\n",
              "      <td>NaN</td>\n",
              "      <td>NaN</td>\n",
              "      <td>NaN</td>\n",
              "      <td>NaN</td>\n",
              "      <td>NaN</td>\n",
              "      <td>NaN</td>\n",
              "      <td>NaN</td>\n",
              "      <td>NaN</td>\n",
              "      <td>NaN</td>\n",
              "      <td>40.000000</td>\n",
              "      <td>NaN</td>\n",
              "      <td>NaN</td>\n",
              "    </tr>\n",
              "    <tr>\n",
              "      <th>&lt;=50K</th>\n",
              "      <td>39.438247</td>\n",
              "      <td>41.888889</td>\n",
              "      <td>36.725490</td>\n",
              "      <td>37.083333</td>\n",
              "      <td>39.655172</td>\n",
              "      <td>37.744681</td>\n",
              "      <td>41.2</td>\n",
              "      <td>36.294118</td>\n",
              "      <td>36.345455</td>\n",
              "      <td>40.853659</td>\n",
              "      <td>45.222222</td>\n",
              "      <td>38.309091</td>\n",
              "      <td>45.60</td>\n",
              "      <td>39.102564</td>\n",
              "      <td>34.24</td>\n",
              "      <td>31.0</td>\n",
              "      <td>37.833333</td>\n",
              "      <td>30.5</td>\n",
              "      <td>39.677419</td>\n",
              "      <td>41.277778</td>\n",
              "      <td>39.833333</td>\n",
              "      <td>37.043478</td>\n",
              "      <td>40.000000</td>\n",
              "      <td>40.920000</td>\n",
              "      <td>40.0</td>\n",
              "      <td>39.793956</td>\n",
              "      <td>34.944444</td>\n",
              "      <td>43.142857</td>\n",
              "      <td>35.2</td>\n",
              "      <td>38.858824</td>\n",
              "      <td>39.968750</td>\n",
              "      <td>39.578947</td>\n",
              "      <td>38.432836</td>\n",
              "      <td>36.666667</td>\n",
              "      <td>41.769231</td>\n",
              "      <td>39.666667</td>\n",
              "      <td>50.142857</td>\n",
              "      <td>35.571429</td>\n",
              "      <td>38.819515</td>\n",
              "      <td>38.378378</td>\n",
              "      <td>42.0</td>\n",
              "    </tr>\n",
              "    <tr>\n",
              "      <th>&gt;50K</th>\n",
              "      <td>46.088889</td>\n",
              "      <td>40.000000</td>\n",
              "      <td>47.071429</td>\n",
              "      <td>40.000000</td>\n",
              "      <td>50.000000</td>\n",
              "      <td>35.230769</td>\n",
              "      <td>47.0</td>\n",
              "      <td>50.000000</td>\n",
              "      <td>45.000000</td>\n",
              "      <td>41.523810</td>\n",
              "      <td>61.000000</td>\n",
              "      <td>45.035714</td>\n",
              "      <td>48.75</td>\n",
              "      <td>40.000000</td>\n",
              "      <td>40.00</td>\n",
              "      <td>60.0</td>\n",
              "      <td>52.500000</td>\n",
              "      <td>40.0</td>\n",
              "      <td>44.100000</td>\n",
              "      <td>47.916667</td>\n",
              "      <td>50.000000</td>\n",
              "      <td>44.611111</td>\n",
              "      <td>42.571429</td>\n",
              "      <td>46.153846</td>\n",
              "      <td>NaN</td>\n",
              "      <td>48.272727</td>\n",
              "      <td>37.500000</td>\n",
              "      <td>NaN</td>\n",
              "      <td>40.0</td>\n",
              "      <td>42.633333</td>\n",
              "      <td>38.666667</td>\n",
              "      <td>42.000000</td>\n",
              "      <td>39.125000</td>\n",
              "      <td>NaN</td>\n",
              "      <td>51.785714</td>\n",
              "      <td>47.733333</td>\n",
              "      <td>62.500000</td>\n",
              "      <td>40.000000</td>\n",
              "      <td>45.311021</td>\n",
              "      <td>40.000000</td>\n",
              "      <td>40.0</td>\n",
              "    </tr>\n",
              "  </tbody>\n",
              "</table>\n",
              "</div>"
            ],
            "text/plain": [
              "native-country          ?   Cambodia  ...    Vietnam  Yugoslavia\n",
              "salary                                ...                       \n",
              "<=5                   NaN        NaN  ...        NaN         NaN\n",
              "<=50K           39.438247  41.888889  ...  38.378378        42.0\n",
              ">50K            46.088889  40.000000  ...  40.000000        40.0\n",
              "\n",
              "[3 rows x 41 columns]"
            ]
          },
          "metadata": {
            "tags": []
          },
          "execution_count": 27
        }
      ]
    },
    {
      "cell_type": "code",
      "metadata": {
        "id": "KTnNQyy7m4-1",
        "colab_type": "code",
        "colab": {}
      },
      "source": [
        ""
      ],
      "execution_count": 0,
      "outputs": []
    }
  ]
}